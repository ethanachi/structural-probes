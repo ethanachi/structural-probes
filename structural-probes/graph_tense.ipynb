{
 "cells": [
  {
   "cell_type": "code",
   "execution_count": 2,
   "metadata": {},
   "outputs": [],
   "source": [
    "import numpy as np\n",
    "import pandas as pd\n",
    "import torch\n",
    "import torch.nn as nn\n",
    "import matplotlib.pyplot as plt"
   ]
  },
  {
   "cell_type": "code",
   "execution_count": 3,
   "metadata": {},
   "outputs": [
    {
     "name": "stdout",
     "output_type": "stream",
     "text": [
      "(65536, 30, 768)\n"
     ]
    }
   ],
   "source": [
    "data = np.load('/u/scr/ethanchi/embeddings/temporal/representations.npy')\n",
    "print(data.shape)"
   ]
  },
  {
   "cell_type": "code",
   "execution_count": 4,
   "metadata": {},
   "outputs": [],
   "source": [
    "labels = pd.read_csv('/u/scr/ethanchi/embeddings/temporal/sentences.txt', sep=\"\\t\")"
   ]
  },
  {
   "cell_type": "code",
   "execution_count": 5,
   "metadata": {},
   "outputs": [
    {
     "name": "stdout",
     "output_type": "stream",
     "text": [
      "(16384, 11)\n"
     ]
    }
   ],
   "source": [
    "cut_data = data[(labels['verb1_char'] == 1) & (labels['verb2_char'] == 1)]\n",
    "both_past = labels[(labels['verb1_char'] == 1) & (labels['verb2_char'] == 1)]\n",
    "print(both_past.shape)\n"
   ]
  },
  {
   "cell_type": "code",
   "execution_count": 6,
   "metadata": {},
   "outputs": [
    {
     "name": "stdout",
     "output_type": "stream",
     "text": [
      "[2 2 2 ... 2 2 2]\n",
      "[-1 -1 -1 ...  1  1  1]\n"
     ]
    }
   ],
   "source": [
    "# we train a direction vector\n",
    "verb1_indices = both_past['verb1'].astype('int32').values\n",
    "print(verb1_indices)\n",
    "verb2_indices = both_past['verb2'].astype('int32').values\n",
    "\n",
    "directions = np.where(both_past['connector_char'] == 'past', 1, -1)\n",
    "print(directions)"
   ]
  },
  {
   "cell_type": "code",
   "execution_count": 7,
   "metadata": {},
   "outputs": [
    {
     "name": "stdout",
     "output_type": "stream",
     "text": [
      "(16384, 11)\n",
      "(16384, 768) (16384, 768)\n"
     ]
    }
   ],
   "source": [
    "print(both_past.shape)\n",
    "verb1_embeddings = cut_data[np.arange(both_past.shape[0]), list(verb1_indices), :]\n",
    "verb2_embeddings = cut_data[np.arange(both_past.shape[0]), list(verb2_indices), :]\n",
    "\n",
    "print(verb1_embeddings.shape, verb2_embeddings.shape)"
   ]
  },
  {
   "cell_type": "code",
   "execution_count": 23,
   "metadata": {},
   "outputs": [],
   "source": [
    "data_raw = (verb1_embeddings - verb2_embeddings) * directions[:, np.newaxis]\n",
    "indices = np.arange(data_raw.shape[0])\n",
    "np.random.shuffle(indices)\n",
    "\n",
    "sep = int(indices.shape[0] * .9)\n",
    "\n",
    "train_set_raw = data_raw[:sep]\n",
    "test_set_raw = data_raw[sep:]\n",
    "\n",
    "train_labels = both_past[:sep]\n",
    "test_labels = both_past[sep:]\n",
    "\n",
    "# train_set_raw = \n",
    "# test_set_raw = \n",
    "\n",
    "train_set = train_set_raw / np.linalg.norm(train_set_raw, axis=1, keepdims=True)\n",
    "test_set = test_set_raw / np.linalg.norm(test_set_raw, axis=1, keepdims=True)"
   ]
  },
  {
   "cell_type": "code",
   "execution_count": 9,
   "metadata": {},
   "outputs": [
    {
     "name": "stdout",
     "output_type": "stream",
     "text": [
      "Epoch 0, train score -5.7520668633515015e-05, test score 0.0002788833517115563\n",
      "Epoch 100, train score 0.012569215148687363, test score 0.012704465538263321\n",
      "Epoch 200, train score 0.024264929816126823, test score 0.024305295199155807\n",
      "Epoch 300, train score 0.03355085104703903, test score 0.03352995961904526\n",
      "Epoch 400, train score 0.03991355001926422, test score 0.0398222841322422\n",
      "Epoch 500, train score 0.043752945959568024, test score 0.04355034977197647\n",
      "Epoch 600, train score 0.0457925871014595, test score 0.045484308153390884\n",
      "Epoch 700, train score 0.04674059525132179, test score 0.046358637511730194\n",
      "Epoch 800, train score 0.04713078960776329, test score 0.046707600355148315\n",
      "Epoch 900, train score 0.04727807268500328, test score 0.0468357652425766\n",
      "Epoch 1000, train score 0.04733134061098099, test score 0.046882081776857376\n",
      "Epoch 1100, train score 0.04735029488801956, test score 0.04689951241016388\n",
      "Epoch 1200, train score 0.04735695198178291, test score 0.04690644517540932\n",
      "Epoch 1300, train score 0.047359224408864975, test score 0.04690934345126152\n",
      "Epoch 1400, train score 0.04735998064279556, test score 0.046910613775253296\n",
      "Epoch 1500, train score 0.04736023023724556, test score 0.046911176294088364\n",
      "Epoch 1600, train score 0.04736030846834183, test score 0.04691143333911896\n",
      "Epoch 1700, train score 0.047360338270664215, test score 0.0469115749001503\n",
      "Epoch 1800, train score 0.04736034572124481, test score 0.04691164195537567\n",
      "Epoch 1900, train score 0.04736033454537392, test score 0.04691166803240776\n"
     ]
    }
   ],
   "source": [
    "input_size = data.shape[-1]\n",
    "\n",
    "class DirectionProbe(nn.Module):\n",
    "    def __init__(self, inputSize):\n",
    "        super(DirectionProbe, self).__init__()\n",
    "        self.inputSize = inputSize\n",
    "        self.u = nn.Parameter(data = torch.zeros(self.inputSize))\n",
    "        nn.init.uniform_(self.u, -0.05, 0.05)\n",
    "    def forward(self, batch):\n",
    "        return torch.mean(batch @ (self.u / torch.norm(self.u)))\n",
    "\n",
    "train_inputs = torch.Tensor(train_set)\n",
    "test_inputs = torch.Tensor(test_set)\n",
    "model = DirectionProbe(input_size)\n",
    "optimizer = torch.optim.Adam(model.parameters(), lr=0.0001)\n",
    "\n",
    "NUM_EPOCHS = 2000\n",
    "\n",
    "for epoch in range(NUM_EPOCHS):\n",
    "    optimizer.zero_grad()\n",
    "    output = model(train_inputs)\n",
    "    error = 1 - output\n",
    "    error.backward()\n",
    "    optimizer.step()\n",
    "    if epoch % 100 == 0:\n",
    "        test_output = model(test_inputs)\n",
    "        print(\"Epoch {}, train score {}, test score {}\".format(epoch, output, test_output))\n"
   ]
  },
  {
   "cell_type": "code",
   "execution_count": 18,
   "metadata": {},
   "outputs": [
    {
     "name": "stdout",
     "output_type": "stream",
     "text": [
      "0.8101729399796541\n"
     ]
    }
   ],
   "source": [
    "EPSILON = 1e-6\n",
    "direction_vector = model.u.cpu().detach().numpy()\n",
    "direction_vector /= np.linalg.norm(direction_vector)\n",
    "numSuccessful = len(np.where(np.linalg.norm(train_set_raw + EPSILON * direction_vector, axis=1) > np.linalg.norm(train_set_raw, axis=1))[0])\n",
    "print(numSuccessful / train_set_raw.shape[0])"
   ]
  },
  {
   "cell_type": "code",
   "execution_count": 15,
   "metadata": {},
   "outputs": [
    {
     "data": {
      "image/png": "[encoded data removed]",
      "text/plain": [
       "<Figure size 360x360 with 1 Axes>"
      ]
     },
     "metadata": {
      "needs_background": "light"
     },
     "output_type": "display_data"
    }
   ],
   "source": [
    "plt.figure(figsize=(5, 5))\n",
    "\n",
    "test_directions = directions[sep:]\n",
    "\n",
    "before = test_set_raw[test_directions == -1] @ direction_vector\n",
    "after = test_set_raw[test_directions == 1] @ direction_vector\n",
    "\n",
    "plt.scatter(before, np.zeros(before.shape[0]), label=\"before\", s=0.01)\n",
    "plt.scatter(after, np.zeros(after.shape[0]), label=\"after\", s=0.01)\n",
    "\n",
    "plt.legend()\n",
    "\n",
    "plt.show()"
   ]
  },
  {
   "cell_type": "code",
   "execution_count": 30,
   "metadata": {},
   "outputs": [
    {
     "name": "stdout",
     "output_type": "stream",
     "text": [
      "after 1.0\n",
      "before 0.8151041666666666\n",
      "earlier than 0.029017857142857144\n",
      "later than 1.0\n",
      "(1639, 11)\n"
     ]
    },
    {
     "data": {
      "image/png": "[encoded data removed]",
      "text/plain": [
       "<Figure size 1080x72 with 1 Axes>"
      ]
     },
     "metadata": {
      "needs_background": "light"
     },
     "output_type": "display_data"
    }
   ],
   "source": [
    "plt.figure(figsize=(15, 1))\n",
    "\n",
    "for word in ('after', 'before', 'earlier than', 'later than'):\n",
    "  arr = test_set[np.vectorize(lambda x: word in x)(test_labels['sentence'])] @ direction_vector\n",
    "  plt.scatter(arr, np.zeros(arr.shape[0]), label=word, s=1)\n",
    "  print(word, len(np.where(np.linalg.norm(test_set[np.vectorize(lambda x: word in x)(test_labels['sentence'])] + EPSILON * direction_vector, axis=1) > np.linalg.norm(test_set[np.vectorize(lambda x: word in x)(test_labels['sentence'])], axis=1))[0]) /\n",
    "       len(test_set[np.vectorize(lambda x: word in x)(test_labels['sentence'])]))\n",
    "\n",
    "\n",
    "print(test_labels.shape)\n",
    "\n",
    "plt.legend(markerscale=2)\n",
    "\n",
    "plt.show()"
   ]
  },
  {
   "cell_type": "code",
   "execution_count": null,
   "metadata": {},
   "outputs": [],
   "source": []
  }
 ],
 "metadata": {
  "kernelspec": {
   "display_name": "Python 3",
   "language": "python",
   "name": "python3"
  },
  "language_info": {
   "codemirror_mode": {
    "name": "ipython",
    "version": 3
   },
   "file_extension": ".py",
   "mimetype": "text/x-python",
   "name": "python",
   "nbconvert_exporter": "python",
   "pygments_lexer": "ipython3",
   "version": "3.7.3"
  }
 },
 "nbformat": 4,
 "nbformat_minor": 2
}
