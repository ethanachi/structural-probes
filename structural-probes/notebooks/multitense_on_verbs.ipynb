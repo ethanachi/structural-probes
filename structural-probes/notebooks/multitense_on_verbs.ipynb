{
 "cells": [
  {
   "cell_type": "code",
   "execution_count": 45,
   "metadata": {},
   "outputs": [],
   "source": [
    "import numpy as np\n",
    "import pandas as pd\n",
    "import torch\n",
    "import torch.nn as nn\n",
    "import matplotlib.pyplot as plt\n",
    "import random"
   ]
  },
  {
   "cell_type": "code",
   "execution_count": 2,
   "metadata": {},
   "outputs": [
    {
     "name": "stdout",
     "output_type": "stream",
     "text": [
      "(20000, 30, 768)\n"
     ]
    }
   ],
   "source": [
    "data = np.load('/u/scr/ethanchi/embeddings/temporal2/representations.npy')\n",
    "print(data.shape)"
   ]
  },
  {
   "cell_type": "code",
   "execution_count": 3,
   "metadata": {},
   "outputs": [
    {
     "name": "stdout",
     "output_type": "stream",
     "text": [
      "Index(['sentence', 'noun1', 'noun1_idx', 'verb1', 'verb1_idx', 'connector1',\n",
      "       'connector1_idx', 'connector1_char', 'noun2', 'noun2_idx', 'verb2',\n",
      "       'verb2_idx', 'connector2', 'connector2_idx', 'connector2_char', 'noun3',\n",
      "       'noun3_idx', 'verb3', 'verb3_idx'],\n",
      "      dtype='object')\n",
      "(20000, 19)\n"
     ]
    }
   ],
   "source": [
    "labels = pd.read_csv('/u/scr/ethanchi/embeddings/temporal2/sentences-cut.txt', sep=\"\\t\")\n",
    "print(labels.columns)\n",
    "print(labels.shape)"
   ]
  },
  {
   "cell_type": "code",
   "execution_count": 4,
   "metadata": {},
   "outputs": [
    {
     "name": "stdout",
     "output_type": "stream",
     "text": [
      "[2 2 2 ... 2 2 2]\n",
      "[-1  1 -1 ... -1  1  1] [ 1 -1  1 ...  1 -1 -1]\n"
     ]
    }
   ],
   "source": [
    "# we train a direction vector\n",
    "verb1_indices = labels['verb1_idx'].astype('int32').values\n",
    "print(verb1_indices)\n",
    "verb2_indices = labels['verb2_idx'].astype('int32').values\n",
    "verb3_indices = labels['verb3_idx'].astype('int32').values\n",
    "\n",
    "verb1_verb2_directions = np.where(labels['connector1_char'] == 'past', 1, -1)\n",
    "verb2_verb3_directions = np.where(labels['connector2_char'] == 'past', 1, -1)\n",
    "\n",
    "print(verb1_verb2_directions, verb2_verb3_directions)"
   ]
  },
  {
   "cell_type": "code",
   "execution_count": 5,
   "metadata": {},
   "outputs": [
    {
     "name": "stdout",
     "output_type": "stream",
     "text": [
      "(20000, 768) (20000, 768)\n"
     ]
    }
   ],
   "source": [
    "verb1_embeddings = data[np.arange(data.shape[0]), list(verb1_indices), :]\n",
    "verb2_embeddings = data[np.arange(data.shape[0]), list(verb2_indices), :]\n",
    "\n",
    "print(verb1_embeddings.shape, verb2_embeddings.shape)"
   ]
  },
  {
   "cell_type": "code",
   "execution_count": 28,
   "metadata": {},
   "outputs": [],
   "source": [
    "data_raw = (verb1_embeddings - verb2_embeddings) * verb1_verb2_directions[:, np.newaxis]\n",
    "indices = np.arange(data_raw.shape[0])\n",
    "np.random.shuffle(indices)\n",
    "data_raw = data_raw[indices]\n",
    "\n",
    "\n",
    "sep = int(indices.shape[0] * .9)\n",
    "\n",
    "train_set_raw = data_raw[:sep]\n",
    "test_set_raw = data_raw[sep:]\n",
    "\n",
    "train_labels = labels.iloc[indices][:sep]\n",
    "test_labels = labels.iloc[indices][sep:]\n",
    "\n",
    "directions = verb1_verb2_directions[indices]\n",
    "train_directions = directions[:sep]\n",
    "test_directions = directions[sep:]\n",
    "\n",
    "# train_set_raw = \n",
    "# test_set_raw = \n",
    "\n",
    "train_set = train_set_raw / np.linalg.norm(train_set_raw, axis=1, keepdims=True)\n",
    "test_set = test_set_raw / np.linalg.norm(test_set_raw, axis=1, keepdims=True)"
   ]
  },
  {
   "cell_type": "code",
   "execution_count": 29,
   "metadata": {},
   "outputs": [
    {
     "name": "stdout",
     "output_type": "stream",
     "text": [
      "Epoch 0, train score -0.0015861870488151908, test score -0.0019032120471820235\n",
      "Epoch 100, train score 0.019080784171819687, test score 0.018854115158319473\n",
      "Epoch 200, train score 0.03772050887346268, test score 0.03752101585268974\n",
      "Epoch 300, train score 0.05255352705717087, test score 0.052303608506917953\n",
      "Epoch 400, train score 0.06277395039796829, test score 0.06242715194821358\n",
      "Epoch 500, train score 0.06894014775753021, test score 0.06853000819683075\n",
      "Epoch 600, train score 0.07228364050388336, test score 0.07186432182788849\n",
      "Epoch 700, train score 0.07393142580986023, test score 0.07353299111127853\n",
      "Epoch 800, train score 0.0746815949678421, test score 0.07431016862392426\n",
      "Epoch 900, train score 0.07500523328781128, test score 0.07465513050556183\n",
      "Epoch 1000, train score 0.07514021545648575, test score 0.0748034343123436\n",
      "Epoch 1100, train score 0.07519490271806717, test score 0.07486546039581299\n",
      "Epoch 1200, train score 0.07521636039018631, test score 0.07489080727100372\n",
      "Epoch 1300, train score 0.07522447407245636, test score 0.07490111142396927\n",
      "Epoch 1400, train score 0.07522742450237274, test score 0.07490547001361847\n",
      "Epoch 1500, train score 0.07522840052843094, test score 0.0749073475599289\n",
      "Epoch 1600, train score 0.0752287283539772, test score 0.07490832358598709\n",
      "Epoch 1700, train score 0.07522884011268616, test score 0.07490881532430649\n",
      "Epoch 1800, train score 0.07522887736558914, test score 0.07490910589694977\n",
      "Epoch 1900, train score 0.07522889226675034, test score 0.0749092772603035\n"
     ]
    }
   ],
   "source": [
    "input_size = data.shape[-1]\n",
    "\n",
    "class DirectionProbe(nn.Module):\n",
    "    def __init__(self, inputSize):\n",
    "        super(DirectionProbe, self).__init__()\n",
    "        self.inputSize = inputSize\n",
    "        self.u = nn.Parameter(data = torch.zeros(self.inputSize))\n",
    "        nn.init.uniform_(self.u, -0.05, 0.05)\n",
    "    def forward(self, batch):\n",
    "        return torch.mean(batch @ (self.u / torch.norm(self.u)))\n",
    "\n",
    "train_inputs = torch.Tensor(train_set)\n",
    "test_inputs = torch.Tensor(test_set)\n",
    "model = DirectionProbe(input_size)\n",
    "optimizer = torch.optim.Adam(model.parameters(), lr=0.0001)\n",
    "\n",
    "NUM_EPOCHS = 2000\n",
    "\n",
    "for epoch in range(NUM_EPOCHS):\n",
    "    optimizer.zero_grad()\n",
    "    output = model(train_inputs)\n",
    "    error = 1 - output\n",
    "    error.backward()\n",
    "    optimizer.step()\n",
    "    if epoch % 100 == 0:\n",
    "        test_output = model(test_inputs)\n",
    "        print(\"Epoch {}, train score {}, test score {}\".format(epoch, output, test_output))\n"
   ]
  },
  {
   "cell_type": "code",
   "execution_count": 59,
   "metadata": {},
   "outputs": [
    {
     "name": "stdout",
     "output_type": "stream",
     "text": [
      "0.7508888888888889\n"
     ]
    }
   ],
   "source": [
    "EPSILON = 0.0001\n",
    "direction_vector = model.u.cpu().detach().numpy()\n",
    "direction_vector /= np.linalg.norm(direction_vector)\n",
    "numSuccessful = len(np.where(np.linalg.norm(train_set_raw, axis=1) > np.linalg.norm(train_set_raw - EPSILON * direction_vector, axis=1))[0])\n",
    "print(numSuccessful / train_set_raw.shape[0])"
   ]
  },
  {
   "cell_type": "code",
   "execution_count": 38,
   "metadata": {},
   "outputs": [
    {
     "data": {
      "image/png": "[encoded data removed]",
      "text/plain": [
       "<Figure size 360x360 with 1 Axes>"
      ]
     },
     "metadata": {
      "needs_background": "light"
     },
     "output_type": "display_data"
    }
   ],
   "source": [
    "plt.figure(figsize=(5, 5))\n",
    "\n",
    "before = test_set_raw[test_directions == -1] @ direction_vector\n",
    "after = test_set_raw[test_directions == 1] @ direction_vector\n",
    "\n",
    "plt.scatter(after, np.zeros(after.shape[0]), label=\"after\", s=0.01)\n",
    "plt.scatter(before, np.zeros(before.shape[0]), label=\"before\", s=0.01)\n",
    "\n",
    "\n",
    "plt.legend()\n",
    "\n",
    "plt.show()"
   ]
  },
  {
   "cell_type": "code",
   "execution_count": 53,
   "metadata": {},
   "outputs": [
    {
     "name": "stdout",
     "output_type": "stream",
     "text": [
      "after 0.7991967871485943\n",
      "until 0.9076923076923077\n",
      "earlier than 0.424\n",
      "then 0.9543568464730291\n",
      "before 0.7601809954751131\n",
      "subsequently to 0.9613899613899614\n",
      "later than 0.6150793650793651\n",
      "(2000, 19)\n"
     ]
    },
    {
     "data": {
      "image/png": "[encoded data removed]",
      "text/plain": [
       "<Figure size 1080x72 with 1 Axes>"
      ]
     },
     "metadata": {
      "needs_background": "light"
     },
     "output_type": "display_data"
    }
   ],
   "source": [
    "to_plot_data = (verb1_embeddings - verb2_embeddings)[indices][sep:]\n",
    "\n",
    "plt.figure(figsize=(15, 1))\n",
    "\n",
    "test_directions = verb1_verb2_directions[sep:]\n",
    "\n",
    "\n",
    "# colors=['blue', 'red', 'green', 'orange', 'yellow', 'orangered', 'purple']\n",
    "\n",
    "# for idx, word in enumerate(('after', 'before', 'later than', 'earlier than', 'until', 'then', 'subsequently to')):\n",
    "# colors=['blue', 'red', 'green', 'orange']\n",
    "\n",
    "# for idx, word in enumerate(('after', 'before', 'later than', 'earlier than')):\n",
    "colors = ('blue', 'red', 'green', 'orange', 'yellow', 'orangered', 'purple')\n",
    "words = ('after', 'before', 'later than', 'earlier than', 'until', 'then', 'subsequently to')\n",
    "\n",
    "for color, word in random.sample(list(zip(colors, words)), len(colors)):\n",
    "  arr = to_plot_data[test_labels['connector1'] == word] @ direction_vector\n",
    "  plt.eventplot(arr, orientation='horizontal', label=word, colors=color, alpha=0.1)\n",
    "  print(word, len(np.where(np.linalg.norm(test_set[test_labels['connector1'] == word] + EPSILON * direction_vector, axis=1) > np.linalg.norm(test_set[test_labels['connector1'] == word], axis=1))[0]) /\n",
    "       len(test_set[test_labels['connector1'] == word]))\n",
    "\n",
    "\n",
    "print(test_labels.shape)\n",
    "\n",
    "plt.legend(markerscale=2)\n",
    "\n",
    "plt.show()"
   ]
  },
  {
   "cell_type": "code",
   "execution_count": null,
   "metadata": {},
   "outputs": [],
   "source": []
  },
  {
   "cell_type": "code",
   "execution_count": null,
   "metadata": {},
   "outputs": [],
   "source": []
  }
 ],
 "metadata": {
  "kernelspec": {
   "display_name": "Python 3",
   "language": "python",
   "name": "python3"
  },
  "language_info": {
   "codemirror_mode": {
    "name": "ipython",
    "version": 3
   },
   "file_extension": ".py",
   "mimetype": "text/x-python",
   "name": "python",
   "nbconvert_exporter": "python",
   "pygments_lexer": "ipython3",
   "version": "3.7.3"
  }
 },
 "nbformat": 4,
 "nbformat_minor": 2
}
