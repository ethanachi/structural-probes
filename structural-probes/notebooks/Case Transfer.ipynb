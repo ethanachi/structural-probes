{
 "cells": [
  {
   "cell_type": "code",
   "execution_count": 10,
   "metadata": {},
   "outputs": [],
   "source": [
    "import numpy as np\n",
    "import torch\n",
    "from torch import nn\n",
    "import matplotlib.pyplot as plt\n",
    "from IPython.display import Markdown, display\n",
    "def printmd(string):\n",
    "    display(Markdown(string))"
   ]
  },
  {
   "cell_type": "code",
   "execution_count": 2,
   "metadata": {},
   "outputs": [],
   "source": [
    "representations = np.load('/u/scr/ethanchi/relationOutputs/finnish/representations.npy')\n",
    "morph = np.load('/u/scr/ethanchi/relationOutputs/finnish/morph.npy')\n",
    "pos = np.load('/u/scr/ethanchi/relationOutputs/finnish/pos.npy')"
   ]
  },
  {
   "cell_type": "code",
   "execution_count": 3,
   "metadata": {},
   "outputs": [],
   "source": [
    "CASES = [\"Nom\", \"Acc\", \"Gen\", \"Ins\", \"Par\", \"Ess\", \"Tra\", \"Com\", \"Abe\", \"Ine\", \"Ill\", \"Ela\", \"Ade\", \"All\", \"Abl\"]\n",
    "NUM_CASES = len(CASES)"
   ]
  },
  {
   "cell_type": "code",
   "execution_count": 4,
   "metadata": {},
   "outputs": [
    {
     "name": "stdout",
     "output_type": "stream",
     "text": [
      "(5103,)\n",
      "(5103, 15)\n",
      "(5103,)\n",
      "[ 2  0 12 ...  9 10  2]\n"
     ]
    }
   ],
   "source": [
    "data = morph[pos=='NOUN']\n",
    "reps = representations[pos=='NOUN']\n",
    "\n",
    "print(data.shape)\n",
    "\n",
    "labels = np.zeros([data.shape[0], NUM_CASES])\n",
    "\n",
    "for idx, case in enumerate(CASES):\n",
    "  is_case = np.vectorize(lambda x: x.startswith(\"Case=\" + case))\n",
    "  labels[:, idx] = is_case(data)\n",
    "\n",
    "print(labels.shape)\n",
    "  \n",
    "labels = np.argmax(labels, axis=1)\n",
    "print(labels.shape)\n",
    "print(labels)"
   ]
  },
  {
   "cell_type": "code",
   "execution_count": 5,
   "metadata": {},
   "outputs": [],
   "source": [
    "label_tensor = torch.Tensor(labels)\n",
    "data_tensor = torch.Tensor(reps)\n",
    "\n",
    "indices = np.arange(label_tensor.shape[0])\n",
    "np.random.shuffle(indices)\n",
    "\n",
    "label_tensor = label_tensor[indices]\n",
    "data_tensor = data_tensor[indices]\n",
    "\n",
    "sep = int(0.9 * label_tensor.shape[0])\n",
    "\n",
    "train_labels = label_tensor[:sep]\n",
    "train_data = data_tensor[:sep]\n",
    "\n",
    "test_labels = label_tensor[sep:]\n",
    "test_data = data_tensor[sep:]"
   ]
  },
  {
   "cell_type": "code",
   "execution_count": 6,
   "metadata": {},
   "outputs": [
    {
     "name": "stdout",
     "output_type": "stream",
     "text": [
      "Epoch 0, train loss 2.900, train accuracy 2.983%, test loss 2.890, test accuracy 3.718%\n",
      "Epoch 100, train loss 1.702, train accuracy 51.503%, test loss 1.752, test accuracy 48.141%\n",
      "Epoch 200, train loss 1.230, train accuracy 72.300%, test loss 1.299, test accuracy 69.276%\n",
      "Epoch 300, train loss 0.957, train accuracy 80.575%, test loss 1.030, test accuracy 76.517%\n",
      "Epoch 400, train loss 0.780, train accuracy 85.540%, test loss 0.849, test accuracy 83.170%\n",
      "Epoch 500, train loss 0.658, train accuracy 88.676%, test loss 0.722, test accuracy 86.497%\n",
      "Epoch 600, train loss 0.569, train accuracy 90.418%, test loss 0.628, test accuracy 88.845%\n",
      "Epoch 700, train loss 0.501, train accuracy 91.768%, test loss 0.557, test accuracy 89.628%\n",
      "Epoch 800, train loss 0.448, train accuracy 92.726%, test loss 0.501, test accuracy 91.194%\n",
      "Epoch 900, train loss 0.406, train accuracy 93.423%, test loss 0.457, test accuracy 91.389%\n",
      "Epoch 1000, train loss 0.370, train accuracy 94.077%, test loss 0.420, test accuracy 91.781%\n",
      "Epoch 1100, train loss 0.341, train accuracy 94.382%, test loss 0.390, test accuracy 92.172%\n",
      "Epoch 1200, train loss 0.315, train accuracy 94.861%, test loss 0.365, test accuracy 92.368%\n",
      "Epoch 1300, train loss 0.293, train accuracy 95.253%, test loss 0.344, test accuracy 93.346%\n",
      "Epoch 1400, train loss 0.274, train accuracy 95.536%, test loss 0.325, test accuracy 93.346%\n",
      "Epoch 1500, train loss 0.256, train accuracy 95.797%, test loss 0.309, test accuracy 93.738%\n",
      "Epoch 1600, train loss 0.241, train accuracy 96.080%, test loss 0.296, test accuracy 93.738%\n",
      "Epoch 1700, train loss 0.227, train accuracy 96.320%, test loss 0.283, test accuracy 94.325%\n",
      "Epoch 1800, train loss 0.215, train accuracy 96.537%, test loss 0.273, test accuracy 94.325%\n",
      "Epoch 1900, train loss 0.203, train accuracy 96.821%, test loss 0.263, test accuracy 94.325%\n"
     ]
    }
   ],
   "source": [
    "class CaseClassifier(nn.Module):\n",
    "  def __init__(self, rep_size, out_size):\n",
    "    super(CaseClassifier, self).__init__()\n",
    "    self.linear = nn.Linear(rep_size, out_size)\n",
    "  def forward(self, vectors):\n",
    "    return nn.functional.log_softmax(self.linear(vectors), dim=1)\n",
    "  \n",
    "NUM_EPOCHS = 2000\n",
    "\n",
    "model = CaseClassifier(representations.shape[-1], NUM_CASES)\n",
    "\n",
    "optimizer = torch.optim.Adam(model.parameters(), lr=0.0001)\n",
    "loss = nn.CrossEntropyLoss()\n",
    "\n",
    "\n",
    "\n",
    "for epoch in range(NUM_EPOCHS):\n",
    "  optimizer.zero_grad()\n",
    "  train_outputs = model(train_data)\n",
    "  train_loss = loss(train_outputs, train_labels.long())\n",
    "  train_loss.backward()\n",
    "  optimizer.step()\n",
    "  if epoch % 100 == 0:\n",
    "    with torch.no_grad():\n",
    "      test_outputs = model(test_data)\n",
    "      test_loss = loss(test_outputs, test_labels.long())\n",
    "      train_accuracy = len(np.where(torch.argmax(train_outputs, dim=1) == train_labels.long())[0]) / train_outputs.shape[0]\n",
    "      test_accuracy = len(np.where(torch.argmax(test_outputs, dim=1) == test_labels.long())[0]) / test_outputs.shape[0]\n",
    "      print(\"Epoch {}, train loss {:5.3f}, train accuracy {:2.3f}%, test loss {:5.3f}, test accuracy {:2.3f}%\".format(epoch, train_loss, train_accuracy*100, test_loss, test_accuracy*100))\n",
    "\n"
   ]
  },
  {
   "cell_type": "code",
   "execution_count": 7,
   "metadata": {},
   "outputs": [
    {
     "name": "stdout",
     "output_type": "stream",
     "text": [
      "(4195, 768)\n"
     ]
    }
   ],
   "source": [
    "en_representations = np.load('/u/scr/ethanchi/relationOutputs/english/representations.npy')\n",
    "en_pos = np.load('/u/scr/ethanchi/relationOutputs/english/pos.npy')\n",
    "en_extra = np.load('/u/scr/ethanchi/relationOutputs/english/data.npy')\n",
    "\n",
    "en_extra = en_extra[en_pos=='NOUN']\n",
    "en_representations = en_representations[en_pos=='NOUN']\n",
    "\n",
    "print(en_representations.shape)"
   ]
  },
  {
   "cell_type": "code",
   "execution_count": 8,
   "metadata": {},
   "outputs": [
    {
     "name": "stdout",
     "output_type": "stream",
     "text": [
      "Nom\t3151\n",
      "Acc\t0\n",
      "Gen\t301\n",
      "Ins\t2\n",
      "Par\t545\n",
      "Ess\t34\n",
      "Tra\t2\n",
      "Com\t0\n",
      "Abe\t0\n",
      "Ine\t60\n",
      "Ill\t15\n",
      "Ela\t6\n",
      "Ade\t63\n",
      "All\t11\n",
      "Abl\t5\n"
     ]
    }
   ],
   "source": [
    "en_inputs = torch.Tensor(en_representations)\n",
    "with torch.no_grad():\n",
    "  en_outputs = model(en_inputs)\n",
    "  en_best_labels = torch.argmax(en_outputs, dim=1)\n",
    "  \n",
    "for case, num in zip(CASES, torch.bincount(en_best_labels.int())):\n",
    "  print(f\"{case}\\t{num}\")\n",
    "  \n",
    "  \n"
   ]
  },
  {
   "cell_type": "code",
   "execution_count": 11,
   "metadata": {},
   "outputs": [
    {
     "name": "stdout",
     "output_type": "stream",
     "text": [
      "Nom\t3151\n"
     ]
    },
    {
     "data": {
      "text/markdown": [
       "From the AP comes this **story** :"
      ],
      "text/plain": [
       "<IPython.core.display.Markdown object>"
      ]
     },
     "metadata": {},
     "output_type": "display_data"
    },
    {
     "data": {
      "text/markdown": [
       "President Bush on Tuesday nominated two **individuals** to replace retiring jurists on federal courts in the Washington area ."
      ],
      "text/plain": [
       "<IPython.core.display.Markdown object>"
      ]
     },
     "metadata": {},
     "output_type": "display_data"
    },
    {
     "data": {
      "text/markdown": [
       "President Bush on Tuesday nominated two individuals to replace retiring **jurists** on federal courts in the Washington area ."
      ],
      "text/plain": [
       "<IPython.core.display.Markdown object>"
      ]
     },
     "metadata": {},
     "output_type": "display_data"
    },
    {
     "data": {
      "text/markdown": [
       "President Bush on Tuesday nominated two individuals to replace retiring jurists on federal courts in the Washington **area** ."
      ],
      "text/plain": [
       "<IPython.core.display.Markdown object>"
      ]
     },
     "metadata": {},
     "output_type": "display_data"
    },
    {
     "data": {
      "text/markdown": [
       "Bush nominated Jennifer M. Anderson for a 15 - year **term** as associate judge of the Superior Court of the District of Columbia , replacing Steffen W. Graae ."
      ],
      "text/plain": [
       "<IPython.core.display.Markdown object>"
      ]
     },
     "metadata": {},
     "output_type": "display_data"
    },
    {
     "data": {
      "text/markdown": [
       "Bush nominated Jennifer M. Anderson for a 15 - year term as associate **judge** of the Superior Court of the District of Columbia , replacing Steffen W. Graae ."
      ],
      "text/plain": [
       "<IPython.core.display.Markdown object>"
      ]
     },
     "metadata": {},
     "output_type": "display_data"
    },
    {
     "data": {
      "text/markdown": [
       "Bush also nominated A. Noel Anketell Kramer for a 15 - year term as associate **judge** of the District of Columbia Court of Appeals , replacing John Montague Steadman ."
      ],
      "text/plain": [
       "<IPython.core.display.Markdown object>"
      ]
     },
     "metadata": {},
     "output_type": "display_data"
    },
    {
     "data": {
      "text/markdown": [
       "The **sheikh** in wheel - chair has been attacked with a F - 16 - launched bomb ."
      ],
      "text/plain": [
       "<IPython.core.display.Markdown object>"
      ]
     },
     "metadata": {},
     "output_type": "display_data"
    },
    {
     "data": {
      "text/markdown": [
       "The sheikh in wheel - **chair** has been attacked with a F - 16 - launched bomb ."
      ],
      "text/plain": [
       "<IPython.core.display.Markdown object>"
      ]
     },
     "metadata": {},
     "output_type": "display_data"
    },
    {
     "data": {
      "text/markdown": [
       "The sheikh in wheel - chair has been attacked with a **F** - 16 - launched bomb ."
      ],
      "text/plain": [
       "<IPython.core.display.Markdown object>"
      ]
     },
     "metadata": {},
     "output_type": "display_data"
    },
    {
     "name": "stdout",
     "output_type": "stream",
     "text": [
      "Acc\t0\n",
      "Gen\t301\n"
     ]
    },
    {
     "data": {
      "text/markdown": [
       "In the eastern city of Baqubah , guerrillas detonated a car bomb outside a **police** station , killing several people ."
      ],
      "text/plain": [
       "<IPython.core.display.Markdown object>"
      ]
     },
     "metadata": {},
     "output_type": "display_data"
    },
    {
     "data": {
      "text/markdown": [
       "The US troops fired into the hostile **crowd** , killing 4 ."
      ],
      "text/plain": [
       "<IPython.core.display.Markdown object>"
      ]
     },
     "metadata": {},
     "output_type": "display_data"
    },
    {
     "data": {
      "text/markdown": [
       "Google has finally had an analyst day -- a chance to present the **company** 's story to the ( miniscule number of ) people who have n't heard it ."
      ],
      "text/plain": [
       "<IPython.core.display.Markdown object>"
      ]
     },
     "metadata": {},
     "output_type": "display_data"
    },
    {
     "data": {
      "text/markdown": [
       "Usually , these are just a chance for the suckups to suck up , but this time people are actually concerned about the **company** 's plans ."
      ],
      "text/plain": [
       "<IPython.core.display.Markdown object>"
      ]
     },
     "metadata": {},
     "output_type": "display_data"
    },
    {
     "data": {
      "text/markdown": [
       "They work on Wall Street , after all , so when they hear a **company** who's stated goals include \" Do n't be evil , \" they imagine a company who's eventually history will be \" Do n't be profitable . \""
      ],
      "text/plain": [
       "<IPython.core.display.Markdown object>"
      ]
     },
     "metadata": {},
     "output_type": "display_data"
    },
    {
     "data": {
      "text/markdown": [
       "It 's not quite as freewheeling an environment as you 'd imagine : Sergey Brin has actually created a mathematical ' proof ' that the **company** 's self - driven research strategy , which gives employees one day a week to do research projects on their own , is a good , respectable idea ."
      ],
      "text/plain": [
       "<IPython.core.display.Markdown object>"
      ]
     },
     "metadata": {},
     "output_type": "display_data"
    },
    {
     "data": {
      "text/markdown": [
       "It 's not quite as freewheeling an environment as you 'd imagine : Sergey Brin has actually created a mathematical ' proof ' that the company 's **self** - driven research strategy , which gives employees one day a week to do research projects on their own , is a good , respectable idea ."
      ],
      "text/plain": [
       "<IPython.core.display.Markdown object>"
      ]
     },
     "metadata": {},
     "output_type": "display_data"
    },
    {
     "data": {
      "text/markdown": [
       "It 's not quite as freewheeling an environment as you 'd imagine : Sergey Brin has actually created a mathematical ' proof ' that the company 's self - driven **research** strategy , which gives employees one day a week to do research projects on their own , is a good , respectable idea ."
      ],
      "text/plain": [
       "<IPython.core.display.Markdown object>"
      ]
     },
     "metadata": {},
     "output_type": "display_data"
    },
    {
     "data": {
      "text/markdown": [
       "It 's not quite as freewheeling an environment as you 'd imagine : Sergey Brin has actually created a mathematical ' proof ' that the company 's self - driven research strategy , which gives employees one day a week to do **research** projects on their own , is a good , respectable idea ."
      ],
      "text/plain": [
       "<IPython.core.display.Markdown object>"
      ]
     },
     "metadata": {},
     "output_type": "display_data"
    },
    {
     "data": {
      "text/markdown": [
       "Sharon 's assassination of major Hamas leaders has also weakened authority structures in that **party** ."
      ],
      "text/plain": [
       "<IPython.core.display.Markdown object>"
      ]
     },
     "metadata": {},
     "output_type": "display_data"
    },
    {
     "name": "stdout",
     "output_type": "stream",
     "text": [
      "Ins\t2\n"
     ]
    },
    {
     "data": {
      "text/markdown": [
       "Further , she informed me that Section 7 of the agreement , which reads in part : Gas is free from liens and adverse claims of every **kind** , should be changed because the gas that the counterparty will be transporting on HPL may and / or is subject to liens ."
      ],
      "text/plain": [
       "<IPython.core.display.Markdown object>"
      ]
     },
     "metadata": {},
     "output_type": "display_data"
    },
    {
     "data": {
      "text/markdown": [
       "I meant to comment that I thought the people profiled in the article should pull their heads out of their **self** important asses ."
      ],
      "text/plain": [
       "<IPython.core.display.Markdown object>"
      ]
     },
     "metadata": {},
     "output_type": "display_data"
    },
    {
     "name": "stdout",
     "output_type": "stream",
     "text": [
      "Par\t545\n"
     ]
    },
    {
     "data": {
      "text/markdown": [
       "Bush nominated Jennifer M. Anderson for a 15 - **year** term as associate judge of the Superior Court of the District of Columbia , replacing Steffen W. Graae ."
      ],
      "text/plain": [
       "<IPython.core.display.Markdown object>"
      ]
     },
     "metadata": {},
     "output_type": "display_data"
    },
    {
     "data": {
      "text/markdown": [
       "Bush also nominated A. Noel Anketell Kramer for a 15 - **year** term as associate judge of the District of Columbia Court of Appeals , replacing John Montague Steadman ."
      ],
      "text/plain": [
       "<IPython.core.display.Markdown object>"
      ]
     },
     "metadata": {},
     "output_type": "display_data"
    },
    {
     "data": {
      "text/markdown": [
       "Bush also nominated A. Noel Anketell Kramer for a 15 - year **term** as associate judge of the District of Columbia Court of Appeals , replacing John Montague Steadman ."
      ],
      "text/plain": [
       "<IPython.core.display.Markdown object>"
      ]
     },
     "metadata": {},
     "output_type": "display_data"
    },
    {
     "data": {
      "text/markdown": [
       "He could be killed **years** ago and the israelians have all the reasons , since he founded and he is the spiritual leader of Hamas , but they did n't ."
      ],
      "text/plain": [
       "<IPython.core.display.Markdown object>"
      ]
     },
     "metadata": {},
     "output_type": "display_data"
    },
    {
     "data": {
      "text/markdown": [
       "He could be killed years ago and the israelians have all the **reasons** , since he founded and he is the spiritual leader of Hamas , but they did n't ."
      ],
      "text/plain": [
       "<IPython.core.display.Markdown object>"
      ]
     },
     "metadata": {},
     "output_type": "display_data"
    },
    {
     "data": {
      "text/markdown": [
       "Nervous people make mistakes , so I suppose there will be a **wave** of succesfull arab attacks ."
      ],
      "text/plain": [
       "<IPython.core.display.Markdown object>"
      ]
     },
     "metadata": {},
     "output_type": "display_data"
    },
    {
     "data": {
      "text/markdown": [
       "Nervous people make mistakes , so I suppose there will be a wave of succesfull arab **attacks** ."
      ],
      "text/plain": [
       "<IPython.core.display.Markdown object>"
      ]
     },
     "metadata": {},
     "output_type": "display_data"
    },
    {
     "data": {
      "text/markdown": [
       "In the eastern **city** of Baqubah , guerrillas detonated a car bomb outside a police station , killing several people ."
      ],
      "text/plain": [
       "<IPython.core.display.Markdown object>"
      ]
     },
     "metadata": {},
     "output_type": "display_data"
    },
    {
     "data": {
      "text/markdown": [
       "In the eastern city of Baqubah , guerrillas detonated a car bomb outside a police station , killing several **people** ."
      ],
      "text/plain": [
       "<IPython.core.display.Markdown object>"
      ]
     },
     "metadata": {},
     "output_type": "display_data"
    },
    {
     "data": {
      "text/markdown": [
       "In Fallujah , hundreds of demonstrators came out against US **troops** when they briefly arrested a yound newlywed bride ."
      ],
      "text/plain": [
       "<IPython.core.display.Markdown object>"
      ]
     },
     "metadata": {},
     "output_type": "display_data"
    },
    {
     "name": "stdout",
     "output_type": "stream",
     "text": [
      "Ess\t34\n"
     ]
    },
    {
     "data": {
      "text/markdown": [
       "It 's not quite as freewheeling an environment as you 'd imagine : Sergey Brin has actually created a mathematical ' proof ' that the company 's self - driven research strategy , which gives employees one **day** a week to do research projects on their own , is a good , respectable idea ."
      ],
      "text/plain": [
       "<IPython.core.display.Markdown object>"
      ]
     },
     "metadata": {},
     "output_type": "display_data"
    },
    {
     "data": {
      "text/markdown": [
       "The hottest item on Christmas wish lists this **year** is nuclear weapons ."
      ],
      "text/plain": [
       "<IPython.core.display.Markdown object>"
      ]
     },
     "metadata": {},
     "output_type": "display_data"
    },
    {
     "data": {
      "text/markdown": [
       "For the last few years there have been tensions with Iran ’s nuclear program with word coming this **week** that a deal was reached through the European Union that meets with the approval of the International Atomic Energy Agency ."
      ],
      "text/plain": [
       "<IPython.core.display.Markdown object>"
      ]
     },
     "metadata": {},
     "output_type": "display_data"
    },
    {
     "data": {
      "text/markdown": [
       "This is unlike the situation last **year** in Asia when we evacuated U.S. citizens from areas that were hit by the tsunami - a phenomenon that is much less predictable than the Hezbollah - provoked destruction that rained down on Lebanon ."
      ],
      "text/plain": [
       "<IPython.core.display.Markdown object>"
      ]
     },
     "metadata": {},
     "output_type": "display_data"
    },
    {
     "data": {
      "text/markdown": [
       "My role with Firefox and the Mozilla project will remain largely unchanged , I will continue doing much the same work as I have described above - with the new **goal** of successful 1.1 , 1.5 and 2.0 releases ."
      ],
      "text/plain": [
       "<IPython.core.display.Markdown object>"
      ]
     },
     "metadata": {},
     "output_type": "display_data"
    },
    {
     "data": {
      "text/markdown": [
       "I just want to extend a big \" Welcome ! \" to Darin Darin Fisher who joined me at Google this **week** ."
      ],
      "text/plain": [
       "<IPython.core.display.Markdown object>"
      ]
     },
     "metadata": {},
     "output_type": "display_data"
    },
    {
     "data": {
      "text/markdown": [
       "In this case , following the talent leads me to think that Google will be making an announcement this **year** that formalizes the Google - Mozilla / Firefox relationship ."
      ],
      "text/plain": [
       "<IPython.core.display.Markdown object>"
      ]
     },
     "metadata": {},
     "output_type": "display_data"
    },
    {
     "data": {
      "text/markdown": [
       "Last **month** , Nasrallah announced that his party would close ranks with Hamas ."
      ],
      "text/plain": [
       "<IPython.core.display.Markdown object>"
      ]
     },
     "metadata": {},
     "output_type": "display_data"
    },
    {
     "data": {
      "text/markdown": [
       "there will be some girls there and then we can get them to meet up with us at that garden in the heights party later that **night** ."
      ],
      "text/plain": [
       "<IPython.core.display.Markdown object>"
      ]
     },
     "metadata": {},
     "output_type": "display_data"
    },
    {
     "data": {
      "text/markdown": [
       "This **year** it is very easy to make your contribution ."
      ],
      "text/plain": [
       "<IPython.core.display.Markdown object>"
      ]
     },
     "metadata": {},
     "output_type": "display_data"
    },
    {
     "name": "stdout",
     "output_type": "stream",
     "text": [
      "Tra\t2\n"
     ]
    },
    {
     "data": {
      "text/markdown": [
       "I recently converted this test to an online test in **order** to norm it to a larger population and , subsequently , to make it available to any one who has access to a computer and the Internet ."
      ],
      "text/plain": [
       "<IPython.core.display.Markdown object>"
      ]
     },
     "metadata": {},
     "output_type": "display_data"
    },
    {
     "data": {
      "text/markdown": [
       "Thanks for fixing my garage **door** A ++++++++++++++++++"
      ],
      "text/plain": [
       "<IPython.core.display.Markdown object>"
      ]
     },
     "metadata": {},
     "output_type": "display_data"
    },
    {
     "name": "stdout",
     "output_type": "stream",
     "text": [
      "Com\t0\n",
      "Abe\t0\n",
      "Ine\t60\n"
     ]
    },
    {
     "data": {
      "text/markdown": [
       "President Bush on Tuesday nominated two individuals to replace retiring jurists on federal **courts** in the Washington area ."
      ],
      "text/plain": [
       "<IPython.core.display.Markdown object>"
      ]
     },
     "metadata": {},
     "output_type": "display_data"
    },
    {
     "data": {
      "text/markdown": [
       "It seems clear to me that the manhunt for high Baath officials in the Sunni heartland is being done wrong , or at least in **ways** that are bad for US standing with local Iraqis ."
      ],
      "text/plain": [
       "<IPython.core.display.Markdown object>"
      ]
     },
     "metadata": {},
     "output_type": "display_data"
    },
    {
     "data": {
      "text/markdown": [
       "Ever since the first **whispers** about Google 's IPO , most investors have feared that the stock would come public at such a ridiculously high price that , even with a spectacularly profitable business model and some nearly flawless execution , the price would be too high for investors to make a real profit ."
      ],
      "text/plain": [
       "<IPython.core.display.Markdown object>"
      ]
     },
     "metadata": {},
     "output_type": "display_data"
    },
    {
     "data": {
      "text/markdown": [
       "US Marines moved into most of Fallujah on Wednesday , though they were still meeting **pockets** of resistance ."
      ],
      "text/plain": [
       "<IPython.core.display.Markdown object>"
      ]
     },
     "metadata": {},
     "output_type": "display_data"
    },
    {
     "data": {
      "text/markdown": [
       "In Iraqi **society** , PM Allawi is responsible for protecting his clan , including especially his first cousins , so this kidnapping makes him look weak and brings substantial shame on him ."
      ],
      "text/plain": [
       "<IPython.core.display.Markdown object>"
      ]
     },
     "metadata": {},
     "output_type": "display_data"
    },
    {
     "data": {
      "text/markdown": [
       "The US Marines took most of Fallujah Wednesday , but still face **pockets** of resistance ."
      ],
      "text/plain": [
       "<IPython.core.display.Markdown object>"
      ]
     },
     "metadata": {},
     "output_type": "display_data"
    },
    {
     "data": {
      "text/markdown": [
       "The outbreak of demonstrations and violence throughout the Sunni Arab **regions** on Wednesday did not bode well for Sunni participation in the January elections ."
      ],
      "text/plain": [
       "<IPython.core.display.Markdown object>"
      ]
     },
     "metadata": {},
     "output_type": "display_data"
    },
    {
     "data": {
      "text/markdown": [
       "The outbreak of demonstrations and violence throughout the Sunni Arab regions on Wednesday did not bode well for Sunni participation in the January **elections** ."
      ],
      "text/plain": [
       "<IPython.core.display.Markdown object>"
      ]
     },
     "metadata": {},
     "output_type": "display_data"
    },
    {
     "data": {
      "text/markdown": [
       "The hottest item on Christmas wish **lists** this year is nuclear weapons ."
      ],
      "text/plain": [
       "<IPython.core.display.Markdown object>"
      ]
     },
     "metadata": {},
     "output_type": "display_data"
    },
    {
     "data": {
      "text/markdown": [
       "In other **words** , those Americans were there by their own choice , mired in a situation that was totally predictable ."
      ],
      "text/plain": [
       "<IPython.core.display.Markdown object>"
      ]
     },
     "metadata": {},
     "output_type": "display_data"
    },
    {
     "name": "stdout",
     "output_type": "stream",
     "text": [
      "Ill\t15\n"
     ]
    },
    {
     "data": {
      "text/markdown": [
       "The US lost yet another helicopter to hostile **fire** near Habbaniyah in the Sunni heartland , but this time the crew was safe ."
      ],
      "text/plain": [
       "<IPython.core.display.Markdown object>"
      ]
     },
     "metadata": {},
     "output_type": "display_data"
    },
    {
     "data": {
      "text/markdown": [
       "The continued Israeli colonization of the occupied Palestinian territories during the 1990s helped , along with terrorist attacks by radical **groups** such as Hamas , to derail the peace process , which Sharon had always opposed ."
      ],
      "text/plain": [
       "<IPython.core.display.Markdown object>"
      ]
     },
     "metadata": {},
     "output_type": "display_data"
    },
    {
     "data": {
      "text/markdown": [
       "If the Israelis and the Palestinian leadership can not find a way to reinvigorate the peace process , cells of radical young Palestinians may grow up that look to bin Laden for their **cues** ."
      ],
      "text/plain": [
       "<IPython.core.display.Markdown object>"
      ]
     },
     "metadata": {},
     "output_type": "display_data"
    },
    {
     "data": {
      "text/markdown": [
       "If they continue to add features so they can justify their likely sky - high valuation , Google risks losing a huge chunk of their customer base to the next keep - it - simple search **engine** ."
      ],
      "text/plain": [
       "<IPython.core.display.Markdown object>"
      ]
     },
     "metadata": {},
     "output_type": "display_data"
    },
    {
     "data": {
      "text/markdown": [
       "Where it risks fighting dual Sunni Arab and Shiite insurgencies simultaneously , at a **time** when US troops are rotating on a massive scale and hoping to downsize their forces in country ?"
      ],
      "text/plain": [
       "<IPython.core.display.Markdown object>"
      ]
     },
     "metadata": {},
     "output_type": "display_data"
    },
    {
     "data": {
      "text/markdown": [
       "\" I have said and I repeat my expression of solidarity which Hassan Nasrallah called for to stand with Hamas , \" Shiite cleric Muqtada al - Sadr said Friday in a reference to Nasrallah , the leader of the militant Lebanese Shiite **group** Hezbollah ."
      ],
      "text/plain": [
       "<IPython.core.display.Markdown object>"
      ]
     },
     "metadata": {},
     "output_type": "display_data"
    },
    {
     "data": {
      "text/markdown": [
       "Today is my last day in the office here at Azurix , and in the coming months , I will start in a new position as SVP in the LNG development **group** at El Paso Energy ."
      ],
      "text/plain": [
       "<IPython.core.display.Markdown object>"
      ]
     },
     "metadata": {},
     "output_type": "display_data"
    },
    {
     "data": {
      "text/markdown": [
       "You are your own person ... and you demand freedom of thought ... to follow your own **convictions** ."
      ],
      "text/plain": [
       "<IPython.core.display.Markdown object>"
      ]
     },
     "metadata": {},
     "output_type": "display_data"
    },
    {
     "data": {
      "text/markdown": [
       "Please forward a copy of the J.M. Huber Corporation Guaranty to my **attention** ."
      ],
      "text/plain": [
       "<IPython.core.display.Markdown object>"
      ]
     },
     "metadata": {},
     "output_type": "display_data"
    },
    {
     "data": {
      "text/markdown": [
       "The multiple planetary afflictions are taking their **toll** ."
      ],
      "text/plain": [
       "<IPython.core.display.Markdown object>"
      ]
     },
     "metadata": {},
     "output_type": "display_data"
    },
    {
     "name": "stdout",
     "output_type": "stream",
     "text": [
      "Ela\t6\n"
     ]
    },
    {
     "data": {
      "text/markdown": [
       "Crap like this sure makes me want to rush right out and rescue people from dilemmas of their own **making** ."
      ],
      "text/plain": [
       "<IPython.core.display.Markdown object>"
      ]
     },
     "metadata": {},
     "output_type": "display_data"
    },
    {
     "data": {
      "text/markdown": [
       "In **fact** Peder and I were remarking on how agreeable they all are as the sucked on our balls last night ."
      ],
      "text/plain": [
       "<IPython.core.display.Markdown object>"
      ]
     },
     "metadata": {},
     "output_type": "display_data"
    },
    {
     "data": {
      "text/markdown": [
       "In **fact** you just do n't want to be involved in any arguments of any shape or form ..."
      ],
      "text/plain": [
       "<IPython.core.display.Markdown object>"
      ]
     },
     "metadata": {},
     "output_type": "display_data"
    },
    {
     "data": {
      "text/markdown": [
       "It was a good opportunity to know about Enron and its finance **sector** ."
      ],
      "text/plain": [
       "<IPython.core.display.Markdown object>"
      ]
     },
     "metadata": {},
     "output_type": "display_data"
    },
    {
     "data": {
      "text/markdown": [
       "Therefore , public housing residents have been unable to secure the units for which they qualified prior to the storm and are left homeless , as a **result** ."
      ],
      "text/plain": [
       "<IPython.core.display.Markdown object>"
      ]
     },
     "metadata": {},
     "output_type": "display_data"
    },
    {
     "data": {
      "text/markdown": [
       "They came through on all of their **promises** and we had a very successful day ."
      ],
      "text/plain": [
       "<IPython.core.display.Markdown object>"
      ]
     },
     "metadata": {},
     "output_type": "display_data"
    },
    {
     "name": "stdout",
     "output_type": "stream",
     "text": [
      "Ade\t63\n"
     ]
    },
    {
     "data": {
      "text/markdown": [
       "In the eastern city of Baqubah , guerrillas detonated a car bomb outside a police **station** , killing several people ."
      ],
      "text/plain": [
       "<IPython.core.display.Markdown object>"
      ]
     },
     "metadata": {},
     "output_type": "display_data"
    },
    {
     "data": {
      "text/markdown": [
       "The US lost yet another helicopter to hostile fire near Habbaniyah in the Sunni **heartland** , but this time the crew was safe ."
      ],
      "text/plain": [
       "<IPython.core.display.Markdown object>"
      ]
     },
     "metadata": {},
     "output_type": "display_data"
    },
    {
     "data": {
      "text/markdown": [
       "It seems clear to me that the manhunt for high Baath officials in the Sunni **heartland** is being done wrong , or at least in ways that are bad for US standing with local Iraqis ."
      ],
      "text/plain": [
       "<IPython.core.display.Markdown object>"
      ]
     },
     "metadata": {},
     "output_type": "display_data"
    },
    {
     "data": {
      "text/markdown": [
       "The continued Israeli colonization of the occupied Palestinian territories during the **1990s** helped , along with terrorist attacks by radical groups such as Hamas , to derail the peace process , which Sharon had always opposed ."
      ],
      "text/plain": [
       "<IPython.core.display.Markdown object>"
      ]
     },
     "metadata": {},
     "output_type": "display_data"
    },
    {
     "data": {
      "text/markdown": [
       "\" They can freely write anything they like about our prophet , but if one raises doubts about the Holocaust he is either fined or sent to **prison** , \" he added ."
      ],
      "text/plain": [
       "<IPython.core.display.Markdown object>"
      ]
     },
     "metadata": {},
     "output_type": "display_data"
    },
    {
     "data": {
      "text/markdown": [
       "Armed clashes broke out in several northern Iraqi **cities** on Wednesday , leaving some 22 persons dead in Mosul , Baiji , and Tuz ."
      ],
      "text/plain": [
       "<IPython.core.display.Markdown object>"
      ]
     },
     "metadata": {},
     "output_type": "display_data"
    },
    {
     "data": {
      "text/markdown": [
       "He reports that the Iraqi Islamic Party , which had earlier been absolutely committed to getting out the Sunni **vote** , is now wavering and saying their position will depend on the situation ."
      ],
      "text/plain": [
       "<IPython.core.display.Markdown object>"
      ]
     },
     "metadata": {},
     "output_type": "display_data"
    },
    {
     "data": {
      "text/markdown": [
       "Though I am loathe to quote other writers at legnth in this **space** , this little bit from Dan Froomkin 's \" White House Briefing \" column in the WashPost today is just too good to pass up ( read the whole column here ) :"
      ],
      "text/plain": [
       "<IPython.core.display.Markdown object>"
      ]
     },
     "metadata": {},
     "output_type": "display_data"
    },
    {
     "data": {
      "text/markdown": [
       "There is a painting on my **wall** in the Oval -- first of all , I do n't know ."
      ],
      "text/plain": [
       "<IPython.core.display.Markdown object>"
      ]
     },
     "metadata": {},
     "output_type": "display_data"
    },
    {
     "data": {
      "text/markdown": [
       "But if -- there 's a painting on the **wall** in the Oval Office that shows a horseman charging up a steep cliff , and there are at least two other horsemen following ."
      ],
      "text/plain": [
       "<IPython.core.display.Markdown object>"
      ]
     },
     "metadata": {},
     "output_type": "display_data"
    },
    {
     "name": "stdout",
     "output_type": "stream",
     "text": [
      "All\t11\n"
     ]
    },
    {
     "data": {
      "text/markdown": [
       "The sheikh in **wheel** - chair has been attacked with a F - 16 - launched bomb ."
      ],
      "text/plain": [
       "<IPython.core.display.Markdown object>"
      ]
     },
     "metadata": {},
     "output_type": "display_data"
    },
    {
     "data": {
      "text/markdown": [
       "North Korea ’s Kim Jong Ill also has the bomb at the **top** of his list and Santa seems to have already come a few years ago ."
      ],
      "text/plain": [
       "<IPython.core.display.Markdown object>"
      ]
     },
     "metadata": {},
     "output_type": "display_data"
    },
    {
     "data": {
      "text/markdown": [
       "\" We were on the road and the first bridge was bombed and we drove home and all the other bridges were bombed and there was absolutely no way for us to get home , \" Chahine told reporters outside federal **court** in Detroit ."
      ],
      "text/plain": [
       "<IPython.core.display.Markdown object>"
      ]
     },
     "metadata": {},
     "output_type": "display_data"
    },
    {
     "data": {
      "text/markdown": [
       "I 'm inclined to say that google is doing what they can to both shape and support the growth of the most popular non-Microsoft browser out there - by taking on the leading lights in Firefox development , they 're ensuring the continued life of the project , and ensuring ( not that I think they need to ) that their voice will be heard admidst the higher **echelons** of the firefox development team ."
      ],
      "text/plain": [
       "<IPython.core.display.Markdown object>"
      ]
     },
     "metadata": {},
     "output_type": "display_data"
    },
    {
     "data": {
      "text/markdown": [
       "Work it into your speech -- something along the **line** of , \" And Jen , you come from great people and have fantastic friends ."
      ],
      "text/plain": [
       "<IPython.core.display.Markdown object>"
      ]
     },
     "metadata": {},
     "output_type": "display_data"
    },
    {
     "data": {
      "text/markdown": [
       "It is my understanding , from good sources in the Gov s **office** that the Gov will order Loretta Lynch to expeditiously implement the provision to suspend all parties auhtority to enter into direct access contracts ."
      ],
      "text/plain": [
       "<IPython.core.display.Markdown object>"
      ]
     },
     "metadata": {},
     "output_type": "display_data"
    },
    {
     "data": {
      "text/markdown": [
       "These agreements were forwarded to the **counterparty** , CCNG , Inc. ."
      ],
      "text/plain": [
       "<IPython.core.display.Markdown object>"
      ]
     },
     "metadata": {},
     "output_type": "display_data"
    },
    {
     "data": {
      "text/markdown": [
       "The former Iraqi leader Saddam Hussein is refusing to enter the Baghdad **courtroom** , in protest at how his trial is being conducted ."
      ],
      "text/plain": [
       "<IPython.core.display.Markdown object>"
      ]
     },
     "metadata": {},
     "output_type": "display_data"
    },
    {
     "data": {
      "text/markdown": [
       "Compare to last decade this University is gaining more prestige in International **level**"
      ],
      "text/plain": [
       "<IPython.core.display.Markdown object>"
      ]
     },
     "metadata": {},
     "output_type": "display_data"
    },
    {
     "data": {
      "text/markdown": [
       "Try the 360 restraunt u spin in the cn tower with a beautiful view the sky pod elevator is about an hour **line** up in the summer"
      ],
      "text/plain": [
       "<IPython.core.display.Markdown object>"
      ]
     },
     "metadata": {},
     "output_type": "display_data"
    },
    {
     "name": "stdout",
     "output_type": "stream",
     "text": [
      "Abl\t5\n"
     ]
    },
    {
     "data": {
      "text/markdown": [
       "It is true that Google has been in acquisition **mode** ."
      ],
      "text/plain": [
       "<IPython.core.display.Markdown object>"
      ]
     },
     "metadata": {},
     "output_type": "display_data"
    },
    {
     "data": {
      "text/markdown": [
       "Raw data is on the fisrt tab of the file to the **right** ."
      ],
      "text/plain": [
       "<IPython.core.display.Markdown object>"
      ]
     },
     "metadata": {},
     "output_type": "display_data"
    },
    {
     "data": {
      "text/markdown": [
       "Normally this author is semi-objective ( what blogger is ) but on the Seattlepi.com ( see source link ) Palestinian Leader Mahmoud Abbas has demanded that Israel leave all the land that it occupies before the 1967 border ( which includes East Jerusalem by the **way** ) ."
      ],
      "text/plain": [
       "<IPython.core.display.Markdown object>"
      ]
     },
     "metadata": {},
     "output_type": "display_data"
    },
    {
     "data": {
      "text/markdown": [
       "\" We 're not happy with Hamas 's position at this **stage** and in light of the Israeli escalation against the Palestinians , \" commented Khader Habib , a senior Islamic Jihad official ."
      ],
      "text/plain": [
       "<IPython.core.display.Markdown object>"
      ]
     },
     "metadata": {},
     "output_type": "display_data"
    },
    {
     "data": {
      "text/markdown": [
       "Miramar California is a **bit** north of San Diego ."
      ],
      "text/plain": [
       "<IPython.core.display.Markdown object>"
      ]
     },
     "metadata": {},
     "output_type": "display_data"
    }
   ],
   "source": [
    "for idx, (case, num) in enumerate(zip(CASES, torch.bincount(en_best_labels.int()))):\n",
    "  print(f\"{case}\\t{num}\")\n",
    "  for (sentence, sent_idx, _) in en_extra[en_best_labels.numpy()==idx][:10]:\n",
    "      sent_idx = int(sent_idx)\n",
    "      words = sentence.split(' ')\n",
    "      words[sent_idx] = \"**\" + words[sent_idx] + \"**\"\n",
    "      printmd(\" \".join(words))"
   ]
  },
  {
   "cell_type": "code",
   "execution_count": 12,
   "metadata": {},
   "outputs": [
    {
     "name": "stdout",
     "output_type": "stream",
     "text": [
      "Acc\t0\n",
      "Gen\t1524\n",
      "Ins\t15\n",
      "Par\t2009\n",
      "Ess\t68\n",
      "Tra\t6\n",
      "Com\t0\n",
      "Abe\t0\n",
      "Ine\t151\n",
      "Ill\t122\n",
      "Ela\t23\n",
      "Ade\t227\n",
      "All\t36\n",
      "Abl\t14\n"
     ]
    }
   ],
   "source": [
    "en_non_nom_outputs = en_outputs[:, 1:]\n",
    "en_rev_best_labels = torch.argmax(en_non_nom_outputs, dim=1)\n",
    "  \n",
    "for case, num in zip(CASES[1:], torch.bincount(en_rev_best_labels.int())):\n",
    "  print(f\"{case}\\t{num}\")\n",
    "  \n",
    "  "
   ]
  },
  {
   "cell_type": "code",
   "execution_count": 13,
   "metadata": {},
   "outputs": [
    {
     "name": "stdout",
     "output_type": "stream",
     "text": [
      "Acc\t0\n",
      "[]\n",
      "Gen\t1524\n",
      "[['The sheikh in wheel - chair has been attacked with a F - 16 - launched bomb .'\n",
      "  '11' 'F']\n",
      " [\"Today 's incident proves that Sharon has lost his patience and his hope in peace .\"\n",
      "  '2' 'incident']\n",
      " [\"Today 's incident proves that Sharon has lost his patience and his hope in peace .\"\n",
      "  '9' 'patience']\n",
      " ['In the eastern city of Baqubah , guerrillas detonated a car bomb outside a police station , killing several people .'\n",
      "  '10' 'car']\n",
      " ['In the eastern city of Baqubah , guerrillas detonated a car bomb outside a police station , killing several people .'\n",
      "  '14' 'police']\n",
      " ['( I hope that the US army got an enormous amount of information from her relatives , because otherwise this move was a bad , bad tradeoff ) .'\n",
      "  '6' 'army']\n",
      " ['( I hope that the US army got an enormous amount of information from her relatives , because otherwise this move was a bad , bad tradeoff ) .'\n",
      "  '26' 'tradeoff']\n",
      " ['The US troops fired into the hostile crowd , killing 4 .' '2' 'troops']\n",
      " ['The US troops fired into the hostile crowd , killing 4 .' '7' 'crowd']\n",
      " ['It seems clear to me that the manhunt for high Baath officials in the Sunni heartland is being done wrong , or at least in ways that are bad for US standing with local Iraqis .'\n",
      "  '7' 'manhunt']]\n",
      "Ins\t15\n",
      "[['Though I am loathe to quote other writers at legnth in this space , this little bit from Dan Froomkin \\'s \" White House Briefing \" column in the WashPost today is just too good to pass up ( read the whole column here ) :'\n",
      "  '9' 'legnth']\n",
      " [\"It 's on loan , by the way , from a guy named Joe O'Neill in Midland , Texas .\"\n",
      "  '7' 'way']\n",
      " ['As such , they may differ in material respects from those of , or expressed or published by on behalf of Carr Futures or its officers , directors , employees or affiliates . ,'\n",
      "  '8' 'respects']\n",
      " ['Further , she informed me that Section 7 of the agreement , which reads in part : Gas is free from liens and adverse claims of every kind , should be changed because the gas that the counterparty will be transporting on HPL may and / or is subject to liens .'\n",
      "  '27' 'kind']\n",
      " ['I meant to comment that I thought the people profiled in the article should pull their heads out of their self important asses .'\n",
      "  '20' 'self']\n",
      " ['The way the tax law works , the tax basis for your share distribution will be based on the closing stock price the day preceding notification to the transfer agent .'\n",
      "  '1' 'way']\n",
      " [\"I took a tip from Carri and looked up Rat ASCII's on Google .\" '9'\n",
      "  'Rat']\n",
      " ['He did n\\'t take a dislike to the kids for \" no \" reason !' '13'\n",
      "  'reason']\n",
      " [\"Listing his priorities , Abbas told supporters of the ruling Fatah party that he was determined to provide security to his people and continue the struggle against Israel 's partially completed West Bank barrier .\"\n",
      "  '33' 'barrier']\n",
      " [\"I like Hayes Street Grill .... another plus , it 's right by Civic Center , so you can take a romantic walk around the Opera House , City Hall , Symphony Auditorium ... all very beautiful .\"\n",
      "  '7' 'plus']]\n",
      "Par\t2009\n",
      "[['From the AP comes this story :' '5' 'story']\n",
      " ['President Bush on Tuesday nominated two individuals to replace retiring jurists on federal courts in the Washington area .'\n",
      "  '6' 'individuals']\n",
      " ['President Bush on Tuesday nominated two individuals to replace retiring jurists on federal courts in the Washington area .'\n",
      "  '10' 'jurists']\n",
      " ['Bush nominated Jennifer M. Anderson for a 15 - year term as associate judge of the Superior Court of the District of Columbia , replacing Steffen W. Graae .'\n",
      "  '9' 'year']\n",
      " ['Bush nominated Jennifer M. Anderson for a 15 - year term as associate judge of the Superior Court of the District of Columbia , replacing Steffen W. Graae .'\n",
      "  '10' 'term']\n",
      " ['Bush nominated Jennifer M. Anderson for a 15 - year term as associate judge of the Superior Court of the District of Columbia , replacing Steffen W. Graae .'\n",
      "  '13' 'judge']\n",
      " ['Bush also nominated A. Noel Anketell Kramer for a 15 - year term as associate judge of the District of Columbia Court of Appeals , replacing John Montague Steadman .'\n",
      "  '11' 'year']\n",
      " ['Bush also nominated A. Noel Anketell Kramer for a 15 - year term as associate judge of the District of Columbia Court of Appeals , replacing John Montague Steadman .'\n",
      "  '12' 'term']\n",
      " ['Bush also nominated A. Noel Anketell Kramer for a 15 - year term as associate judge of the District of Columbia Court of Appeals , replacing John Montague Steadman .'\n",
      "  '15' 'judge']\n",
      " ['The sheikh in wheel - chair has been attacked with a F - 16 - launched bomb .'\n",
      "  '1' 'sheikh']]\n",
      "Ess\t68\n",
      "[[\"Usually , these are just a chance for the suckups to suck up , but this time people are actually concerned about the company 's plans .\"\n",
      "  '16' 'time']\n",
      " [\"It 's not quite as freewheeling an environment as you 'd imagine : Sergey Brin has actually created a mathematical ' proof ' that the company 's self - driven research strategy , which gives employees one day a week to do research projects on their own , is a good , respectable idea .\"\n",
      "  '37' 'day']\n",
      " ['The hottest item on Christmas wish lists this year is nuclear weapons .'\n",
      "  '8' 'year']\n",
      " ['For the last few years there have been tensions with Iran ’s nuclear program with word coming this week that a deal was reached through the European Union that meets with the approval of the International Atomic Energy Agency .'\n",
      "  '18' 'week']\n",
      " ['This is unlike the situation last year in Asia when we evacuated U.S. citizens from areas that were hit by the tsunami - a phenomenon that is much less predictable than the Hezbollah - provoked destruction that rained down on Lebanon .'\n",
      "  '6' 'year']\n",
      " ['\" We were on the road and the first bridge was bombed and we drove home and all the other bridges were bombed and there was absolutely no way for us to get home , \" Chahine told reporters outside federal court in Detroit .'\n",
      "  '5' 'road']\n",
      " ['My role with Firefox and the Mozilla project will remain largely unchanged , I will continue doing much the same work as I have described above - with the new goal of successful 1.1 , 1.5 and 2.0 releases .'\n",
      "  '30' 'goal']\n",
      " ['I remain devoted full - time to the advancement of Firefox , the Mozilla platform and web browsing in general .'\n",
      "  '5' 'time']\n",
      " ['I just want to extend a big \" Welcome ! \" to Darin Darin Fisher who joined me at Google this week .'\n",
      "  '21' 'week']\n",
      " ['In this case , following the talent leads me to think that Google will be making an announcement this year that formalizes the Google - Mozilla / Firefox relationship .'\n",
      "  '19' 'year']]\n",
      "Tra\t6\n",
      "[['Vangie McGilloway Constellation Power Source , Inc. ( \" CPS \" ) 111 Market Place Ste 500 Baltimore , MD 21202 Phone 410-468-3798 Fax 410-468-3499 Email vangie.mcgilloway@powersrc.com'\n",
      "  '23' 'Fax']\n",
      " ['I am now modelling the Queensland electricity spot price using Geometric Brownian Mean Reverting Jump Diffusion Model and have followed your paper \" Making the most of mean reversion \" to estimate the mean reversion speed .'\n",
      "  '16' 'Model']\n",
      " ['I recently converted this test to an online test in order to norm it to a larger population and , subsequently , to make it available to any one who has access to a computer and the Internet .'\n",
      "  '10' 'order']\n",
      " [\"Good day , I 'm a foreigner living in malaysia , german citizen , 21 years of age , I was wondering if air asia recruits foreigners ?\"\n",
      "  '17' 'age']\n",
      " [\"Being a suburban teenager , I do n't really know where is cheap , safe , and close to orchestra hall ( 220 South Michigan Ave . )\"\n",
      "  '3' 'teenager']\n",
      " ['Thanks for fixing my garage door A ++++++++++++++++++' '5' 'door']]\n",
      "Com\t0\n",
      "[]\n",
      "Abe\t0\n",
      "[]\n",
      "Ine\t151\n",
      "[['President Bush on Tuesday nominated two individuals to replace retiring jurists on federal courts in the Washington area .'\n",
      "  '13' 'courts']\n",
      " ['It seems clear to me that the manhunt for high Baath officials in the Sunni heartland is being done wrong , or at least in ways that are bad for US standing with local Iraqis .'\n",
      "  '25' 'ways']\n",
      " ['It seems clear to me that the manhunt for high Baath officials in the Sunni heartland is being done wrong , or at least in ways that are bad for US standing with local Iraqis .'\n",
      "  '31' 'standing']\n",
      " ['\" Arafat \\'s secular nationalism was supple enough to compromise with Israel and to imagine a two - state solution , even if the road of negotiations remained rocky .'\n",
      "  '26' 'negotiations']\n",
      " [\"Ever since the first whispers about Google 's IPO , most investors have feared that the stock would come public at such a ridiculously high price that , even with a spectacularly profitable business model and some nearly flawless execution , the price would be too high for investors to make a real profit .\"\n",
      "  '4' 'whispers']\n",
      " [\"Ever since the first whispers about Google 's IPO , most investors have feared that the stock would come public at such a ridiculously high price that , even with a spectacularly profitable business model and some nearly flawless execution , the price would be too high for investors to make a real profit .\"\n",
      "  '34' 'model']\n",
      " [\"As the survey cited in the above - linked article shows , most Google users do n't intend to use Gmail , and Google is n't even as popular as Yahoo! and AOL .\"\n",
      "  '2' 'survey']\n",
      " ['Amazingly , these idiots think a cartoon of Mohammed is comparable to what we can expect in this new fun contest :'\n",
      "  '20' 'contest']\n",
      " [\"Shojai told the opening ceremony of the month - long fair in Tehran 's Palestine Contemporary Art Museum .\"\n",
      "  '10' 'fair']\n",
      " ['US Marines moved into most of Fallujah on Wednesday , though they were still meeting pockets of resistance .'\n",
      "  '15' 'pockets']]\n",
      "Ill\t122\n",
      "[['The sheikh in wheel - chair has been attacked with a F - 16 - launched bomb .'\n",
      "  '5' 'chair']\n",
      " ['The sheikh in wheel - chair has been attacked with a F - 16 - launched bomb .'\n",
      "  '16' 'bomb']\n",
      " ['In the eastern city of Baqubah , guerrillas detonated a car bomb outside a police station , killing several people .'\n",
      "  '11' 'bomb']\n",
      " ['The US lost yet another helicopter to hostile fire near Habbaniyah in the Sunni heartland , but this time the crew was safe .'\n",
      "  '8' 'fire']\n",
      " ['The US lost yet another helicopter to hostile fire near Habbaniyah in the Sunni heartland , but this time the crew was safe .'\n",
      "  '20' 'crew']\n",
      " ['The continued Israeli colonization of the occupied Palestinian territories during the 1990s helped , along with terrorist attacks by radical groups such as Hamas , to derail the peace process , which Sharon had always opposed .'\n",
      "  '20' 'groups']\n",
      " ['If the Israelis and the Palestinian leadership can not find a way to reinvigorate the peace process , cells of radical young Palestinians may grow up that look to bin Laden for their cues .'\n",
      "  '16' 'process']\n",
      " ['If the Israelis and the Palestinian leadership can not find a way to reinvigorate the peace process , cells of radical young Palestinians may grow up that look to bin Laden for their cues .'\n",
      "  '33' 'cues']\n",
      " [\"Xinhua reports that a wide range of Iraqi political forces on Tuesday condemned Sharon 's murder of Sheikh Ahmed Yassin , a religious leader of Hamas , the day before .\"\n",
      "  '9' 'forces']\n",
      " ['Radical Shiite cleric Muqtada al - Sadr said the attack was \" criminal \" and that \" the Zionists have left only one choice for the Arabs , that of fighting and jihad \" .'\n",
      "  '32' 'jihad']]\n",
      "Ela\t23\n",
      "[['Crap like this sure makes me want to rush right out and rescue people from dilemmas of their own making .'\n",
      "  '19' 'making']\n",
      " ['In fact Peder and I were remarking on how agreeable they all are as the sucked on our balls last night .'\n",
      "  '1' 'fact']\n",
      " ['It is my understanding , from good sources in the Gov s office that the Gov will order Loretta Lynch to expeditiously implement the provision to suspend all parties auhtority to enter into direct access contracts .'\n",
      "  '35' 'contracts']\n",
      " ['Today is my last day in the office here at Azurix , and in the coming months , I will start in a new position as SVP in the LNG development group at El Paso Energy .'\n",
      "  '0' 'Today']\n",
      " ['Also , we have attached a pdf black - line of the Guarantee vs the form of guarantee in the Turbine Contract .'\n",
      "  '7' 'black']\n",
      " [\"In fact you just do n't want to be involved in any arguments of any shape or form ...\"\n",
      "  '1' 'fact']\n",
      " ['I have sent your question re on line trading to that area .' '8'\n",
      "  'trading']\n",
      " ['Please find attached a credit worksheet for a Master Firm contract for the above mentioned counterparty .'\n",
      "  '10' 'contract']\n",
      " ['It was a good opportunity to know about Enron and its finance sector .'\n",
      "  '12' 'sector']\n",
      " ['The way the tax law works , the tax basis for your share distribution will be based on the closing stock price the day preceding notification to the transfer agent .'\n",
      "  '13' 'distribution']]\n",
      "Ade\t227\n",
      "[['President Bush on Tuesday nominated two individuals to replace retiring jurists on federal courts in the Washington area .'\n",
      "  '17' 'area']\n",
      " ['In the eastern city of Baqubah , guerrillas detonated a car bomb outside a police station , killing several people .'\n",
      "  '15' 'station']\n",
      " ['The US lost yet another helicopter to hostile fire near Habbaniyah in the Sunni heartland , but this time the crew was safe .'\n",
      "  '14' 'heartland']\n",
      " ['The US lost yet another helicopter to hostile fire near Habbaniyah in the Sunni heartland , but this time the crew was safe .'\n",
      "  '18' 'time']\n",
      " ['It seems clear to me that the manhunt for high Baath officials in the Sunni heartland is being done wrong , or at least in ways that are bad for US standing with local Iraqis .'\n",
      "  '15' 'heartland']\n",
      " ['The continued Israeli colonization of the occupied Palestinian territories during the 1990s helped , along with terrorist attacks by radical groups such as Hamas , to derail the peace process , which Sharon had always opposed .'\n",
      "  '11' '1990s']\n",
      " [\"Ever since the first whispers about Google 's IPO , most investors have feared that the stock would come public at such a ridiculously high price that , even with a spectacularly profitable business model and some nearly flawless execution , the price would be too high for investors to make a real profit .\"\n",
      "  '11' 'investors']\n",
      " [\"Ever since the first whispers about Google 's IPO , most investors have feared that the stock would come public at such a ridiculously high price that , even with a spectacularly profitable business model and some nearly flawless execution , the price would be too high for investors to make a real profit .\"\n",
      "  '25' 'price']\n",
      " [\"Ever since the first whispers about Google 's IPO , most investors have feared that the stock would come public at such a ridiculously high price that , even with a spectacularly profitable business model and some nearly flawless execution , the price would be too high for investors to make a real profit .\"\n",
      "  '42' 'price']\n",
      " [\"It 's tough to make money branching out when your appeal is in your focus .\"\n",
      "  '14' 'focus']]\n",
      "All\t36\n",
      "[['The sheikh in wheel - chair has been attacked with a F - 16 - launched bomb .'\n",
      "  '3' 'wheel']\n",
      " ['North Korea ’s Kim Jong Ill also has the bomb at the top of his list and Santa seems to have already come a few years ago .'\n",
      "  '12' 'top']\n",
      " ['The United States goes into a war zone and evacuates a bunch of U.S. citizens ( most of whom were \" dual - citizens \" ) .'\n",
      "  '7' 'zone']\n",
      " ['\" We were on the road and the first bridge was bombed and we drove home and all the other bridges were bombed and there was absolutely no way for us to get home , \" Chahine told reporters outside federal court in Detroit .'\n",
      "  '41' 'court']\n",
      " [\"I 'm inclined to say that google is doing what they can to both shape and support the growth of the most popular non-Microsoft browser out there - by taking on the leading lights in Firefox development , they 're ensuring the continued life of the project , and ensuring ( not that I think they need to ) that their voice will be heard admidst the higher echelons of the firefox development team .\"\n",
      "  '68' 'echelons']\n",
      " ['Work it into your speech -- something along the line of , \" And Jen , you come from great people and have fantastic friends .'\n",
      "  '9' 'line']\n",
      " ['It is my understanding , from good sources in the Gov s office that the Gov will order Loretta Lynch to expeditiously implement the provision to suspend all parties auhtority to enter into direct access contracts .'\n",
      "  '12' 'office']\n",
      " [\"We will meeting Rod 's office EB 4054\" '5' 'office']\n",
      " ['However , he also mentioned we were a close sixth , that is close to the fifth highest bid .'\n",
      "  '18' 'bid']\n",
      " ['He gave no indication on the value of the highest bid .' '10' 'bid']]\n",
      "Abl\t14\n",
      "[[\"Google has finally had an analyst day -- a chance to present the company 's story to the ( miniscule number of ) people who have n't heard it .\"\n",
      "  '6' 'day']\n",
      " ['It is true that Google has been in acquisition mode .' '9' 'mode']\n",
      " ['John Staikos Direct Dial :? 203.961.7523 Direct Fax :? 203.674.7723 E-mail :? johnstaikos@paulhastings.com'\n",
      "  '3' 'Dial']\n",
      " ['Raw data is on the fisrt tab of the file to the right .' '12' 'right']\n",
      " ['In addition , I received feedback from our Gas Desk that the access to the Gas segment of Enron On - Line was cut off to CPS --- do you know who would handle this at Enron that we can speak to ?'\n",
      "  '16' 'segment']\n",
      " ['Vangie McGilloway Constellation Power Source , Inc. ( \" CPS \" ) 111 Market Place Ste 500 Baltimore , MD 21202 Phone 410-468-3798 Fax 410-468-3499 Email vangie.mcgilloway@powersrc.com'\n",
      "  '15' 'Ste']\n",
      " ['I hope you have a good flight back to home .' '9' 'home']\n",
      " ['Sungjoo Lee Stochastic Processes and Simulation in Finance Georgia Institute of Technology School of Industrial and Systems Engineering E-mail address : goldconn@isye.gatech.edu gte114t@prism.gatech.edu Home : 404-449-1026 Office : Coming Soon !'\n",
      "  '23' 'Home']\n",
      " ['The storm threatened oil installations in the Gulf of Mexico where about one - quarter of US oil operations are based .'\n",
      "  '14' 'quarter']\n",
      " ['Normally this author is semi-objective ( what blogger is ) but on the Seattlepi.com ( see source link ) Palestinian Leader Mahmoud Abbas has demanded that Israel leave all the land that it occupies before the 1967 border ( which includes East Jerusalem by the way ) .'\n",
      "  '45' 'way']]\n"
     ]
    }
   ],
   "source": [
    "for idx, (case, num) in enumerate(zip(CASES[1:], torch.bincount(en_rev_best_labels.int()))):\n",
    "  print(f\"{case}\\t{num}\")\n",
    "  print(en_extra[en_rev_best_labels.numpy()==idx][:10])"
   ]
  },
  {
   "cell_type": "code",
   "execution_count": 14,
   "metadata": {},
   "outputs": [
    {
     "name": "stdout",
     "output_type": "stream",
     "text": [
      "Acc\t0\n",
      "Gen\t1524\n"
     ]
    },
    {
     "data": {
      "text/markdown": [
       "The sheikh in wheel - chair has been attacked with a **F** - 16 - launched bomb ."
      ],
      "text/plain": [
       "<IPython.core.display.Markdown object>"
      ]
     },
     "metadata": {},
     "output_type": "display_data"
    },
    {
     "data": {
      "text/markdown": [
       "Today 's **incident** proves that Sharon has lost his patience and his hope in peace ."
      ],
      "text/plain": [
       "<IPython.core.display.Markdown object>"
      ]
     },
     "metadata": {},
     "output_type": "display_data"
    },
    {
     "data": {
      "text/markdown": [
       "Today 's incident proves that Sharon has lost his **patience** and his hope in peace ."
      ],
      "text/plain": [
       "<IPython.core.display.Markdown object>"
      ]
     },
     "metadata": {},
     "output_type": "display_data"
    },
    {
     "data": {
      "text/markdown": [
       "In the eastern city of Baqubah , guerrillas detonated a **car** bomb outside a police station , killing several people ."
      ],
      "text/plain": [
       "<IPython.core.display.Markdown object>"
      ]
     },
     "metadata": {},
     "output_type": "display_data"
    },
    {
     "data": {
      "text/markdown": [
       "In the eastern city of Baqubah , guerrillas detonated a car bomb outside a **police** station , killing several people ."
      ],
      "text/plain": [
       "<IPython.core.display.Markdown object>"
      ]
     },
     "metadata": {},
     "output_type": "display_data"
    },
    {
     "data": {
      "text/markdown": [
       "( I hope that the US **army** got an enormous amount of information from her relatives , because otherwise this move was a bad , bad tradeoff ) ."
      ],
      "text/plain": [
       "<IPython.core.display.Markdown object>"
      ]
     },
     "metadata": {},
     "output_type": "display_data"
    },
    {
     "data": {
      "text/markdown": [
       "( I hope that the US army got an enormous amount of information from her relatives , because otherwise this move was a bad , bad **tradeoff** ) ."
      ],
      "text/plain": [
       "<IPython.core.display.Markdown object>"
      ]
     },
     "metadata": {},
     "output_type": "display_data"
    },
    {
     "data": {
      "text/markdown": [
       "The US **troops** fired into the hostile crowd , killing 4 ."
      ],
      "text/plain": [
       "<IPython.core.display.Markdown object>"
      ]
     },
     "metadata": {},
     "output_type": "display_data"
    },
    {
     "data": {
      "text/markdown": [
       "The US troops fired into the hostile **crowd** , killing 4 ."
      ],
      "text/plain": [
       "<IPython.core.display.Markdown object>"
      ]
     },
     "metadata": {},
     "output_type": "display_data"
    },
    {
     "data": {
      "text/markdown": [
       "It seems clear to me that the **manhunt** for high Baath officials in the Sunni heartland is being done wrong , or at least in ways that are bad for US standing with local Iraqis ."
      ],
      "text/plain": [
       "<IPython.core.display.Markdown object>"
      ]
     },
     "metadata": {},
     "output_type": "display_data"
    },
    {
     "name": "stdout",
     "output_type": "stream",
     "text": [
      "Ins\t15\n"
     ]
    },
    {
     "data": {
      "text/markdown": [
       "Though I am loathe to quote other writers at **legnth** in this space , this little bit from Dan Froomkin 's \" White House Briefing \" column in the WashPost today is just too good to pass up ( read the whole column here ) :"
      ],
      "text/plain": [
       "<IPython.core.display.Markdown object>"
      ]
     },
     "metadata": {},
     "output_type": "display_data"
    },
    {
     "data": {
      "text/markdown": [
       "It 's on loan , by the **way** , from a guy named Joe O'Neill in Midland , Texas ."
      ],
      "text/plain": [
       "<IPython.core.display.Markdown object>"
      ]
     },
     "metadata": {},
     "output_type": "display_data"
    },
    {
     "data": {
      "text/markdown": [
       "As such , they may differ in material **respects** from those of , or expressed or published by on behalf of Carr Futures or its officers , directors , employees or affiliates . ,"
      ],
      "text/plain": [
       "<IPython.core.display.Markdown object>"
      ]
     },
     "metadata": {},
     "output_type": "display_data"
    },
    {
     "data": {
      "text/markdown": [
       "Further , she informed me that Section 7 of the agreement , which reads in part : Gas is free from liens and adverse claims of every **kind** , should be changed because the gas that the counterparty will be transporting on HPL may and / or is subject to liens ."
      ],
      "text/plain": [
       "<IPython.core.display.Markdown object>"
      ]
     },
     "metadata": {},
     "output_type": "display_data"
    },
    {
     "data": {
      "text/markdown": [
       "I meant to comment that I thought the people profiled in the article should pull their heads out of their **self** important asses ."
      ],
      "text/plain": [
       "<IPython.core.display.Markdown object>"
      ]
     },
     "metadata": {},
     "output_type": "display_data"
    },
    {
     "data": {
      "text/markdown": [
       "The **way** the tax law works , the tax basis for your share distribution will be based on the closing stock price the day preceding notification to the transfer agent ."
      ],
      "text/plain": [
       "<IPython.core.display.Markdown object>"
      ]
     },
     "metadata": {},
     "output_type": "display_data"
    },
    {
     "data": {
      "text/markdown": [
       "I took a tip from Carri and looked up **Rat** ASCII's on Google ."
      ],
      "text/plain": [
       "<IPython.core.display.Markdown object>"
      ]
     },
     "metadata": {},
     "output_type": "display_data"
    },
    {
     "data": {
      "text/markdown": [
       "He did n't take a dislike to the kids for \" no \" **reason** !"
      ],
      "text/plain": [
       "<IPython.core.display.Markdown object>"
      ]
     },
     "metadata": {},
     "output_type": "display_data"
    },
    {
     "data": {
      "text/markdown": [
       "Listing his priorities , Abbas told supporters of the ruling Fatah party that he was determined to provide security to his people and continue the struggle against Israel 's partially completed West Bank **barrier** ."
      ],
      "text/plain": [
       "<IPython.core.display.Markdown object>"
      ]
     },
     "metadata": {},
     "output_type": "display_data"
    },
    {
     "data": {
      "text/markdown": [
       "I like Hayes Street Grill .... another **plus** , it 's right by Civic Center , so you can take a romantic walk around the Opera House , City Hall , Symphony Auditorium ... all very beautiful ."
      ],
      "text/plain": [
       "<IPython.core.display.Markdown object>"
      ]
     },
     "metadata": {},
     "output_type": "display_data"
    },
    {
     "name": "stdout",
     "output_type": "stream",
     "text": [
      "Par\t2009\n"
     ]
    },
    {
     "data": {
      "text/markdown": [
       "From the AP comes this **story** :"
      ],
      "text/plain": [
       "<IPython.core.display.Markdown object>"
      ]
     },
     "metadata": {},
     "output_type": "display_data"
    },
    {
     "data": {
      "text/markdown": [
       "President Bush on Tuesday nominated two **individuals** to replace retiring jurists on federal courts in the Washington area ."
      ],
      "text/plain": [
       "<IPython.core.display.Markdown object>"
      ]
     },
     "metadata": {},
     "output_type": "display_data"
    },
    {
     "data": {
      "text/markdown": [
       "President Bush on Tuesday nominated two individuals to replace retiring **jurists** on federal courts in the Washington area ."
      ],
      "text/plain": [
       "<IPython.core.display.Markdown object>"
      ]
     },
     "metadata": {},
     "output_type": "display_data"
    },
    {
     "data": {
      "text/markdown": [
       "Bush nominated Jennifer M. Anderson for a 15 - **year** term as associate judge of the Superior Court of the District of Columbia , replacing Steffen W. Graae ."
      ],
      "text/plain": [
       "<IPython.core.display.Markdown object>"
      ]
     },
     "metadata": {},
     "output_type": "display_data"
    },
    {
     "data": {
      "text/markdown": [
       "Bush nominated Jennifer M. Anderson for a 15 - year **term** as associate judge of the Superior Court of the District of Columbia , replacing Steffen W. Graae ."
      ],
      "text/plain": [
       "<IPython.core.display.Markdown object>"
      ]
     },
     "metadata": {},
     "output_type": "display_data"
    },
    {
     "data": {
      "text/markdown": [
       "Bush nominated Jennifer M. Anderson for a 15 - year term as associate **judge** of the Superior Court of the District of Columbia , replacing Steffen W. Graae ."
      ],
      "text/plain": [
       "<IPython.core.display.Markdown object>"
      ]
     },
     "metadata": {},
     "output_type": "display_data"
    },
    {
     "data": {
      "text/markdown": [
       "Bush also nominated A. Noel Anketell Kramer for a 15 - **year** term as associate judge of the District of Columbia Court of Appeals , replacing John Montague Steadman ."
      ],
      "text/plain": [
       "<IPython.core.display.Markdown object>"
      ]
     },
     "metadata": {},
     "output_type": "display_data"
    },
    {
     "data": {
      "text/markdown": [
       "Bush also nominated A. Noel Anketell Kramer for a 15 - year **term** as associate judge of the District of Columbia Court of Appeals , replacing John Montague Steadman ."
      ],
      "text/plain": [
       "<IPython.core.display.Markdown object>"
      ]
     },
     "metadata": {},
     "output_type": "display_data"
    },
    {
     "data": {
      "text/markdown": [
       "Bush also nominated A. Noel Anketell Kramer for a 15 - year term as associate **judge** of the District of Columbia Court of Appeals , replacing John Montague Steadman ."
      ],
      "text/plain": [
       "<IPython.core.display.Markdown object>"
      ]
     },
     "metadata": {},
     "output_type": "display_data"
    },
    {
     "data": {
      "text/markdown": [
       "The **sheikh** in wheel - chair has been attacked with a F - 16 - launched bomb ."
      ],
      "text/plain": [
       "<IPython.core.display.Markdown object>"
      ]
     },
     "metadata": {},
     "output_type": "display_data"
    },
    {
     "name": "stdout",
     "output_type": "stream",
     "text": [
      "Ess\t68\n"
     ]
    },
    {
     "data": {
      "text/markdown": [
       "Usually , these are just a chance for the suckups to suck up , but this **time** people are actually concerned about the company 's plans ."
      ],
      "text/plain": [
       "<IPython.core.display.Markdown object>"
      ]
     },
     "metadata": {},
     "output_type": "display_data"
    },
    {
     "data": {
      "text/markdown": [
       "It 's not quite as freewheeling an environment as you 'd imagine : Sergey Brin has actually created a mathematical ' proof ' that the company 's self - driven research strategy , which gives employees one **day** a week to do research projects on their own , is a good , respectable idea ."
      ],
      "text/plain": [
       "<IPython.core.display.Markdown object>"
      ]
     },
     "metadata": {},
     "output_type": "display_data"
    },
    {
     "data": {
      "text/markdown": [
       "The hottest item on Christmas wish lists this **year** is nuclear weapons ."
      ],
      "text/plain": [
       "<IPython.core.display.Markdown object>"
      ]
     },
     "metadata": {},
     "output_type": "display_data"
    },
    {
     "data": {
      "text/markdown": [
       "For the last few years there have been tensions with Iran ’s nuclear program with word coming this **week** that a deal was reached through the European Union that meets with the approval of the International Atomic Energy Agency ."
      ],
      "text/plain": [
       "<IPython.core.display.Markdown object>"
      ]
     },
     "metadata": {},
     "output_type": "display_data"
    },
    {
     "data": {
      "text/markdown": [
       "This is unlike the situation last **year** in Asia when we evacuated U.S. citizens from areas that were hit by the tsunami - a phenomenon that is much less predictable than the Hezbollah - provoked destruction that rained down on Lebanon ."
      ],
      "text/plain": [
       "<IPython.core.display.Markdown object>"
      ]
     },
     "metadata": {},
     "output_type": "display_data"
    },
    {
     "data": {
      "text/markdown": [
       "\" We were on the **road** and the first bridge was bombed and we drove home and all the other bridges were bombed and there was absolutely no way for us to get home , \" Chahine told reporters outside federal court in Detroit ."
      ],
      "text/plain": [
       "<IPython.core.display.Markdown object>"
      ]
     },
     "metadata": {},
     "output_type": "display_data"
    },
    {
     "data": {
      "text/markdown": [
       "My role with Firefox and the Mozilla project will remain largely unchanged , I will continue doing much the same work as I have described above - with the new **goal** of successful 1.1 , 1.5 and 2.0 releases ."
      ],
      "text/plain": [
       "<IPython.core.display.Markdown object>"
      ]
     },
     "metadata": {},
     "output_type": "display_data"
    },
    {
     "data": {
      "text/markdown": [
       "I remain devoted full - **time** to the advancement of Firefox , the Mozilla platform and web browsing in general ."
      ],
      "text/plain": [
       "<IPython.core.display.Markdown object>"
      ]
     },
     "metadata": {},
     "output_type": "display_data"
    },
    {
     "data": {
      "text/markdown": [
       "I just want to extend a big \" Welcome ! \" to Darin Darin Fisher who joined me at Google this **week** ."
      ],
      "text/plain": [
       "<IPython.core.display.Markdown object>"
      ]
     },
     "metadata": {},
     "output_type": "display_data"
    },
    {
     "data": {
      "text/markdown": [
       "In this case , following the talent leads me to think that Google will be making an announcement this **year** that formalizes the Google - Mozilla / Firefox relationship ."
      ],
      "text/plain": [
       "<IPython.core.display.Markdown object>"
      ]
     },
     "metadata": {},
     "output_type": "display_data"
    },
    {
     "name": "stdout",
     "output_type": "stream",
     "text": [
      "Tra\t6\n"
     ]
    },
    {
     "data": {
      "text/markdown": [
       "Vangie McGilloway Constellation Power Source , Inc. ( \" CPS \" ) 111 Market Place Ste 500 Baltimore , MD 21202 Phone 410-468-3798 **Fax** 410-468-3499 Email vangie.mcgilloway@powersrc.com"
      ],
      "text/plain": [
       "<IPython.core.display.Markdown object>"
      ]
     },
     "metadata": {},
     "output_type": "display_data"
    },
    {
     "data": {
      "text/markdown": [
       "I am now modelling the Queensland electricity spot price using Geometric Brownian Mean Reverting Jump Diffusion **Model** and have followed your paper \" Making the most of mean reversion \" to estimate the mean reversion speed ."
      ],
      "text/plain": [
       "<IPython.core.display.Markdown object>"
      ]
     },
     "metadata": {},
     "output_type": "display_data"
    },
    {
     "data": {
      "text/markdown": [
       "I recently converted this test to an online test in **order** to norm it to a larger population and , subsequently , to make it available to any one who has access to a computer and the Internet ."
      ],
      "text/plain": [
       "<IPython.core.display.Markdown object>"
      ]
     },
     "metadata": {},
     "output_type": "display_data"
    },
    {
     "data": {
      "text/markdown": [
       "Good day , I 'm a foreigner living in malaysia , german citizen , 21 years of **age** , I was wondering if air asia recruits foreigners ?"
      ],
      "text/plain": [
       "<IPython.core.display.Markdown object>"
      ]
     },
     "metadata": {},
     "output_type": "display_data"
    },
    {
     "data": {
      "text/markdown": [
       "Being a suburban **teenager** , I do n't really know where is cheap , safe , and close to orchestra hall ( 220 South Michigan Ave . )"
      ],
      "text/plain": [
       "<IPython.core.display.Markdown object>"
      ]
     },
     "metadata": {},
     "output_type": "display_data"
    },
    {
     "data": {
      "text/markdown": [
       "Thanks for fixing my garage **door** A ++++++++++++++++++"
      ],
      "text/plain": [
       "<IPython.core.display.Markdown object>"
      ]
     },
     "metadata": {},
     "output_type": "display_data"
    },
    {
     "name": "stdout",
     "output_type": "stream",
     "text": [
      "Com\t0\n",
      "Abe\t0\n",
      "Ine\t151\n"
     ]
    },
    {
     "data": {
      "text/markdown": [
       "President Bush on Tuesday nominated two individuals to replace retiring jurists on federal **courts** in the Washington area ."
      ],
      "text/plain": [
       "<IPython.core.display.Markdown object>"
      ]
     },
     "metadata": {},
     "output_type": "display_data"
    },
    {
     "data": {
      "text/markdown": [
       "It seems clear to me that the manhunt for high Baath officials in the Sunni heartland is being done wrong , or at least in **ways** that are bad for US standing with local Iraqis ."
      ],
      "text/plain": [
       "<IPython.core.display.Markdown object>"
      ]
     },
     "metadata": {},
     "output_type": "display_data"
    },
    {
     "data": {
      "text/markdown": [
       "It seems clear to me that the manhunt for high Baath officials in the Sunni heartland is being done wrong , or at least in ways that are bad for US **standing** with local Iraqis ."
      ],
      "text/plain": [
       "<IPython.core.display.Markdown object>"
      ]
     },
     "metadata": {},
     "output_type": "display_data"
    },
    {
     "data": {
      "text/markdown": [
       "\" Arafat 's secular nationalism was supple enough to compromise with Israel and to imagine a two - state solution , even if the road of **negotiations** remained rocky ."
      ],
      "text/plain": [
       "<IPython.core.display.Markdown object>"
      ]
     },
     "metadata": {},
     "output_type": "display_data"
    },
    {
     "data": {
      "text/markdown": [
       "Ever since the first **whispers** about Google 's IPO , most investors have feared that the stock would come public at such a ridiculously high price that , even with a spectacularly profitable business model and some nearly flawless execution , the price would be too high for investors to make a real profit ."
      ],
      "text/plain": [
       "<IPython.core.display.Markdown object>"
      ]
     },
     "metadata": {},
     "output_type": "display_data"
    },
    {
     "data": {
      "text/markdown": [
       "Ever since the first whispers about Google 's IPO , most investors have feared that the stock would come public at such a ridiculously high price that , even with a spectacularly profitable business **model** and some nearly flawless execution , the price would be too high for investors to make a real profit ."
      ],
      "text/plain": [
       "<IPython.core.display.Markdown object>"
      ]
     },
     "metadata": {},
     "output_type": "display_data"
    },
    {
     "data": {
      "text/markdown": [
       "As the **survey** cited in the above - linked article shows , most Google users do n't intend to use Gmail , and Google is n't even as popular as Yahoo! and AOL ."
      ],
      "text/plain": [
       "<IPython.core.display.Markdown object>"
      ]
     },
     "metadata": {},
     "output_type": "display_data"
    },
    {
     "data": {
      "text/markdown": [
       "Amazingly , these idiots think a cartoon of Mohammed is comparable to what we can expect in this new fun **contest** :"
      ],
      "text/plain": [
       "<IPython.core.display.Markdown object>"
      ]
     },
     "metadata": {},
     "output_type": "display_data"
    },
    {
     "data": {
      "text/markdown": [
       "Shojai told the opening ceremony of the month - long **fair** in Tehran 's Palestine Contemporary Art Museum ."
      ],
      "text/plain": [
       "<IPython.core.display.Markdown object>"
      ]
     },
     "metadata": {},
     "output_type": "display_data"
    },
    {
     "data": {
      "text/markdown": [
       "US Marines moved into most of Fallujah on Wednesday , though they were still meeting **pockets** of resistance ."
      ],
      "text/plain": [
       "<IPython.core.display.Markdown object>"
      ]
     },
     "metadata": {},
     "output_type": "display_data"
    },
    {
     "name": "stdout",
     "output_type": "stream",
     "text": [
      "Ill\t122\n"
     ]
    },
    {
     "data": {
      "text/markdown": [
       "The sheikh in wheel - **chair** has been attacked with a F - 16 - launched bomb ."
      ],
      "text/plain": [
       "<IPython.core.display.Markdown object>"
      ]
     },
     "metadata": {},
     "output_type": "display_data"
    },
    {
     "data": {
      "text/markdown": [
       "The sheikh in wheel - chair has been attacked with a F - 16 - launched **bomb** ."
      ],
      "text/plain": [
       "<IPython.core.display.Markdown object>"
      ]
     },
     "metadata": {},
     "output_type": "display_data"
    },
    {
     "data": {
      "text/markdown": [
       "In the eastern city of Baqubah , guerrillas detonated a car **bomb** outside a police station , killing several people ."
      ],
      "text/plain": [
       "<IPython.core.display.Markdown object>"
      ]
     },
     "metadata": {},
     "output_type": "display_data"
    },
    {
     "data": {
      "text/markdown": [
       "The US lost yet another helicopter to hostile **fire** near Habbaniyah in the Sunni heartland , but this time the crew was safe ."
      ],
      "text/plain": [
       "<IPython.core.display.Markdown object>"
      ]
     },
     "metadata": {},
     "output_type": "display_data"
    },
    {
     "data": {
      "text/markdown": [
       "The US lost yet another helicopter to hostile fire near Habbaniyah in the Sunni heartland , but this time the **crew** was safe ."
      ],
      "text/plain": [
       "<IPython.core.display.Markdown object>"
      ]
     },
     "metadata": {},
     "output_type": "display_data"
    },
    {
     "data": {
      "text/markdown": [
       "The continued Israeli colonization of the occupied Palestinian territories during the 1990s helped , along with terrorist attacks by radical **groups** such as Hamas , to derail the peace process , which Sharon had always opposed ."
      ],
      "text/plain": [
       "<IPython.core.display.Markdown object>"
      ]
     },
     "metadata": {},
     "output_type": "display_data"
    },
    {
     "data": {
      "text/markdown": [
       "If the Israelis and the Palestinian leadership can not find a way to reinvigorate the peace **process** , cells of radical young Palestinians may grow up that look to bin Laden for their cues ."
      ],
      "text/plain": [
       "<IPython.core.display.Markdown object>"
      ]
     },
     "metadata": {},
     "output_type": "display_data"
    },
    {
     "data": {
      "text/markdown": [
       "If the Israelis and the Palestinian leadership can not find a way to reinvigorate the peace process , cells of radical young Palestinians may grow up that look to bin Laden for their **cues** ."
      ],
      "text/plain": [
       "<IPython.core.display.Markdown object>"
      ]
     },
     "metadata": {},
     "output_type": "display_data"
    },
    {
     "data": {
      "text/markdown": [
       "Xinhua reports that a wide range of Iraqi political **forces** on Tuesday condemned Sharon 's murder of Sheikh Ahmed Yassin , a religious leader of Hamas , the day before ."
      ],
      "text/plain": [
       "<IPython.core.display.Markdown object>"
      ]
     },
     "metadata": {},
     "output_type": "display_data"
    },
    {
     "data": {
      "text/markdown": [
       "Radical Shiite cleric Muqtada al - Sadr said the attack was \" criminal \" and that \" the Zionists have left only one choice for the Arabs , that of fighting and **jihad** \" ."
      ],
      "text/plain": [
       "<IPython.core.display.Markdown object>"
      ]
     },
     "metadata": {},
     "output_type": "display_data"
    },
    {
     "name": "stdout",
     "output_type": "stream",
     "text": [
      "Ela\t23\n"
     ]
    },
    {
     "data": {
      "text/markdown": [
       "Crap like this sure makes me want to rush right out and rescue people from dilemmas of their own **making** ."
      ],
      "text/plain": [
       "<IPython.core.display.Markdown object>"
      ]
     },
     "metadata": {},
     "output_type": "display_data"
    },
    {
     "data": {
      "text/markdown": [
       "In **fact** Peder and I were remarking on how agreeable they all are as the sucked on our balls last night ."
      ],
      "text/plain": [
       "<IPython.core.display.Markdown object>"
      ]
     },
     "metadata": {},
     "output_type": "display_data"
    },
    {
     "data": {
      "text/markdown": [
       "It is my understanding , from good sources in the Gov s office that the Gov will order Loretta Lynch to expeditiously implement the provision to suspend all parties auhtority to enter into direct access **contracts** ."
      ],
      "text/plain": [
       "<IPython.core.display.Markdown object>"
      ]
     },
     "metadata": {},
     "output_type": "display_data"
    },
    {
     "data": {
      "text/markdown": [
       "**Today** is my last day in the office here at Azurix , and in the coming months , I will start in a new position as SVP in the LNG development group at El Paso Energy ."
      ],
      "text/plain": [
       "<IPython.core.display.Markdown object>"
      ]
     },
     "metadata": {},
     "output_type": "display_data"
    },
    {
     "data": {
      "text/markdown": [
       "Also , we have attached a pdf **black** - line of the Guarantee vs the form of guarantee in the Turbine Contract ."
      ],
      "text/plain": [
       "<IPython.core.display.Markdown object>"
      ]
     },
     "metadata": {},
     "output_type": "display_data"
    },
    {
     "data": {
      "text/markdown": [
       "In **fact** you just do n't want to be involved in any arguments of any shape or form ..."
      ],
      "text/plain": [
       "<IPython.core.display.Markdown object>"
      ]
     },
     "metadata": {},
     "output_type": "display_data"
    },
    {
     "data": {
      "text/markdown": [
       "I have sent your question re on line **trading** to that area ."
      ],
      "text/plain": [
       "<IPython.core.display.Markdown object>"
      ]
     },
     "metadata": {},
     "output_type": "display_data"
    },
    {
     "data": {
      "text/markdown": [
       "Please find attached a credit worksheet for a Master Firm **contract** for the above mentioned counterparty ."
      ],
      "text/plain": [
       "<IPython.core.display.Markdown object>"
      ]
     },
     "metadata": {},
     "output_type": "display_data"
    },
    {
     "data": {
      "text/markdown": [
       "It was a good opportunity to know about Enron and its finance **sector** ."
      ],
      "text/plain": [
       "<IPython.core.display.Markdown object>"
      ]
     },
     "metadata": {},
     "output_type": "display_data"
    },
    {
     "data": {
      "text/markdown": [
       "The way the tax law works , the tax basis for your share **distribution** will be based on the closing stock price the day preceding notification to the transfer agent ."
      ],
      "text/plain": [
       "<IPython.core.display.Markdown object>"
      ]
     },
     "metadata": {},
     "output_type": "display_data"
    },
    {
     "name": "stdout",
     "output_type": "stream",
     "text": [
      "Ade\t227\n"
     ]
    },
    {
     "data": {
      "text/markdown": [
       "President Bush on Tuesday nominated two individuals to replace retiring jurists on federal courts in the Washington **area** ."
      ],
      "text/plain": [
       "<IPython.core.display.Markdown object>"
      ]
     },
     "metadata": {},
     "output_type": "display_data"
    },
    {
     "data": {
      "text/markdown": [
       "In the eastern city of Baqubah , guerrillas detonated a car bomb outside a police **station** , killing several people ."
      ],
      "text/plain": [
       "<IPython.core.display.Markdown object>"
      ]
     },
     "metadata": {},
     "output_type": "display_data"
    },
    {
     "data": {
      "text/markdown": [
       "The US lost yet another helicopter to hostile fire near Habbaniyah in the Sunni **heartland** , but this time the crew was safe ."
      ],
      "text/plain": [
       "<IPython.core.display.Markdown object>"
      ]
     },
     "metadata": {},
     "output_type": "display_data"
    },
    {
     "data": {
      "text/markdown": [
       "The US lost yet another helicopter to hostile fire near Habbaniyah in the Sunni heartland , but this **time** the crew was safe ."
      ],
      "text/plain": [
       "<IPython.core.display.Markdown object>"
      ]
     },
     "metadata": {},
     "output_type": "display_data"
    },
    {
     "data": {
      "text/markdown": [
       "It seems clear to me that the manhunt for high Baath officials in the Sunni **heartland** is being done wrong , or at least in ways that are bad for US standing with local Iraqis ."
      ],
      "text/plain": [
       "<IPython.core.display.Markdown object>"
      ]
     },
     "metadata": {},
     "output_type": "display_data"
    },
    {
     "data": {
      "text/markdown": [
       "The continued Israeli colonization of the occupied Palestinian territories during the **1990s** helped , along with terrorist attacks by radical groups such as Hamas , to derail the peace process , which Sharon had always opposed ."
      ],
      "text/plain": [
       "<IPython.core.display.Markdown object>"
      ]
     },
     "metadata": {},
     "output_type": "display_data"
    },
    {
     "data": {
      "text/markdown": [
       "Ever since the first whispers about Google 's IPO , most **investors** have feared that the stock would come public at such a ridiculously high price that , even with a spectacularly profitable business model and some nearly flawless execution , the price would be too high for investors to make a real profit ."
      ],
      "text/plain": [
       "<IPython.core.display.Markdown object>"
      ]
     },
     "metadata": {},
     "output_type": "display_data"
    },
    {
     "data": {
      "text/markdown": [
       "Ever since the first whispers about Google 's IPO , most investors have feared that the stock would come public at such a ridiculously high **price** that , even with a spectacularly profitable business model and some nearly flawless execution , the price would be too high for investors to make a real profit ."
      ],
      "text/plain": [
       "<IPython.core.display.Markdown object>"
      ]
     },
     "metadata": {},
     "output_type": "display_data"
    },
    {
     "data": {
      "text/markdown": [
       "Ever since the first whispers about Google 's IPO , most investors have feared that the stock would come public at such a ridiculously high price that , even with a spectacularly profitable business model and some nearly flawless execution , the **price** would be too high for investors to make a real profit ."
      ],
      "text/plain": [
       "<IPython.core.display.Markdown object>"
      ]
     },
     "metadata": {},
     "output_type": "display_data"
    },
    {
     "data": {
      "text/markdown": [
       "It 's tough to make money branching out when your appeal is in your **focus** ."
      ],
      "text/plain": [
       "<IPython.core.display.Markdown object>"
      ]
     },
     "metadata": {},
     "output_type": "display_data"
    },
    {
     "name": "stdout",
     "output_type": "stream",
     "text": [
      "All\t36\n"
     ]
    },
    {
     "data": {
      "text/markdown": [
       "The sheikh in **wheel** - chair has been attacked with a F - 16 - launched bomb ."
      ],
      "text/plain": [
       "<IPython.core.display.Markdown object>"
      ]
     },
     "metadata": {},
     "output_type": "display_data"
    },
    {
     "data": {
      "text/markdown": [
       "North Korea ’s Kim Jong Ill also has the bomb at the **top** of his list and Santa seems to have already come a few years ago ."
      ],
      "text/plain": [
       "<IPython.core.display.Markdown object>"
      ]
     },
     "metadata": {},
     "output_type": "display_data"
    },
    {
     "data": {
      "text/markdown": [
       "The United States goes into a war **zone** and evacuates a bunch of U.S. citizens ( most of whom were \" dual - citizens \" ) ."
      ],
      "text/plain": [
       "<IPython.core.display.Markdown object>"
      ]
     },
     "metadata": {},
     "output_type": "display_data"
    },
    {
     "data": {
      "text/markdown": [
       "\" We were on the road and the first bridge was bombed and we drove home and all the other bridges were bombed and there was absolutely no way for us to get home , \" Chahine told reporters outside federal **court** in Detroit ."
      ],
      "text/plain": [
       "<IPython.core.display.Markdown object>"
      ]
     },
     "metadata": {},
     "output_type": "display_data"
    },
    {
     "data": {
      "text/markdown": [
       "I 'm inclined to say that google is doing what they can to both shape and support the growth of the most popular non-Microsoft browser out there - by taking on the leading lights in Firefox development , they 're ensuring the continued life of the project , and ensuring ( not that I think they need to ) that their voice will be heard admidst the higher **echelons** of the firefox development team ."
      ],
      "text/plain": [
       "<IPython.core.display.Markdown object>"
      ]
     },
     "metadata": {},
     "output_type": "display_data"
    },
    {
     "data": {
      "text/markdown": [
       "Work it into your speech -- something along the **line** of , \" And Jen , you come from great people and have fantastic friends ."
      ],
      "text/plain": [
       "<IPython.core.display.Markdown object>"
      ]
     },
     "metadata": {},
     "output_type": "display_data"
    },
    {
     "data": {
      "text/markdown": [
       "It is my understanding , from good sources in the Gov s **office** that the Gov will order Loretta Lynch to expeditiously implement the provision to suspend all parties auhtority to enter into direct access contracts ."
      ],
      "text/plain": [
       "<IPython.core.display.Markdown object>"
      ]
     },
     "metadata": {},
     "output_type": "display_data"
    },
    {
     "data": {
      "text/markdown": [
       "We will meeting Rod 's **office** EB 4054"
      ],
      "text/plain": [
       "<IPython.core.display.Markdown object>"
      ]
     },
     "metadata": {},
     "output_type": "display_data"
    },
    {
     "data": {
      "text/markdown": [
       "However , he also mentioned we were a close sixth , that is close to the fifth highest **bid** ."
      ],
      "text/plain": [
       "<IPython.core.display.Markdown object>"
      ]
     },
     "metadata": {},
     "output_type": "display_data"
    },
    {
     "data": {
      "text/markdown": [
       "He gave no indication on the value of the highest **bid** ."
      ],
      "text/plain": [
       "<IPython.core.display.Markdown object>"
      ]
     },
     "metadata": {},
     "output_type": "display_data"
    },
    {
     "name": "stdout",
     "output_type": "stream",
     "text": [
      "Abl\t14\n"
     ]
    },
    {
     "data": {
      "text/markdown": [
       "Google has finally had an analyst **day** -- a chance to present the company 's story to the ( miniscule number of ) people who have n't heard it ."
      ],
      "text/plain": [
       "<IPython.core.display.Markdown object>"
      ]
     },
     "metadata": {},
     "output_type": "display_data"
    },
    {
     "data": {
      "text/markdown": [
       "It is true that Google has been in acquisition **mode** ."
      ],
      "text/plain": [
       "<IPython.core.display.Markdown object>"
      ]
     },
     "metadata": {},
     "output_type": "display_data"
    },
    {
     "data": {
      "text/markdown": [
       "John Staikos Direct **Dial** :? 203.961.7523 Direct Fax :? 203.674.7723 E-mail :? johnstaikos@paulhastings.com"
      ],
      "text/plain": [
       "<IPython.core.display.Markdown object>"
      ]
     },
     "metadata": {},
     "output_type": "display_data"
    },
    {
     "data": {
      "text/markdown": [
       "Raw data is on the fisrt tab of the file to the **right** ."
      ],
      "text/plain": [
       "<IPython.core.display.Markdown object>"
      ]
     },
     "metadata": {},
     "output_type": "display_data"
    },
    {
     "data": {
      "text/markdown": [
       "In addition , I received feedback from our Gas Desk that the access to the Gas **segment** of Enron On - Line was cut off to CPS --- do you know who would handle this at Enron that we can speak to ?"
      ],
      "text/plain": [
       "<IPython.core.display.Markdown object>"
      ]
     },
     "metadata": {},
     "output_type": "display_data"
    },
    {
     "data": {
      "text/markdown": [
       "Vangie McGilloway Constellation Power Source , Inc. ( \" CPS \" ) 111 Market Place **Ste** 500 Baltimore , MD 21202 Phone 410-468-3798 Fax 410-468-3499 Email vangie.mcgilloway@powersrc.com"
      ],
      "text/plain": [
       "<IPython.core.display.Markdown object>"
      ]
     },
     "metadata": {},
     "output_type": "display_data"
    },
    {
     "data": {
      "text/markdown": [
       "I hope you have a good flight back to **home** ."
      ],
      "text/plain": [
       "<IPython.core.display.Markdown object>"
      ]
     },
     "metadata": {},
     "output_type": "display_data"
    },
    {
     "data": {
      "text/markdown": [
       "Sungjoo Lee Stochastic Processes and Simulation in Finance Georgia Institute of Technology School of Industrial and Systems Engineering E-mail address : goldconn@isye.gatech.edu gte114t@prism.gatech.edu **Home** : 404-449-1026 Office : Coming Soon !"
      ],
      "text/plain": [
       "<IPython.core.display.Markdown object>"
      ]
     },
     "metadata": {},
     "output_type": "display_data"
    },
    {
     "data": {
      "text/markdown": [
       "The storm threatened oil installations in the Gulf of Mexico where about one - **quarter** of US oil operations are based ."
      ],
      "text/plain": [
       "<IPython.core.display.Markdown object>"
      ]
     },
     "metadata": {},
     "output_type": "display_data"
    },
    {
     "data": {
      "text/markdown": [
       "Normally this author is semi-objective ( what blogger is ) but on the Seattlepi.com ( see source link ) Palestinian Leader Mahmoud Abbas has demanded that Israel leave all the land that it occupies before the 1967 border ( which includes East Jerusalem by the **way** ) ."
      ],
      "text/plain": [
       "<IPython.core.display.Markdown object>"
      ]
     },
     "metadata": {},
     "output_type": "display_data"
    }
   ],
   "source": [
    "def printmd(string):\n",
    "    display(Markdown(string))\n",
    "for idx, (case, num) in enumerate(zip(CASES[1:], torch.bincount(en_rev_best_labels.int()))):\n",
    "  print(f\"{case}\\t{num}\")\n",
    "  for (sentence, sent_idx, _) in en_extra[en_rev_best_labels.numpy()==idx][:10]:\n",
    "    sent_idx = int(sent_idx)\n",
    "    words = sentence.split(' ')\n",
    "    words[sent_idx] = \"**\" + words[sent_idx] + \"**\"\n",
    "    printmd(\" \".join(words))"
   ]
  },
  {
   "cell_type": "code",
   "execution_count": 15,
   "metadata": {},
   "outputs": [
    {
     "name": "stdout",
     "output_type": "stream",
     "text": [
      "Nom\t3151\n"
     ]
    },
    {
     "data": {
      "text/markdown": [
       "`(0.999)` The chicken cordon - **blu** was tasty and came in a huge portion size for the money ."
      ],
      "text/plain": [
       "<IPython.core.display.Markdown object>"
      ]
     },
     "metadata": {},
     "output_type": "display_data"
    },
    {
     "data": {
      "text/markdown": [
       "`(0.998)` My old **bed** got tossed in a dumpster ."
      ],
      "text/plain": [
       "<IPython.core.display.Markdown object>"
      ]
     },
     "metadata": {},
     "output_type": "display_data"
    },
    {
     "data": {
      "text/markdown": [
       "`(0.998)` The **sheikh** in wheel - chair has been attacked with a F - 16 - launched bomb ."
      ],
      "text/plain": [
       "<IPython.core.display.Markdown object>"
      ]
     },
     "metadata": {},
     "output_type": "display_data"
    },
    {
     "data": {
      "text/markdown": [
       "`(0.998)` The **owner** Karla is welcoming and fun ."
      ],
      "text/plain": [
       "<IPython.core.display.Markdown object>"
      ]
     },
     "metadata": {},
     "output_type": "display_data"
    },
    {
     "data": {
      "text/markdown": [
       "`(0.997)` no **pet** is really easy to take care of ."
      ],
      "text/plain": [
       "<IPython.core.display.Markdown object>"
      ]
     },
     "metadata": {},
     "output_type": "display_data"
    },
    {
     "data": {
      "text/markdown": [
       "`(0.997)` **Staff** is super friendly and very attentive ."
      ],
      "text/plain": [
       "<IPython.core.display.Markdown object>"
      ]
     },
     "metadata": {},
     "output_type": "display_data"
    },
    {
     "data": {
      "text/markdown": [
       "`(0.996)` But **iPhone** was the first \" Officiol \" touch screen smart phone ."
      ],
      "text/plain": [
       "<IPython.core.display.Markdown object>"
      ]
     },
     "metadata": {},
     "output_type": "display_data"
    },
    {
     "data": {
      "text/markdown": [
       "`(0.996)` maybe the **cat** needs a \" new ' home ........."
      ],
      "text/plain": [
       "<IPython.core.display.Markdown object>"
      ]
     },
     "metadata": {},
     "output_type": "display_data"
    },
    {
     "data": {
      "text/markdown": [
       "`(0.996)` I would go with a small rodent such as a mouse , **rat** , hamster or gerbil if you want something you can handle and hold ."
      ],
      "text/plain": [
       "<IPython.core.display.Markdown object>"
      ]
     },
     "metadata": {},
     "output_type": "display_data"
    },
    {
     "data": {
      "text/markdown": [
       "`(0.995)` **library** is closed ."
      ],
      "text/plain": [
       "<IPython.core.display.Markdown object>"
      ]
     },
     "metadata": {},
     "output_type": "display_data"
    },
    {
     "name": "stdout",
     "output_type": "stream",
     "text": [
      "Acc\t0\n"
     ]
    },
    {
     "data": {
      "text/markdown": [
       "`(0.018)` The interim Governing Council issued a communique saying , \" It is a proof of the emptiness of the Israeli authority and a destruction of the peace endeavors in the **region** . . ."
      ],
      "text/plain": [
       "<IPython.core.display.Markdown object>"
      ]
     },
     "metadata": {},
     "output_type": "display_data"
    },
    {
     "data": {
      "text/markdown": [
       "`(0.018)` The end of the year is a time for compiling statistics - and according to the World Conservation Union ( IUCN ) , the year 2003 has been bad news for plants and non-human animals , with many species now closer to **extinction** than ever before ."
      ],
      "text/plain": [
       "<IPython.core.display.Markdown object>"
      ]
     },
     "metadata": {},
     "output_type": "display_data"
    },
    {
     "data": {
      "text/markdown": [
       "`(0.015)` Once upon a **time** ( in 2001 , to be specific ) , the Coca - Cola corporation built a bottling plant in a small and remote Indian village in the state of Kerala ."
      ],
      "text/plain": [
       "<IPython.core.display.Markdown object>"
      ]
     },
     "metadata": {},
     "output_type": "display_data"
    },
    {
     "data": {
      "text/markdown": [
       "`(0.013)` The one **time** I actually booked through a travel agent I did not get all of the amenities I had paid for ."
      ],
      "text/plain": [
       "<IPython.core.display.Markdown object>"
      ]
     },
     "metadata": {},
     "output_type": "display_data"
    },
    {
     "data": {
      "text/markdown": [
       "`(0.013)` It 's fine for mass - market chocolate , but with companies like Scharffen Berger , TCHO , and smaller artisan chocolate makers in the **area** , why ?"
      ],
      "text/plain": [
       "<IPython.core.display.Markdown object>"
      ]
     },
     "metadata": {},
     "output_type": "display_data"
    },
    {
     "data": {
      "text/markdown": [
       "`(0.013)` Upon **return** to New Orleans after the Hurricane Katrina evacuation , former residents have been informed that there are no available public housing units at River Garden because those units have been reserved for HANO employees ."
      ],
      "text/plain": [
       "<IPython.core.display.Markdown object>"
      ]
     },
     "metadata": {},
     "output_type": "display_data"
    },
    {
     "data": {
      "text/markdown": [
       "`(0.013)` Once upon a time ( in 2001 , to be specific ) , the Coca - Cola corporation built a bottling plant in a small and remote Indian village in the **state** of Kerala ."
      ],
      "text/plain": [
       "<IPython.core.display.Markdown object>"
      ]
     },
     "metadata": {},
     "output_type": "display_data"
    },
    {
     "data": {
      "text/markdown": [
       "`(0.013)` The atmosphere is your typical indie outfit with old movie posters and memorabilia from the **70's** and 80's ."
      ],
      "text/plain": [
       "<IPython.core.display.Markdown object>"
      ]
     },
     "metadata": {},
     "output_type": "display_data"
    },
    {
     "data": {
      "text/markdown": [
       "`(0.012)` At a **time** when the Spanish , Thai and other contingents are already committed to leaving , and the UN is reluctant to get involved ?"
      ],
      "text/plain": [
       "<IPython.core.display.Markdown object>"
      ]
     },
     "metadata": {},
     "output_type": "display_data"
    },
    {
     "data": {
      "text/markdown": [
       "`(0.011)` The few **times** I have consulted with a travel agent I was able to find the same for less on my own , and more options than what they were selling ."
      ],
      "text/plain": [
       "<IPython.core.display.Markdown object>"
      ]
     },
     "metadata": {},
     "output_type": "display_data"
    },
    {
     "name": "stdout",
     "output_type": "stream",
     "text": [
      "Gen\t301\n"
     ]
    },
    {
     "data": {
      "text/markdown": [
       "`(0.982)` ' A radical Shiite Muslim cleric has expressed solidarity with the militant Palestinian group Hamas and said that he should be considered the **group** 's \" striking arm \" in Iraq ."
      ],
      "text/plain": [
       "<IPython.core.display.Markdown object>"
      ]
     },
     "metadata": {},
     "output_type": "display_data"
    },
    {
     "data": {
      "text/markdown": [
       "`(0.977)` Usually , these are just a chance for the suckups to suck up , but this time people are actually concerned about the **company** 's plans ."
      ],
      "text/plain": [
       "<IPython.core.display.Markdown object>"
      ]
     },
     "metadata": {},
     "output_type": "display_data"
    },
    {
     "data": {
      "text/markdown": [
       "`(0.968)` This is a major breakthrough in the animal intelligence field and a must see / hear for every animal **intelligence** enthusiast ."
      ],
      "text/plain": [
       "<IPython.core.display.Markdown object>"
      ]
     },
     "metadata": {},
     "output_type": "display_data"
    },
    {
     "data": {
      "text/markdown": [
       "`(0.967)` Therefore I could not estimate the **mean** reversion rate as the estimated slope has the positive sign ."
      ],
      "text/plain": [
       "<IPython.core.display.Markdown object>"
      ]
     },
     "metadata": {},
     "output_type": "display_data"
    },
    {
     "data": {
      "text/markdown": [
       "`(0.966)` I am now modelling the Queensland electricity spot price using Geometric Brownian Mean Reverting Jump Diffusion Model and have followed your paper \" Making the most of mean reversion \" to estimate the **mean** reversion speed ."
      ],
      "text/plain": [
       "<IPython.core.display.Markdown object>"
      ]
     },
     "metadata": {},
     "output_type": "display_data"
    },
    {
     "data": {
      "text/markdown": [
       "`(0.960)` Google has finally had an analyst day -- a chance to present the **company** 's story to the ( miniscule number of ) people who have n't heard it ."
      ],
      "text/plain": [
       "<IPython.core.display.Markdown object>"
      ]
     },
     "metadata": {},
     "output_type": "display_data"
    },
    {
     "data": {
      "text/markdown": [
       "`(0.959)` \" We staged this fair to explore the limits of freedom Westerners believe in , \" Masoud Shojai , head of the **country** 's \" Iran Cartoon \" association and the fair organizer , said ."
      ],
      "text/plain": [
       "<IPython.core.display.Markdown object>"
      ]
     },
     "metadata": {},
     "output_type": "display_data"
    },
    {
     "data": {
      "text/markdown": [
       "`(0.954)` I gave mine to a rest home for senior citizens and an old **soldiers** ' home ."
      ],
      "text/plain": [
       "<IPython.core.display.Markdown object>"
      ]
     },
     "metadata": {},
     "output_type": "display_data"
    },
    {
     "data": {
      "text/markdown": [
       "`(0.948)` Arial photos of the lab were uranium is being enriched , somewhat like those of chemical **weapons** stockpiles in Iraq ."
      ],
      "text/plain": [
       "<IPython.core.display.Markdown object>"
      ]
     },
     "metadata": {},
     "output_type": "display_data"
    },
    {
     "data": {
      "text/markdown": [
       "`(0.947)` Allawi 's aged cousin and the **man** 's wife and daughter - in - law were abducted and guerrillas threaten to behead them if the Fallujah compaign is not stopped ."
      ],
      "text/plain": [
       "<IPython.core.display.Markdown object>"
      ]
     },
     "metadata": {},
     "output_type": "display_data"
    },
    {
     "name": "stdout",
     "output_type": "stream",
     "text": [
      "Ins\t2\n"
     ]
    },
    {
     "data": {
      "text/markdown": [
       "`(0.394)` I meant to comment that I thought the people profiled in the article should pull their heads out of their **self** important asses ."
      ],
      "text/plain": [
       "<IPython.core.display.Markdown object>"
      ]
     },
     "metadata": {},
     "output_type": "display_data"
    },
    {
     "data": {
      "text/markdown": [
       "`(0.341)` \" The book -- I guess one **way** , one thing to think about it is -- one of the themes would be , I was given a charge to keep ."
      ],
      "text/plain": [
       "<IPython.core.display.Markdown object>"
      ]
     },
     "metadata": {},
     "output_type": "display_data"
    },
    {
     "data": {
      "text/markdown": [
       "`(0.326)` Further , she informed me that Section 7 of the agreement , which reads in part : Gas is free from liens and adverse claims of every **kind** , should be changed because the gas that the counterparty will be transporting on HPL may and / or is subject to liens ."
      ],
      "text/plain": [
       "<IPython.core.display.Markdown object>"
      ]
     },
     "metadata": {},
     "output_type": "display_data"
    },
    {
     "data": {
      "text/markdown": [
       "`(0.288)` The **way** the tax law works , the tax basis for your share distribution will be based on the closing stock price the day preceding notification to the transfer agent ."
      ],
      "text/plain": [
       "<IPython.core.display.Markdown object>"
      ]
     },
     "metadata": {},
     "output_type": "display_data"
    },
    {
     "data": {
      "text/markdown": [
       "`(0.234)` You got ta get an iPhone for 3G ... only **way** ... actually there is a thing that you pay for monthly that gets wifi from satellite and you can connect to it anywhere but you have to Cary it with you"
      ],
      "text/plain": [
       "<IPython.core.display.Markdown object>"
      ]
     },
     "metadata": {},
     "output_type": "display_data"
    },
    {
     "data": {
      "text/markdown": [
       "`(0.226)` As such , they may differ in material **respects** from those of , or expressed or published by on behalf of Carr Futures or its officers , directors , employees or affiliates . ,"
      ],
      "text/plain": [
       "<IPython.core.display.Markdown object>"
      ]
     },
     "metadata": {},
     "output_type": "display_data"
    },
    {
     "data": {
      "text/markdown": [
       "`(0.224)` I like Hayes Street Grill .... another **plus** , it 's right by Civic Center , so you can take a romantic walk around the Opera House , City Hall , Symphony Auditorium ... all very beautiful ."
      ],
      "text/plain": [
       "<IPython.core.display.Markdown object>"
      ]
     },
     "metadata": {},
     "output_type": "display_data"
    },
    {
     "data": {
      "text/markdown": [
       "`(0.205)` Normally this author is semi-objective ( what blogger is ) but on the Seattlepi.com ( see source link ) Palestinian Leader Mahmoud Abbas has demanded that Israel leave all the land that it occupies before the 1967 border ( which includes East Jerusalem by the **way** ) ."
      ],
      "text/plain": [
       "<IPython.core.display.Markdown object>"
      ]
     },
     "metadata": {},
     "output_type": "display_data"
    },
    {
     "data": {
      "text/markdown": [
       "`(0.199)` The First time I walked in there with my teacup chihuahua puppy I knew I 'd be here a **lot** ."
      ],
      "text/plain": [
       "<IPython.core.display.Markdown object>"
      ]
     },
     "metadata": {},
     "output_type": "display_data"
    },
    {
     "data": {
      "text/markdown": [
       "`(0.198)` It 's on loan , by the **way** , from a guy named Joe O'Neill in Midland , Texas ."
      ],
      "text/plain": [
       "<IPython.core.display.Markdown object>"
      ]
     },
     "metadata": {},
     "output_type": "display_data"
    },
    {
     "name": "stdout",
     "output_type": "stream",
     "text": [
      "Par\t545\n"
     ]
    },
    {
     "data": {
      "text/markdown": [
       "`(0.970)` After several **years** of use , we arrive at the present day when the village people have suddenly discovered the fertilizer is actually the bottling plant 's waste sludge and is laden with cadmium , a highly toxic , cancer - causing heavy metal ."
      ],
      "text/plain": [
       "<IPython.core.display.Markdown object>"
      ]
     },
     "metadata": {},
     "output_type": "display_data"
    },
    {
     "data": {
      "text/markdown": [
       "`(0.957)` Someone in the CPA sat down and thought up **ways** to stir them up by closing their newspaper and issuing 28 arrest warrants and taking in people like Yaqubi ."
      ],
      "text/plain": [
       "<IPython.core.display.Markdown object>"
      ]
     },
     "metadata": {},
     "output_type": "display_data"
    },
    {
     "data": {
      "text/markdown": [
       "`(0.953)` This operation would only consolidate the terrorist **acts** in the world and would not bring peace to the region , \" the message claimed ."
      ],
      "text/plain": [
       "<IPython.core.display.Markdown object>"
      ]
     },
     "metadata": {},
     "output_type": "display_data"
    },
    {
     "data": {
      "text/markdown": [
       "`(0.940)` i need to hav sm good **time** spent with my gf .. in kerala .. in which all places in kerala shal i expect ambience and privacy for making love .. pls help . thank you"
      ],
      "text/plain": [
       "<IPython.core.display.Markdown object>"
      ]
     },
     "metadata": {},
     "output_type": "display_data"
    },
    {
     "data": {
      "text/markdown": [
       "`(0.938)` The Board of Muslim clerics in Fallujah , 50 km west of Baghdad , \" condemned the assassination and promised immediate **revenge** against the coalition soldiers in Iraq . \""
      ],
      "text/plain": [
       "<IPython.core.display.Markdown object>"
      ]
     },
     "metadata": {},
     "output_type": "display_data"
    },
    {
     "data": {
      "text/markdown": [
       "`(0.932)` \" It 's not cost - effective doing station **flights** while at the same time focusing on getting back to the Moon , \" says Brett Alexander , vice-president of Transformational Space , one of the companies hoping to launch astronauts to the ISS ."
      ],
      "text/plain": [
       "<IPython.core.display.Markdown object>"
      ]
     },
     "metadata": {},
     "output_type": "display_data"
    },
    {
     "data": {
      "text/markdown": [
       "`(0.931)` I have not had good **experience** with travel agents ."
      ],
      "text/plain": [
       "<IPython.core.display.Markdown object>"
      ]
     },
     "metadata": {},
     "output_type": "display_data"
    },
    {
     "data": {
      "text/markdown": [
       "`(0.924)` Now , I would argue that one could have reasonably predicted that some form of military **violence** was likely to occur in Lebanon ( considering that the country has been experiencing some form of conflict for approximately the last 32 years ) ."
      ],
      "text/plain": [
       "<IPython.core.display.Markdown object>"
      ]
     },
     "metadata": {},
     "output_type": "display_data"
    },
    {
     "data": {
      "text/markdown": [
       "`(0.920)` 3 ) also want an island where I can do fun **activities** , rainforest is a must"
      ],
      "text/plain": [
       "<IPython.core.display.Markdown object>"
      ]
     },
     "metadata": {},
     "output_type": "display_data"
    },
    {
     "data": {
      "text/markdown": [
       "`(0.920)` It had been eating dog **food** the whole time ."
      ],
      "text/plain": [
       "<IPython.core.display.Markdown object>"
      ]
     },
     "metadata": {},
     "output_type": "display_data"
    },
    {
     "name": "stdout",
     "output_type": "stream",
     "text": [
      "Ess\t34\n"
     ]
    },
    {
     "data": {
      "text/markdown": [
       "`(0.945)` This is unlike the situation last **year** in Asia when we evacuated U.S. citizens from areas that were hit by the tsunami - a phenomenon that is much less predictable than the Hezbollah - provoked destruction that rained down on Lebanon ."
      ],
      "text/plain": [
       "<IPython.core.display.Markdown object>"
      ]
     },
     "metadata": {},
     "output_type": "display_data"
    },
    {
     "data": {
      "text/markdown": [
       "`(0.903)` This **year** it is very easy to make your contribution ."
      ],
      "text/plain": [
       "<IPython.core.display.Markdown object>"
      ]
     },
     "metadata": {},
     "output_type": "display_data"
    },
    {
     "data": {
      "text/markdown": [
       "`(0.882)` Some countries like Malaysia and Singapore promote trading for foreign visitors during some part of the **year** ."
      ],
      "text/plain": [
       "<IPython.core.display.Markdown object>"
      ]
     },
     "metadata": {},
     "output_type": "display_data"
    },
    {
     "data": {
      "text/markdown": [
       "`(0.875)` In this case , following the talent leads me to think that Google will be making an announcement this **year** that formalizes the Google - Mozilla / Firefox relationship ."
      ],
      "text/plain": [
       "<IPython.core.display.Markdown object>"
      ]
     },
     "metadata": {},
     "output_type": "display_data"
    },
    {
     "data": {
      "text/markdown": [
       "`(0.831)` The end of the **year** is a time for compiling statistics - and according to the World Conservation Union ( IUCN ) , the year 2003 has been bad news for plants and non-human animals , with many species now closer to extinction than ever before ."
      ],
      "text/plain": [
       "<IPython.core.display.Markdown object>"
      ]
     },
     "metadata": {},
     "output_type": "display_data"
    },
    {
     "data": {
      "text/markdown": [
       "`(0.829)` It 's not quite as freewheeling an environment as you 'd imagine : Sergey Brin has actually created a mathematical ' proof ' that the company 's self - driven research strategy , which gives employees one **day** a week to do research projects on their own , is a good , respectable idea ."
      ],
      "text/plain": [
       "<IPython.core.display.Markdown object>"
      ]
     },
     "metadata": {},
     "output_type": "display_data"
    },
    {
     "data": {
      "text/markdown": [
       "`(0.809)` Right now , we are in the process of evaluating both our new hire needs and our summer needs and will be making those decisions after the first of the **year** ."
      ],
      "text/plain": [
       "<IPython.core.display.Markdown object>"
      ]
     },
     "metadata": {},
     "output_type": "display_data"
    },
    {
     "data": {
      "text/markdown": [
       "`(0.801)` The hottest item on Christmas wish lists this **year** is nuclear weapons ."
      ],
      "text/plain": [
       "<IPython.core.display.Markdown object>"
      ]
     },
     "metadata": {},
     "output_type": "display_data"
    },
    {
     "data": {
      "text/markdown": [
       "`(0.794)` i am from mexico traveling to san francisco california one **week** i wan na meet american girls there where i can find them ?"
      ],
      "text/plain": [
       "<IPython.core.display.Markdown object>"
      ]
     },
     "metadata": {},
     "output_type": "display_data"
    },
    {
     "data": {
      "text/markdown": [
       "`(0.794)` Wait staff is always ready to help if you ca n't decide ( which happens every **time** for me d / t the huge menu of rolls ) and always courteous !"
      ],
      "text/plain": [
       "<IPython.core.display.Markdown object>"
      ]
     },
     "metadata": {},
     "output_type": "display_data"
    },
    {
     "name": "stdout",
     "output_type": "stream",
     "text": [
      "Tra\t2\n"
     ]
    },
    {
     "data": {
      "text/markdown": [
       "`(0.277)` While there have been spasms of speculation about the Bush administration naming a **replacement** for O'Keefe , no nominee has been declared ."
      ],
      "text/plain": [
       "<IPython.core.display.Markdown object>"
      ]
     },
     "metadata": {},
     "output_type": "display_data"
    },
    {
     "data": {
      "text/markdown": [
       "`(0.275)` I recently converted this test to an online test in **order** to norm it to a larger population and , subsequently , to make it available to any one who has access to a computer and the Internet ."
      ],
      "text/plain": [
       "<IPython.core.display.Markdown object>"
      ]
     },
     "metadata": {},
     "output_type": "display_data"
    },
    {
     "data": {
      "text/markdown": [
       "`(0.233)` It had been eating dog food the whole **time** ."
      ],
      "text/plain": [
       "<IPython.core.display.Markdown object>"
      ]
     },
     "metadata": {},
     "output_type": "display_data"
    },
    {
     "data": {
      "text/markdown": [
       "`(0.203)` In **response** to the rockets , Israel resumed its policy of targeting militant leaders in air strikes ."
      ],
      "text/plain": [
       "<IPython.core.display.Markdown object>"
      ]
     },
     "metadata": {},
     "output_type": "display_data"
    },
    {
     "data": {
      "text/markdown": [
       "`(0.200)` Thanks for fixing my garage **door** A ++++++++++++++++++"
      ],
      "text/plain": [
       "<IPython.core.display.Markdown object>"
      ]
     },
     "metadata": {},
     "output_type": "display_data"
    },
    {
     "data": {
      "text/markdown": [
       "`(0.193)` Good day , I 'm a foreigner living in malaysia , german citizen , 21 years of age , I was wondering if air asia recruits **foreigners** ?"
      ],
      "text/plain": [
       "<IPython.core.display.Markdown object>"
      ]
     },
     "metadata": {},
     "output_type": "display_data"
    },
    {
     "data": {
      "text/markdown": [
       "`(0.168)` It is true that Google has been in acquisition **mode** ."
      ],
      "text/plain": [
       "<IPython.core.display.Markdown object>"
      ]
     },
     "metadata": {},
     "output_type": "display_data"
    },
    {
     "data": {
      "text/markdown": [
       "`(0.166)` I have 24 hrs in San Francisco - what are the best sights to see in my short **time** ?"
      ],
      "text/plain": [
       "<IPython.core.display.Markdown object>"
      ]
     },
     "metadata": {},
     "output_type": "display_data"
    },
    {
     "data": {
      "text/markdown": [
       "`(0.160)` An international contest of cartoons on the Holocaust opened in Tehran in **response** to the publication in Western papers last September of caricatures of the Prophet Mohammed ."
      ],
      "text/plain": [
       "<IPython.core.display.Markdown object>"
      ]
     },
     "metadata": {},
     "output_type": "display_data"
    },
    {
     "data": {
      "text/markdown": [
       "`(0.141)` In Indian national chart besides the transit affliction to transit Mercury by Rahu and Venus the natal Saturn and Venus are also under the transit affliction of Rahu which has resulted into floods in many parts of the country taking **toll** of human lives , properties , etc ."
      ],
      "text/plain": [
       "<IPython.core.display.Markdown object>"
      ]
     },
     "metadata": {},
     "output_type": "display_data"
    },
    {
     "name": "stdout",
     "output_type": "stream",
     "text": [
      "Com\t0\n"
     ]
    },
    {
     "data": {
      "text/markdown": [
       "`(0.140)` Normally this author is semi-objective ( what blogger is ) but on the Seattlepi.com ( see source link ) Palestinian Leader Mahmoud Abbas has demanded that Israel leave all the land that it occupies before the 1967 border ( which includes East Jerusalem by the **way** ) ."
      ],
      "text/plain": [
       "<IPython.core.display.Markdown object>"
      ]
     },
     "metadata": {},
     "output_type": "display_data"
    },
    {
     "data": {
      "text/markdown": [
       "`(0.124)` I recently converted this test to an online test in **order** to norm it to a larger population and , subsequently , to make it available to any one who has access to a computer and the Internet ."
      ],
      "text/plain": [
       "<IPython.core.display.Markdown object>"
      ]
     },
     "metadata": {},
     "output_type": "display_data"
    },
    {
     "data": {
      "text/markdown": [
       "`(0.091)` Simply type in the following United Way link , http://unitedway.enron.com or go directly to Internet Explorer or Netscape and type in unitedway.enron.com in the **address** field ."
      ],
      "text/plain": [
       "<IPython.core.display.Markdown object>"
      ]
     },
     "metadata": {},
     "output_type": "display_data"
    },
    {
     "data": {
      "text/markdown": [
       "`(0.082)` It 's on loan , by the **way** , from a guy named Joe O'Neill in Midland , Texas ."
      ],
      "text/plain": [
       "<IPython.core.display.Markdown object>"
      ]
     },
     "metadata": {},
     "output_type": "display_data"
    },
    {
     "data": {
      "text/markdown": [
       "`(0.077)` - ENRON-CPS ( GISB rev1 ) **.doc**"
      ],
      "text/plain": [
       "<IPython.core.display.Markdown object>"
      ]
     },
     "metadata": {},
     "output_type": "display_data"
    },
    {
     "data": {
      "text/markdown": [
       "`(0.073)` It is true that Google has been in acquisition **mode** ."
      ],
      "text/plain": [
       "<IPython.core.display.Markdown object>"
      ]
     },
     "metadata": {},
     "output_type": "display_data"
    },
    {
     "data": {
      "text/markdown": [
       "`(0.066)` Thanks for fixing my garage **door** A ++++++++++++++++++"
      ],
      "text/plain": [
       "<IPython.core.display.Markdown object>"
      ]
     },
     "metadata": {},
     "output_type": "display_data"
    },
    {
     "data": {
      "text/markdown": [
       "`(0.064)` Beer a **bit** expensive ."
      ],
      "text/plain": [
       "<IPython.core.display.Markdown object>"
      ]
     },
     "metadata": {},
     "output_type": "display_data"
    },
    {
     "data": {
      "text/markdown": [
       "`(0.062)` In Indian national chart besides the transit affliction to transit Mercury by Rahu and Venus the natal Saturn and Venus are also under the transit affliction of Rahu which has resulted into floods in many parts of the country taking **toll** of human lives , properties , etc ."
      ],
      "text/plain": [
       "<IPython.core.display.Markdown object>"
      ]
     },
     "metadata": {},
     "output_type": "display_data"
    },
    {
     "data": {
      "text/markdown": [
       "`(0.056)` If you have received this transmittal and / or attachments in **error** , please notify us immediately by reply or by telephone ( call us collect at +1 212-848-8400 ) and immediately delete this message and all its attachments ."
      ],
      "text/plain": [
       "<IPython.core.display.Markdown object>"
      ]
     },
     "metadata": {},
     "output_type": "display_data"
    },
    {
     "name": "stdout",
     "output_type": "stream",
     "text": [
      "Abe\t0\n"
     ]
    },
    {
     "data": {
      "text/markdown": [
       "`(0.170)` But seeing how the private sector has been able to successfully transport civilians to the ISS ( at about a fifth of the cost ) , it would come to no **surprise** if corporate America was able to out perform their bureaucratic friends in government ."
      ],
      "text/plain": [
       "<IPython.core.display.Markdown object>"
      ]
     },
     "metadata": {},
     "output_type": "display_data"
    },
    {
     "data": {
      "text/markdown": [
       "`(0.118)` The multiple planetary afflictions are taking their **toll** ."
      ],
      "text/plain": [
       "<IPython.core.display.Markdown object>"
      ]
     },
     "metadata": {},
     "output_type": "display_data"
    },
    {
     "data": {
      "text/markdown": [
       "`(0.094)` In Indian national chart besides the transit affliction to transit Mercury by Rahu and Venus the natal Saturn and Venus are also under the transit affliction of Rahu which has resulted into floods in many parts of the country taking **toll** of human lives , properties , etc ."
      ],
      "text/plain": [
       "<IPython.core.display.Markdown object>"
      ]
     },
     "metadata": {},
     "output_type": "display_data"
    },
    {
     "data": {
      "text/markdown": [
       "`(0.085)` The former Iraqi leader Saddam Hussein is refusing to enter the Baghdad courtroom , in **protest** at how his trial is being conducted ."
      ],
      "text/plain": [
       "<IPython.core.display.Markdown object>"
      ]
     },
     "metadata": {},
     "output_type": "display_data"
    },
    {
     "data": {
      "text/markdown": [
       "`(0.066)` The interim Governing Council issued a communique saying , \" It is a **proof** of the emptiness of the Israeli authority and a destruction of the peace endeavors in the region . . ."
      ],
      "text/plain": [
       "<IPython.core.display.Markdown object>"
      ]
     },
     "metadata": {},
     "output_type": "display_data"
    },
    {
     "data": {
      "text/markdown": [
       "`(0.065)` He did n't take a dislike to the kids for \" no \" **reason** !"
      ],
      "text/plain": [
       "<IPython.core.display.Markdown object>"
      ]
     },
     "metadata": {},
     "output_type": "display_data"
    },
    {
     "data": {
      "text/markdown": [
       "`(0.063)` As long as you are a gentleman and treat them with respect they wo n't have any **problem** talking with you and your nationality will have nothing to do with how they treat you ."
      ],
      "text/plain": [
       "<IPython.core.display.Markdown object>"
      ]
     },
     "metadata": {},
     "output_type": "display_data"
    },
    {
     "data": {
      "text/markdown": [
       "`(0.059)` I have a Saab ... which everything is expensive on and they have been extrememly fair and price a **lot** lower than any other shop I called ."
      ],
      "text/plain": [
       "<IPython.core.display.Markdown object>"
      ]
     },
     "metadata": {},
     "output_type": "display_data"
    },
    {
     "data": {
      "text/markdown": [
       "`(0.057)` I remain devoted full - **time** to the advancement of Firefox , the Mozilla platform and web browsing in general ."
      ],
      "text/plain": [
       "<IPython.core.display.Markdown object>"
      ]
     },
     "metadata": {},
     "output_type": "display_data"
    },
    {
     "data": {
      "text/markdown": [
       "`(0.053)` Once upon a **time** ( in 2001 , to be specific ) , the Coca - Cola corporation built a bottling plant in a small and remote Indian village in the state of Kerala ."
      ],
      "text/plain": [
       "<IPython.core.display.Markdown object>"
      ]
     },
     "metadata": {},
     "output_type": "display_data"
    },
    {
     "name": "stdout",
     "output_type": "stream",
     "text": [
      "Ine\t60\n"
     ]
    },
    {
     "data": {
      "text/markdown": [
       "`(0.947)` In most **cases** , our address is composed of conventional first name and last name plus @paulhastings.com ."
      ],
      "text/plain": [
       "<IPython.core.display.Markdown object>"
      ]
     },
     "metadata": {},
     "output_type": "display_data"
    },
    {
     "data": {
      "text/markdown": [
       "`(0.910)` It seems clear to me that the manhunt for high Baath officials in the Sunni heartland is being done wrong , or at least in **ways** that are bad for US standing with local Iraqis ."
      ],
      "text/plain": [
       "<IPython.core.display.Markdown object>"
      ]
     },
     "metadata": {},
     "output_type": "display_data"
    },
    {
     "data": {
      "text/markdown": [
       "`(0.902)` In this **case** , following the talent leads me to think that Google will be making an announcement this year that formalizes the Google - Mozilla / Firefox relationship ."
      ],
      "text/plain": [
       "<IPython.core.display.Markdown object>"
      ]
     },
     "metadata": {},
     "output_type": "display_data"
    },
    {
     "data": {
      "text/markdown": [
       "`(0.886)` So I may as well just come out with it : It is pretty suspicious , given the Neocon predominance in the CPA and in the upper **reaches** of the Defense Department that on April 2 AP reported of Muqtada :"
      ],
      "text/plain": [
       "<IPython.core.display.Markdown object>"
      ]
     },
     "metadata": {},
     "output_type": "display_data"
    },
    {
     "data": {
      "text/markdown": [
       "`(0.874)` In Indian national chart besides the transit affliction to transit Mercury by Rahu and Venus the natal Saturn and Venus are also under the transit affliction of Rahu which has resulted into floods in many **parts** of the country taking toll of human lives , properties , etc ."
      ],
      "text/plain": [
       "<IPython.core.display.Markdown object>"
      ]
     },
     "metadata": {},
     "output_type": "display_data"
    },
    {
     "data": {
      "text/markdown": [
       "`(0.866)` But seeing how the private sector has been able to successfully transport civilians to the ISS ( at about a fifth of the cost ) , it would come to no surprise if corporate America was able to out perform their bureaucratic friends in **government** ."
      ],
      "text/plain": [
       "<IPython.core.display.Markdown object>"
      ]
     },
     "metadata": {},
     "output_type": "display_data"
    },
    {
     "data": {
      "text/markdown": [
       "`(0.855)` In Iraqi **society** , PM Allawi is responsible for protecting his clan , including especially his first cousins , so this kidnapping makes him look weak and brings substantial shame on him ."
      ],
      "text/plain": [
       "<IPython.core.display.Markdown object>"
      ]
     },
     "metadata": {},
     "output_type": "display_data"
    },
    {
     "data": {
      "text/markdown": [
       "`(0.833)` \" In the **wake** of Hurricane Katrina , affordable housing in New Orleans is more scarce than ever ."
      ],
      "text/plain": [
       "<IPython.core.display.Markdown object>"
      ]
     },
     "metadata": {},
     "output_type": "display_data"
    },
    {
     "data": {
      "text/markdown": [
       "`(0.820)` That **way** we 'll all be part of building a huge archive of cat pictures ."
      ],
      "text/plain": [
       "<IPython.core.display.Markdown object>"
      ]
     },
     "metadata": {},
     "output_type": "display_data"
    },
    {
     "data": {
      "text/markdown": [
       "`(0.794)` I was unsure of what he should wear , it says business casual but that can be interpreted in many different **ways** ."
      ],
      "text/plain": [
       "<IPython.core.display.Markdown object>"
      ]
     },
     "metadata": {},
     "output_type": "display_data"
    },
    {
     "name": "stdout",
     "output_type": "stream",
     "text": [
      "Ill\t15\n"
     ]
    },
    {
     "data": {
      "text/markdown": [
       "`(0.851)` \" I have said and I repeat my expression of solidarity which Hassan Nasrallah called for to stand with Hamas , \" Shiite cleric Muqtada al - Sadr said Friday in a reference to Nasrallah , the leader of the militant Lebanese Shiite **group** Hezbollah ."
      ],
      "text/plain": [
       "<IPython.core.display.Markdown object>"
      ]
     },
     "metadata": {},
     "output_type": "display_data"
    },
    {
     "data": {
      "text/markdown": [
       "`(0.734)` Although some may praise this as an opportunity for the private sector to finally serve the public good , NASA seems hesitant about turning over the reigns to the corporate **world** ."
      ],
      "text/plain": [
       "<IPython.core.display.Markdown object>"
      ]
     },
     "metadata": {},
     "output_type": "display_data"
    },
    {
     "data": {
      "text/markdown": [
       "`(0.678)` If the Israelis and the Palestinian leadership can not find a way to reinvigorate the peace process , cells of radical young Palestinians may grow up that look to bin Laden for their **cues** ."
      ],
      "text/plain": [
       "<IPython.core.display.Markdown object>"
      ]
     },
     "metadata": {},
     "output_type": "display_data"
    },
    {
     "data": {
      "text/markdown": [
       "`(0.671)` Try the 360 restraunt u spin in the cn tower with a beautiful view the sky pod elevator is about an hour line **up** in the summer"
      ],
      "text/plain": [
       "<IPython.core.display.Markdown object>"
      ]
     },
     "metadata": {},
     "output_type": "display_data"
    },
    {
     "data": {
      "text/markdown": [
       "`(0.551)` i ve been on the **internet** for 3 hours but so far i 've got nothing ."
      ],
      "text/plain": [
       "<IPython.core.display.Markdown object>"
      ]
     },
     "metadata": {},
     "output_type": "display_data"
    },
    {
     "data": {
      "text/markdown": [
       "`(0.497)` If they continue to add features so they can justify their likely sky - high valuation , Google risks losing a huge chunk of their customer base to the next keep - it - simple search **engine** ."
      ],
      "text/plain": [
       "<IPython.core.display.Markdown object>"
      ]
     },
     "metadata": {},
     "output_type": "display_data"
    },
    {
     "data": {
      "text/markdown": [
       "`(0.485)` Where it risks fighting dual Sunni Arab and Shiite insurgencies simultaneously , at a **time** when US troops are rotating on a massive scale and hoping to downsize their forces in country ?"
      ],
      "text/plain": [
       "<IPython.core.display.Markdown object>"
      ]
     },
     "metadata": {},
     "output_type": "display_data"
    },
    {
     "data": {
      "text/markdown": [
       "`(0.480)` Please forward a copy of the J.M. Huber Corporation Guaranty to my **attention** ."
      ],
      "text/plain": [
       "<IPython.core.display.Markdown object>"
      ]
     },
     "metadata": {},
     "output_type": "display_data"
    },
    {
     "data": {
      "text/markdown": [
       "`(0.466)` I am seeking anecdotes ( first name , last initial ) from dieters who successfully used a natural supplement to assist their **weight** loss ; the therapeutic agents under discussion include HCA , MCT , green or oolong tea extract , CLA , chromium , starch - blockers , chitosan , 5 - HTP , hoodia and caralluma , HMB , and BCAA ."
      ],
      "text/plain": [
       "<IPython.core.display.Markdown object>"
      ]
     },
     "metadata": {},
     "output_type": "display_data"
    },
    {
     "data": {
      "text/markdown": [
       "`(0.438)` The US lost yet another helicopter to hostile **fire** near Habbaniyah in the Sunni heartland , but this time the crew was safe ."
      ],
      "text/plain": [
       "<IPython.core.display.Markdown object>"
      ]
     },
     "metadata": {},
     "output_type": "display_data"
    },
    {
     "name": "stdout",
     "output_type": "stream",
     "text": [
      "Ela\t6\n"
     ]
    },
    {
     "data": {
      "text/markdown": [
       "`(0.854)` Crap like this sure makes me want to rush right out and rescue people from dilemmas of their own **making** ."
      ],
      "text/plain": [
       "<IPython.core.display.Markdown object>"
      ]
     },
     "metadata": {},
     "output_type": "display_data"
    },
    {
     "data": {
      "text/markdown": [
       "`(0.480)` In **fact** you just do n't want to be involved in any arguments of any shape or form ..."
      ],
      "text/plain": [
       "<IPython.core.display.Markdown object>"
      ]
     },
     "metadata": {},
     "output_type": "display_data"
    },
    {
     "data": {
      "text/markdown": [
       "`(0.372)` They came through on all of their **promises** and we had a very successful day ."
      ],
      "text/plain": [
       "<IPython.core.display.Markdown object>"
      ]
     },
     "metadata": {},
     "output_type": "display_data"
    },
    {
     "data": {
      "text/markdown": [
       "`(0.352)` Here is a product page from a company that makes mold **making** materials"
      ],
      "text/plain": [
       "<IPython.core.display.Markdown object>"
      ]
     },
     "metadata": {},
     "output_type": "display_data"
    },
    {
     "data": {
      "text/markdown": [
       "`(0.324)` Therefore , public housing residents have been unable to secure the units for which they qualified prior to the storm and are left homeless , as a **result** ."
      ],
      "text/plain": [
       "<IPython.core.display.Markdown object>"
      ]
     },
     "metadata": {},
     "output_type": "display_data"
    },
    {
     "data": {
      "text/markdown": [
       "`(0.287)` In **fact** Peder and I were remarking on how agreeable they all are as the sucked on our balls last night ."
      ],
      "text/plain": [
       "<IPython.core.display.Markdown object>"
      ]
     },
     "metadata": {},
     "output_type": "display_data"
    },
    {
     "data": {
      "text/markdown": [
       "`(0.234)` The US has strongly opposed a nuclear weapons program of Iran , yet Israel , which to this **day** has never officially said that they posses nuclear weapons , ranks around fifth in nuclear strength ."
      ],
      "text/plain": [
       "<IPython.core.display.Markdown object>"
      ]
     },
     "metadata": {},
     "output_type": "display_data"
    },
    {
     "data": {
      "text/markdown": [
       "`(0.233)` It was a good opportunity to know about Enron and its finance **sector** ."
      ],
      "text/plain": [
       "<IPython.core.display.Markdown object>"
      ]
     },
     "metadata": {},
     "output_type": "display_data"
    },
    {
     "data": {
      "text/markdown": [
       "`(0.231)` \" It 's not **cost** - effective doing station flights while at the same time focusing on getting back to the Moon , \" says Brett Alexander , vice-president of Transformational Space , one of the companies hoping to launch astronauts to the ISS ."
      ],
      "text/plain": [
       "<IPython.core.display.Markdown object>"
      ]
     },
     "metadata": {},
     "output_type": "display_data"
    },
    {
     "data": {
      "text/markdown": [
       "`(0.217)` \" Though we do not deny that **fact** that Jews were killed in the ( second world ) war , why should the Palestinians pay for it ? \""
      ],
      "text/plain": [
       "<IPython.core.display.Markdown object>"
      ]
     },
     "metadata": {},
     "output_type": "display_data"
    },
    {
     "name": "stdout",
     "output_type": "stream",
     "text": [
      "Ade\t63\n"
     ]
    },
    {
     "data": {
      "text/markdown": [
       "`(0.887)` Where it risks fighting dual Sunni Arab and Shiite insurgencies simultaneously , at a time when US troops are rotating on a massive **scale** and hoping to downsize their forces in country ?"
      ],
      "text/plain": [
       "<IPython.core.display.Markdown object>"
      ]
     },
     "metadata": {},
     "output_type": "display_data"
    },
    {
     "data": {
      "text/markdown": [
       "`(0.860)` Come visit irc server : irc.yankeedot.net and join **#** audiobooks for sharing , discussion and a great trivia game ! large selection of fiction , science fiction and best sellers ."
      ],
      "text/plain": [
       "<IPython.core.display.Markdown object>"
      ]
     },
     "metadata": {},
     "output_type": "display_data"
    },
    {
     "data": {
      "text/markdown": [
       "`(0.858)` Though I am loathe to quote other writers at legnth in this **space** , this little bit from Dan Froomkin 's \" White House Briefing \" column in the WashPost today is just too good to pass up ( read the whole column here ) :"
      ],
      "text/plain": [
       "<IPython.core.display.Markdown object>"
      ]
     },
     "metadata": {},
     "output_type": "display_data"
    },
    {
     "data": {
      "text/markdown": [
       "`(0.819)` just call me on my cell **phone** ."
      ],
      "text/plain": [
       "<IPython.core.display.Markdown object>"
      ]
     },
     "metadata": {},
     "output_type": "display_data"
    },
    {
     "data": {
      "text/markdown": [
       "`(0.795)` Come visit irc server : irc.yankeedot.net and join **#** audiobooks for sharing , discussion and a great trivia game !"
      ],
      "text/plain": [
       "<IPython.core.display.Markdown object>"
      ]
     },
     "metadata": {},
     "output_type": "display_data"
    },
    {
     "data": {
      "text/markdown": [
       "`(0.786)` I was able to secure a Duns **#** and Fed Tax ID however , I am lacking Fax and bank account numbers ."
      ],
      "text/plain": [
       "<IPython.core.display.Markdown object>"
      ]
     },
     "metadata": {},
     "output_type": "display_data"
    },
    {
     "data": {
      "text/markdown": [
       "`(0.758)` Hamas has become rather unpopular in Gaza , as many see the Israeli air strikes as a response towards the rocket attacks upon Israeli **soil** ."
      ],
      "text/plain": [
       "<IPython.core.display.Markdown object>"
      ]
     },
     "metadata": {},
     "output_type": "display_data"
    },
    {
     "data": {
      "text/markdown": [
       "`(0.742)` the following **weekend** i will be ready to rock ."
      ],
      "text/plain": [
       "<IPython.core.display.Markdown object>"
      ]
     },
     "metadata": {},
     "output_type": "display_data"
    },
    {
     "data": {
      "text/markdown": [
       "`(0.734)` I 've tried calling them a week ago , they said they ca n't give me those details over the **phone** , or let me know , keep asking me to go to some website , but there 's nothing useful on it"
      ],
      "text/plain": [
       "<IPython.core.display.Markdown object>"
      ]
     },
     "metadata": {},
     "output_type": "display_data"
    },
    {
     "data": {
      "text/markdown": [
       "`(0.654)` The top two are going ' head to head ' in a final **vote** on that opens on Wednesday on - http://www.stuff.co.nz/dominion-post/"
      ],
      "text/plain": [
       "<IPython.core.display.Markdown object>"
      ]
     },
     "metadata": {},
     "output_type": "display_data"
    },
    {
     "name": "stdout",
     "output_type": "stream",
     "text": [
      "All\t11\n"
     ]
    },
    {
     "data": {
      "text/markdown": [
       "`(0.407)` It is my understanding , from good sources in the Gov s **office** that the Gov will order Loretta Lynch to expeditiously implement the provision to suspend all parties auhtority to enter into direct access contracts ."
      ],
      "text/plain": [
       "<IPython.core.display.Markdown object>"
      ]
     },
     "metadata": {},
     "output_type": "display_data"
    },
    {
     "data": {
      "text/markdown": [
       "`(0.398)` \" We were on the road and the first bridge was bombed and we drove home and all the other bridges were bombed and there was absolutely no way for us to get home , \" Chahine told reporters outside federal **court** in Detroit ."
      ],
      "text/plain": [
       "<IPython.core.display.Markdown object>"
      ]
     },
     "metadata": {},
     "output_type": "display_data"
    },
    {
     "data": {
      "text/markdown": [
       "`(0.388)` These agreements were forwarded to the **counterparty** , CCNG , Inc. ."
      ],
      "text/plain": [
       "<IPython.core.display.Markdown object>"
      ]
     },
     "metadata": {},
     "output_type": "display_data"
    },
    {
     "data": {
      "text/markdown": [
       "`(0.382)` Compare to last decade this University is gaining more prestige in International **level**"
      ],
      "text/plain": [
       "<IPython.core.display.Markdown object>"
      ]
     },
     "metadata": {},
     "output_type": "display_data"
    },
    {
     "data": {
      "text/markdown": [
       "`(0.374)` Try the 360 restraunt u spin in the cn tower with a beautiful view the sky pod elevator is about an hour **line** up in the summer"
      ],
      "text/plain": [
       "<IPython.core.display.Markdown object>"
      ]
     },
     "metadata": {},
     "output_type": "display_data"
    },
    {
     "data": {
      "text/markdown": [
       "`(0.354)` North Korea ’s Kim Jong Ill also has the bomb at the **top** of his list and Santa seems to have already come a few years ago ."
      ],
      "text/plain": [
       "<IPython.core.display.Markdown object>"
      ]
     },
     "metadata": {},
     "output_type": "display_data"
    },
    {
     "data": {
      "text/markdown": [
       "`(0.352)` I 'm inclined to say that google is doing what they can to both shape and support the growth of the most popular non-Microsoft browser out there - by taking on the leading lights in Firefox development , they 're ensuring the continued life of the project , and ensuring ( not that I think they need to ) that their voice will be heard admidst the higher **echelons** of the firefox development team ."
      ],
      "text/plain": [
       "<IPython.core.display.Markdown object>"
      ]
     },
     "metadata": {},
     "output_type": "display_data"
    },
    {
     "data": {
      "text/markdown": [
       "`(0.351)` The former Iraqi leader Saddam Hussein is refusing to enter the Baghdad **courtroom** , in protest at how his trial is being conducted ."
      ],
      "text/plain": [
       "<IPython.core.display.Markdown object>"
      ]
     },
     "metadata": {},
     "output_type": "display_data"
    },
    {
     "data": {
      "text/markdown": [
       "`(0.350)` I used my card to purchase a meal on the menu and the total on my receipt was $ 8.95 but when I went on **line** to check my transaction it show $ 10.74 ."
      ],
      "text/plain": [
       "<IPython.core.display.Markdown object>"
      ]
     },
     "metadata": {},
     "output_type": "display_data"
    },
    {
     "data": {
      "text/markdown": [
       "`(0.307)` Work it into your speech -- something along the **line** of , \" And Jen , you come from great people and have fantastic friends ."
      ],
      "text/plain": [
       "<IPython.core.display.Markdown object>"
      ]
     },
     "metadata": {},
     "output_type": "display_data"
    },
    {
     "name": "stdout",
     "output_type": "stream",
     "text": [
      "Abl\t5\n"
     ]
    },
    {
     "data": {
      "text/markdown": [
       "`(0.513)` Raw data is on the fisrt tab of the file to the **right** ."
      ],
      "text/plain": [
       "<IPython.core.display.Markdown object>"
      ]
     },
     "metadata": {},
     "output_type": "display_data"
    },
    {
     "data": {
      "text/markdown": [
       "`(0.376)` Normally this author is semi-objective ( what blogger is ) but on the Seattlepi.com ( see source link ) Palestinian Leader Mahmoud Abbas has demanded that Israel leave all the land that it occupies before the 1967 border ( which includes East Jerusalem by the **way** ) ."
      ],
      "text/plain": [
       "<IPython.core.display.Markdown object>"
      ]
     },
     "metadata": {},
     "output_type": "display_data"
    },
    {
     "data": {
      "text/markdown": [
       "`(0.338)` Miramar California is a **bit** north of San Diego ."
      ],
      "text/plain": [
       "<IPython.core.display.Markdown object>"
      ]
     },
     "metadata": {},
     "output_type": "display_data"
    },
    {
     "data": {
      "text/markdown": [
       "`(0.287)` But if -- there 's a painting on the **wall** in the Oval Office that shows a horseman charging up a steep cliff , and there are at least two other horsemen following ."
      ],
      "text/plain": [
       "<IPython.core.display.Markdown object>"
      ]
     },
     "metadata": {},
     "output_type": "display_data"
    },
    {
     "data": {
      "text/markdown": [
       "`(0.283)` \" We 're not happy with Hamas 's position at this **stage** and in light of the Israeli escalation against the Palestinians , \" commented Khader Habib , a senior Islamic Jihad official ."
      ],
      "text/plain": [
       "<IPython.core.display.Markdown object>"
      ]
     },
     "metadata": {},
     "output_type": "display_data"
    },
    {
     "data": {
      "text/markdown": [
       "`(0.243)` In addition , I received feedback from our Gas Desk that the access to the Gas **segment** of Enron On - Line was cut off to CPS --- do you know who would handle this at Enron that we can speak to ?"
      ],
      "text/plain": [
       "<IPython.core.display.Markdown object>"
      ]
     },
     "metadata": {},
     "output_type": "display_data"
    },
    {
     "data": {
      "text/markdown": [
       "`(0.241)` The Board of Muslim clerics in Fallujah , 50 **km** west of Baghdad , \" condemned the assassination and promised immediate revenge against the coalition soldiers in Iraq . \""
      ],
      "text/plain": [
       "<IPython.core.display.Markdown object>"
      ]
     },
     "metadata": {},
     "output_type": "display_data"
    },
    {
     "data": {
      "text/markdown": [
       "`(0.206)` I have no inside information , but I have been following links **today** that strongly indicate that Google is damn serious about securing permanent control of the leading edge browser technology in Firefox ."
      ],
      "text/plain": [
       "<IPython.core.display.Markdown object>"
      ]
     },
     "metadata": {},
     "output_type": "display_data"
    },
    {
     "data": {
      "text/markdown": [
       "`(0.204)` Choose this hotel over the Hilton ( which is on the next **block** ) ."
      ],
      "text/plain": [
       "<IPython.core.display.Markdown object>"
      ]
     },
     "metadata": {},
     "output_type": "display_data"
    },
    {
     "data": {
      "text/markdown": [
       "`(0.199)` It is true that Google has been in acquisition **mode** ."
      ],
      "text/plain": [
       "<IPython.core.display.Markdown object>"
      ]
     },
     "metadata": {},
     "output_type": "display_data"
    }
   ],
   "source": [
    "for idx, (case, num) in enumerate(zip(CASES, torch.bincount(en_best_labels.int()))):\n",
    "  print(f\"{case}\\t{num}\")\n",
    "#   if num == 0: continue\n",
    "  for (sentence, sent_idx, _), score in zip(en_extra[np.argsort(-en_outputs[:, idx])][:10], en_outputs[np.argsort(-en_outputs[:, idx]), idx][:10]):\n",
    "      sent_idx = int(sent_idx)\n",
    "      words = sentence.split(' ')\n",
    "      words[sent_idx] = \"**\" + words[sent_idx] + \"**\"\n",
    "      words = \" \".join(words)\n",
    "      words = f\"`({np.exp(score):5.3f})` \" + words\n",
    "      printmd(words)"
   ]
  },
  {
   "cell_type": "code",
   "execution_count": 16,
   "metadata": {},
   "outputs": [
    {
     "name": "stdout",
     "output_type": "stream",
     "text": [
      "(18290, 768)\n"
     ]
    }
   ],
   "source": [
    "print(representations.shape)"
   ]
  },
  {
   "cell_type": "code",
   "execution_count": null,
   "metadata": {},
   "outputs": [],
   "source": []
  }
 ],
 "metadata": {
  "kernelspec": {
   "display_name": "Python 3",
   "language": "python",
   "name": "python3"
  },
  "language_info": {
   "codemirror_mode": {
    "name": "ipython",
    "version": 3
   },
   "file_extension": ".py",
   "mimetype": "text/x-python",
   "name": "python",
   "nbconvert_exporter": "python",
   "pygments_lexer": "ipython3",
   "version": "3.7.4"
  }
 },
 "nbformat": 4,
 "nbformat_minor": 2
}
