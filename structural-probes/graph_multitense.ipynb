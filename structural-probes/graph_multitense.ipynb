{
 "cells": [
  {
   "cell_type": "code",
   "execution_count": 1,
   "metadata": {},
   "outputs": [],
   "source": [
    "import numpy as np\n",
    "import pandas as pd\n",
    "import torch\n",
    "import torch.nn as nn\n",
    "import matplotlib.pyplot as plt"
   ]
  },
  {
   "cell_type": "code",
   "execution_count": 2,
   "metadata": {},
   "outputs": [
    {
     "name": "stdout",
     "output_type": "stream",
     "text": [
      "(20000, 30, 768)\n"
     ]
    }
   ],
   "source": [
    "data = np.load('/u/scr/ethanchi/embeddings/temporal2/representations.npy')\n",
    "print(data.shape)"
   ]
  },
  {
   "cell_type": "code",
   "execution_count": 27,
   "metadata": {},
   "outputs": [
    {
     "name": "stdout",
     "output_type": "stream",
     "text": [
      "Index(['sentence', 'noun1', 'noun1_idx', 'verb1', 'verb1_idx', 'connector1',\n",
      "       'connector1_idx', 'connector1_char', 'noun2', 'noun2_idx', 'verb2',\n",
      "       'verb2_idx', 'connector2', 'connector2_idx', 'connector2_char', 'noun3',\n",
      "       'noun3_idx', 'verb3', 'verb3_idx'],\n",
      "      dtype='object')\n",
      "(20000, 19)\n"
     ]
    }
   ],
   "source": [
    "labels = pd.read_csv('/u/scr/ethanchi/embeddings/temporal2/sentences-cut.txt', sep=\"\\t\")\n",
    "print(labels.columns)\n",
    "print(labels.shape)"
   ]
  },
  {
   "cell_type": "code",
   "execution_count": null,
   "metadata": {},
   "outputs": [],
   "source": [
    "## FILTERS\n",
    "to_use = lambda x: x in ('before', 'after')\n",
    "filter_indices = [to_use(labels['connector1'])]\n",
    "data = data[filter_indices]"
   ]
  },
  {
   "cell_type": "code",
   "execution_count": 28,
   "metadata": {},
   "outputs": [
    {
     "name": "stdout",
     "output_type": "stream",
     "text": [
      "[2 2 2 ... 2 2 2]\n",
      "[-1  1 -1 ... -1  1  1] [ 1 -1  1 ...  1 -1 -1]\n"
     ]
    }
   ],
   "source": [
    "# we train a direction vector\n",
    "verb1_indices = labels['verb1_idx'].astype('int32').values\n",
    "print(verb1_indices)\n",
    "verb2_indices = labels['verb2_idx'].astype('int32').values\n",
    "verb3_indices = labels['verb3_idx'].astype('int32').values\n",
    "\n",
    "verb1_verb2_directions = np.where(labels['connector1_char'] == 'past', 1, -1)\n",
    "verb2_verb3_directions = np.where(labels['connector2_char'] == 'past', 1, -1)\n",
    "\n",
    "print(verb1_verb2_directions, verb2_verb3_directions)"
   ]
  },
  {
   "cell_type": "code",
   "execution_count": 29,
   "metadata": {},
   "outputs": [
    {
     "name": "stdout",
     "output_type": "stream",
     "text": [
      "(20000, 768) (20000, 768)\n"
     ]
    }
   ],
   "source": [
    "verb1_embeddings = data[np.arange(data.shape[0]), list(verb1_indices), :]\n",
    "verb2_embeddings = data[np.arange(data.shape[0]), list(verb2_indices), :]\n",
    "\n",
    "print(verb1_embeddings.shape, verb2_embeddings.shape)"
   ]
  },
  {
   "cell_type": "code",
   "execution_count": 114,
   "metadata": {},
   "outputs": [],
   "source": [
    "data_raw = (verb1_embeddings - verb2_embeddings) * verb1_verb2_directions[:, np.newaxis]\n",
    "indices = np.arange(data_raw.shape[0])\n",
    "np.random.shuffle(indices)\n",
    "data_raw = data_raw[indices]\n",
    "\n",
    "\n",
    "sep = int(indices.shape[0] * .9)\n",
    "\n",
    "train_set_raw = data_raw[:sep]\n",
    "test_set_raw = data_raw[sep:]\n",
    "\n",
    "train_labels = labels.iloc[indices][:sep]\n",
    "test_labels = labels.iloc[indices][sep:]\n",
    "\n",
    "# train_set_raw = \n",
    "# test_set_raw = \n",
    "\n",
    "train_set = train_set_raw / np.linalg.norm(train_set_raw, axis=1, keepdims=True)\n",
    "test_set = test_set_raw / np.linalg.norm(test_set_raw, axis=1, keepdims=True)"
   ]
  },
  {
   "cell_type": "code",
   "execution_count": 115,
   "metadata": {},
   "outputs": [
    {
     "name": "stdout",
     "output_type": "stream",
     "text": [
      "Epoch 0, train score 0.0012951323296874762, test score 0.0007616183720529079\n",
      "Epoch 100, train score 0.0157218836247921, test score 0.017061658203601837\n",
      "Epoch 200, train score 0.028660213574767113, test score 0.031564243137836456\n",
      "Epoch 300, train score 0.039127930998802185, test score 0.043328847736120224\n",
      "Epoch 400, train score 0.04634249955415726, test score 0.05156132951378822\n",
      "Epoch 500, train score 0.05056342855095863, test score 0.056441809982061386\n",
      "Epoch 600, train score 0.05270256847143173, test score 0.058940183371305466\n",
      "Epoch 700, train score 0.05367755889892578, test score 0.06010020524263382\n",
      "Epoch 800, train score 0.05409440025687218, test score 0.06061728298664093\n",
      "Epoch 900, train score 0.054266612976789474, test score 0.06084717437624931\n",
      "Epoch 1000, train score 0.05433699116110802, test score 0.06095145642757416\n",
      "Epoch 1100, train score 0.05436604097485542, test score 0.06100013852119446\n",
      "Epoch 1200, train score 0.054378263652324677, test score 0.06102341413497925\n",
      "Epoch 1300, train score 0.05438346043229103, test score 0.06103459373116493\n",
      "Epoch 1400, train score 0.05438569560647011, test score 0.06103990972042084\n",
      "Epoch 1500, train score 0.05438660457730293, test score 0.06104229390621185\n",
      "Epoch 1600, train score 0.05438698083162308, test score 0.0610433854162693\n",
      "Epoch 1700, train score 0.05438713729381561, test score 0.06104381009936333\n",
      "Epoch 1800, train score 0.05438719689846039, test score 0.06104394048452377\n",
      "Epoch 1900, train score 0.054387208074331284, test score 0.06104396656155586\n"
     ]
    }
   ],
   "source": [
    "input_size = data.shape[-1]\n",
    "\n",
    "class DirectionProbe(nn.Module):\n",
    "    def __init__(self, inputSize):\n",
    "        super(DirectionProbe, self).__init__()\n",
    "        self.inputSize = inputSize\n",
    "        self.u = nn.Parameter(data = torch.zeros(self.inputSize))\n",
    "        nn.init.uniform_(self.u, -0.05, 0.05)\n",
    "    def forward(self, batch):\n",
    "        return torch.mean(batch @ (self.u / torch.norm(self.u)))\n",
    "\n",
    "train_inputs = torch.Tensor(train_set)\n",
    "test_inputs = torch.Tensor(test_set)\n",
    "model = DirectionProbe(input_size)\n",
    "optimizer = torch.optim.Adam(model.parameters(), lr=0.0001)\n",
    "\n",
    "NUM_EPOCHS = 2000\n",
    "\n",
    "for epoch in range(NUM_EPOCHS):\n",
    "    optimizer.zero_grad()\n",
    "    output = model(train_inputs)\n",
    "    error = 1 - output\n",
    "    error.backward()\n",
    "    optimizer.step()\n",
    "    if epoch % 100 == 0:\n",
    "        test_output = model(test_inputs)\n",
    "        print(\"Epoch {}, train score {}, test score {}\".format(epoch, output, test_output))\n"
   ]
  },
  {
   "cell_type": "code",
   "execution_count": 116,
   "metadata": {},
   "outputs": [
    {
     "name": "stdout",
     "output_type": "stream",
     "text": [
      "0.5931666666666666\n"
     ]
    }
   ],
   "source": [
    "EPSILON = 0.0001\n",
    "direction_vector = model.u.cpu().detach().numpy()\n",
    "direction_vector /= np.linalg.norm(direction_vector)\n",
    "numSuccessful = len(np.where(np.linalg.norm(train_set_raw + EPSILON * direction_vector, axis=1) > np.linalg.norm(train_set_raw, axis=1))[0])\n",
    "print(numSuccessful / train_set_raw.shape[0])"
   ]
  },
  {
   "cell_type": "code",
   "execution_count": 117,
   "metadata": {},
   "outputs": [
    {
     "name": "stdout",
     "output_type": "stream",
     "text": [
      "(2000, 19)\n",
      "sentence           The cat walked earlier than the cat walked aft...\n",
      "noun1                                                            cat\n",
      "noun1_idx                                                          1\n",
      "verb1                                                         walked\n",
      "verb1_idx                                                          2\n",
      "connector1                                              earlier than\n",
      "connector1_idx                                                     3\n",
      "connector1_char                                                 past\n",
      "noun2                                                            cat\n",
      "noun2_idx                                                          6\n",
      "verb2                                                         walked\n",
      "verb2_idx                                                          7\n",
      "connector2                                                     after\n",
      "connector2_idx                                                     8\n",
      "connector2_char                                               future\n",
      "noun3                                                            boy\n",
      "noun3_idx                                                         10\n",
      "verb3                                                            ate\n",
      "verb3_idx                                                         11\n",
      "Name: 19603, dtype: object\n",
      "sentence           The boy shouted later than the cat shouted aft...\n",
      "noun1                                                            boy\n",
      "noun1_idx                                                          1\n",
      "verb1                                                        shouted\n",
      "verb1_idx                                                          2\n",
      "connector1                                                later than\n",
      "connector1_idx                                                     3\n",
      "connector1_char                                               future\n",
      "noun2                                                            cat\n",
      "noun2_idx                                                          6\n",
      "verb2                                                        shouted\n",
      "verb2_idx                                                          7\n",
      "connector2                                                     after\n",
      "connector2_idx                                                     8\n",
      "connector2_char                                               future\n",
      "noun3                                                            cat\n",
      "noun3_idx                                                         10\n",
      "verb3                                                            ate\n",
      "verb3_idx                                                         11\n",
      "Name: 18461, dtype: object\n"
     ]
    },
    {
     "data": {
      "image/png": "[encoded data removed]",
      "text/plain": [
       "<Figure size 360x360 with 1 Axes>"
      ]
     },
     "metadata": {
      "needs_background": "light"
     },
     "output_type": "display_data"
    }
   ],
   "source": [
    "plt.figure(figsize=(5, 5))\n",
    "\n",
    "test_directions = verb1_verb2_directions[sep:]\n",
    "\n",
    "before = test_set_raw[test_directions == -1] @ direction_vector\n",
    "after = test_set_raw[test_directions == 1] @ direction_vector\n",
    "\n",
    "plt.scatter(before, np.zeros(before.shape[0]), label=\"before\", s=0.01)\n",
    "plt.scatter(after, np.zeros(after.shape[0]), label=\"after\", s=0.01)\n",
    "\n",
    "print(test_labels.shape)\n",
    "print(test_labels[test_directions == -1].iloc[np.argmin(before)])\n",
    "print(test_labels[test_directions == -1].iloc[np.argmax(before)])\n",
    "\n",
    "plt.legend()\n",
    "\n",
    "plt.show()"
   ]
  },
  {
   "cell_type": "code",
   "execution_count": 118,
   "metadata": {},
   "outputs": [
    {
     "name": "stdout",
     "output_type": "stream",
     "text": [
      "after 0.01845018450184502\n",
      "before 0.9846153846153847\n",
      "later than 0.7586206896551724\n",
      "earlier than 0.2702702702702703\n",
      "until 0.9914893617021276\n",
      "then 0.9923664122137404\n",
      "subsequently to 0.7710843373493976\n",
      "(2000, 19)\n"
     ]
    },
    {
     "data": {
      "image/png": "[encoded data removed]",
      "text/plain": [
       "<Figure size 1080x72 with 1 Axes>"
      ]
     },
     "metadata": {
      "needs_background": "light"
     },
     "output_type": "display_data"
    }
   ],
   "source": [
    "plt.figure(figsize=(15, 1))\n",
    "\n",
    "test_directions = verb1_verb2_directions[sep:]\n",
    "\n",
    "\n",
    "for word in ('after', 'before', 'later than', 'earlier than', 'until', 'then', 'subsequently to'):\n",
    "  arr = test_set[test_labels['connector1'] == word] @ direction_vector\n",
    "  plt.scatter(arr, np.zeros(arr.shape[0]), label=word, s=1)\n",
    "  print(word, len(np.where(np.linalg.norm(test_set[test_labels['connector1'] == word] + EPSILON * direction_vector, axis=1) > np.linalg.norm(test_set[test_labels['connector1'] == word], axis=1))[0]) /\n",
    "       len(test_set[test_labels['connector1'] == word]))\n",
    "\n",
    "\n",
    "print(test_labels.shape)\n",
    "\n",
    "plt.legend(markerscale=2)\n",
    "\n",
    "plt.show()"
   ]
  },
  {
   "cell_type": "code",
   "execution_count": 134,
   "metadata": {},
   "outputs": [
    {
     "name": "stdout",
     "output_type": "stream",
     "text": [
      "after 0.01845018450184502\n",
      "before 0.9846153846153847\n",
      "later than 0.7586206896551724\n",
      "earlier than 0.2702702702702703\n",
      "(2000, 19)\n"
     ]
    },
    {
     "data": {
      "image/png": "[encoded data removed]",
      "text/plain": [
       "<Figure size 1080x72 with 1 Axes>"
      ]
     },
     "metadata": {
      "needs_background": "light"
     },
     "output_type": "display_data"
    }
   ],
   "source": [
    "to_plot_data = (verb1_embeddings - verb2_embeddings)[indices][sep:]\n",
    "\n",
    "assert(np.array_equal(((verb1_embeddings - verb2_embeddings) * verb1_verb2_directions[:, np.newaxis])[indices][sep:], test_set_raw))\n",
    "\n",
    "\n",
    "plt.figure(figsize=(15, 1))\n",
    "\n",
    "test_directions = verb1_verb2_directions[sep:]\n",
    "\n",
    "\n",
    "# colors=['blue', 'red', 'green', 'orange', 'yellow', 'orangered', 'purple']\n",
    "\n",
    "# for idx, word in enumerate(('after', 'before', 'later than', 'earlier than', 'until', 'then', 'subsequently to')):\n",
    "colors=['blue', 'red', 'green', 'orange']\n",
    "\n",
    "for idx, word in enumerate(('after', 'before', 'later than', 'earlier than')):\n",
    "  arr = test_set[test_labels['connector1'] == word] @ direction_vector\n",
    "  plt.eventplot(arr, orientation='horizontal', label=word, colors=colors[idx], alpha=1)\n",
    "  print(word, len(np.where(np.linalg.norm(test_set[test_labels['connector1'] == word] + EPSILON * direction_vector, axis=1) > np.linalg.norm(test_set[test_labels['connector1'] == word], axis=1))[0]) /\n",
    "       len(test_set[test_labels['connector1'] == word]))\n",
    "\n",
    "\n",
    "print(test_labels.shape)\n",
    "\n",
    "plt.legend(markerscale=2)\n",
    "\n",
    "plt.show()"
   ]
  },
  {
   "cell_type": "code",
   "execution_count": 126,
   "metadata": {},
   "outputs": [
    {
     "name": "stdout",
     "output_type": "stream",
     "text": [
      "after 0.01845018450184502\n",
      "before 0.9846153846153847\n",
      "later than 0.7586206896551724\n",
      "earlier than 0.2702702702702703\n",
      "until 0.9914893617021276\n",
      "then 0.9923664122137404\n",
      "subsequently to 0.7710843373493976\n",
      "(2000, 19)\n"
     ]
    },
    {
     "data": {
      "image/png": "[encoded data removed]",
      "text/plain": [
       "<Figure size 1080x72 with 1 Axes>"
      ]
     },
     "metadata": {
      "needs_background": "light"
     },
     "output_type": "display_data"
    }
   ],
   "source": [
    "to_plot_data = (verb1_embeddings - verb2_embeddings)[indices][sep:]\n",
    "\n",
    "plt.figure(figsize=(15, 1))\n",
    "\n",
    "test_directions = verb1_verb2_directions[sep:]\n",
    "\n",
    "\n",
    "# colors=['blue', 'red', 'green', 'orange', 'yellow', 'orangered', 'purple']\n",
    "\n",
    "# for idx, word in enumerate(('after', 'before', 'later than', 'earlier than', 'until', 'then', 'subsequently to')):\n",
    "# colors=['blue', 'red', 'green', 'orange']\n",
    "\n",
    "# for idx, word in enumerate(('after', 'before', 'later than', 'earlier than')):\n",
    "colors=['blue', 'red', 'green', 'orange', 'yellow', 'orangered', 'purple']\n",
    "\n",
    "for idx, word in enumerate(('after', 'before', 'later than', 'earlier than', 'until', 'then', 'subsequently to')):\n",
    "  arr = to_plot_data[test_labels['connector1'] == word] @ direction_vector\n",
    "  plt.eventplot(arr, orientation='horizontal', label=word, colors=colors[idx], alpha=0.5)\n",
    "  print(word, len(np.where(np.linalg.norm(test_set[test_labels['connector1'] == word] + EPSILON * direction_vector, axis=1) > np.linalg.norm(test_set[test_labels['connector1'] == word], axis=1))[0]) /\n",
    "       len(test_set[test_labels['connector1'] == word]))\n",
    "\n",
    "\n",
    "print(test_labels.shape)\n",
    "\n",
    "plt.legend(markerscale=2)\n",
    "\n",
    "plt.show()"
   ]
  },
  {
   "cell_type": "code",
   "execution_count": null,
   "metadata": {},
   "outputs": [],
   "source": []
  }
 ],
 "metadata": {
  "kernelspec": {
   "display_name": "Python 3",
   "language": "python",
   "name": "python3"
  },
  "language_info": {
   "codemirror_mode": {
    "name": "ipython",
    "version": 3
   },
   "file_extension": ".py",
   "mimetype": "text/x-python",
   "name": "python",
   "nbconvert_exporter": "python",
   "pygments_lexer": "ipython3",
   "version": "3.7.3"
  }
 },
 "nbformat": 4,
 "nbformat_minor": 2
}
