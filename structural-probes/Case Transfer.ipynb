{
 "cells": [
  {
   "cell_type": "code",
   "execution_count": 3,
   "metadata": {},
   "outputs": [],
   "source": [
    "import numpy as np\n",
    "import torch\n",
    "from torch import nn\n",
    "import matplotlib.pyplot as plt\n",
    "from IPython.display import Markdown, display"
   ]
  },
  {
   "cell_type": "code",
   "execution_count": 4,
   "metadata": {},
   "outputs": [],
   "source": [
    "representations = np.load('/u/scr/ethanchi/relationOutputs/finnish/representations.npy')\n",
    "morph = np.load('/u/scr/ethanchi/relationOutputs/finnish/morph.npy')\n",
    "pos = np.load('/u/scr/ethanchi/relationOutputs/finnish/pos.npy')"
   ]
  },
  {
   "cell_type": "code",
   "execution_count": 5,
   "metadata": {},
   "outputs": [],
   "source": [
    "CASES = [\"Nom\", \"Acc\", \"Gen\", \"Ins\", \"Par\", \"Ess\", \"Tra\", \"Com\", \"Abe\", \"Ine\", \"Ill\", \"Ela\", \"Ade\", \"All\", \"Abl\"]\n",
    "NUM_CASES = len(CASES)"
   ]
  },
  {
   "cell_type": "code",
   "execution_count": 6,
   "metadata": {},
   "outputs": [
    {
     "name": "stdout",
     "output_type": "stream",
     "text": [
      "(5103,)\n",
      "(5103, 15)\n",
      "(5103,)\n",
      "[ 2  0 12 ...  9 10  2]\n"
     ]
    }
   ],
   "source": [
    "data = morph[pos=='NOUN']\n",
    "reps = representations[pos=='NOUN']\n",
    "\n",
    "print(data.shape)\n",
    "\n",
    "labels = np.zeros([data.shape[0], NUM_CASES])\n",
    "\n",
    "for idx, case in enumerate(CASES):\n",
    "  is_case = np.vectorize(lambda x: x.startswith(\"Case=\" + case))\n",
    "  labels[:, idx] = is_case(data)\n",
    "\n",
    "print(labels.shape)\n",
    "  \n",
    "labels = np.argmax(labels, axis=1)\n",
    "print(labels.shape)\n",
    "print(labels)"
   ]
  },
  {
   "cell_type": "code",
   "execution_count": 7,
   "metadata": {},
   "outputs": [],
   "source": [
    "label_tensor = torch.Tensor(labels)\n",
    "data_tensor = torch.Tensor(reps)\n",
    "\n",
    "indices = np.arange(label_tensor.shape[0])\n",
    "np.random.shuffle(indices)\n",
    "\n",
    "label_tensor = label_tensor[indices]\n",
    "data_tensor = data_tensor[indices]\n",
    "\n",
    "sep = int(0.9 * label_tensor.shape[0])\n",
    "\n",
    "train_labels = label_tensor[:sep]\n",
    "train_data = data_tensor[:sep]\n",
    "\n",
    "test_labels = label_tensor[sep:]\n",
    "test_data = data_tensor[sep:]"
   ]
  },
  {
   "cell_type": "code",
   "execution_count": 8,
   "metadata": {},
   "outputs": [
    {
     "name": "stdout",
     "output_type": "stream",
     "text": [
      "Epoch 0, train loss 2.768, train accuracy 4.508%, test loss 2.733, test accuracy 5.284%\n",
      "Epoch 100, train loss 1.648, train accuracy 55.009%, test loss 1.690, test accuracy 52.055%\n",
      "Epoch 200, train loss 1.190, train accuracy 73.454%, test loss 1.258, test accuracy 70.646%\n",
      "Epoch 300, train loss 0.923, train accuracy 81.773%, test loss 1.004, test accuracy 78.669%\n",
      "Epoch 400, train loss 0.751, train accuracy 86.781%, test loss 0.839, test accuracy 83.366%\n",
      "Epoch 500, train loss 0.632, train accuracy 89.460%, test loss 0.726, test accuracy 85.323%\n",
      "Epoch 600, train loss 0.546, train accuracy 91.115%, test loss 0.644, test accuracy 87.084%\n",
      "Epoch 700, train loss 0.480, train accuracy 92.247%, test loss 0.583, test accuracy 88.454%\n",
      "Epoch 800, train loss 0.429, train accuracy 93.075%, test loss 0.535, test accuracy 88.650%\n",
      "Epoch 900, train loss 0.387, train accuracy 93.706%, test loss 0.498, test accuracy 89.237%\n",
      "Epoch 1000, train loss 0.353, train accuracy 94.207%, test loss 0.468, test accuracy 89.824%\n",
      "Epoch 1100, train loss 0.324, train accuracy 94.774%, test loss 0.443, test accuracy 90.020%\n",
      "Epoch 1200, train loss 0.299, train accuracy 95.187%, test loss 0.422, test accuracy 90.607%\n",
      "Epoch 1300, train loss 0.277, train accuracy 95.557%, test loss 0.405, test accuracy 91.194%\n",
      "Epoch 1400, train loss 0.258, train accuracy 95.862%, test loss 0.390, test accuracy 91.194%\n",
      "Epoch 1500, train loss 0.242, train accuracy 96.015%, test loss 0.377, test accuracy 91.585%\n",
      "Epoch 1600, train loss 0.227, train accuracy 96.298%, test loss 0.366, test accuracy 91.781%\n",
      "Epoch 1700, train loss 0.214, train accuracy 96.646%, test loss 0.357, test accuracy 91.585%\n",
      "Epoch 1800, train loss 0.201, train accuracy 96.821%, test loss 0.349, test accuracy 91.781%\n",
      "Epoch 1900, train loss 0.190, train accuracy 97.169%, test loss 0.342, test accuracy 91.585%\n"
     ]
    }
   ],
   "source": [
    "class CaseClassifier(nn.Module):\n",
    "  def __init__(self, rep_size, out_size):\n",
    "    super(CaseClassifier, self).__init__()\n",
    "    self.linear = nn.Linear(rep_size, out_size)\n",
    "  def forward(self, vectors):\n",
    "    return nn.functional.log_softmax(self.linear(vectors), dim=1)\n",
    "  \n",
    "NUM_EPOCHS = 2000\n",
    "\n",
    "model = CaseClassifier(representations.shape[-1], NUM_CASES)\n",
    "\n",
    "optimizer = torch.optim.Adam(model.parameters(), lr=0.0001)\n",
    "loss = nn.CrossEntropyLoss()\n",
    "\n",
    "\n",
    "\n",
    "for epoch in range(NUM_EPOCHS):\n",
    "  optimizer.zero_grad()\n",
    "  train_outputs = model(train_data)\n",
    "  train_loss = loss(train_outputs, train_labels.long())\n",
    "  train_loss.backward()\n",
    "  optimizer.step()\n",
    "  if epoch % 100 == 0:\n",
    "    with torch.no_grad():\n",
    "      test_outputs = model(test_data)\n",
    "      test_loss = loss(test_outputs, test_labels.long())\n",
    "      train_accuracy = len(np.where(torch.argmax(train_outputs, dim=1) == train_labels.long())[0]) / train_outputs.shape[0]\n",
    "      test_accuracy = len(np.where(torch.argmax(test_outputs, dim=1) == test_labels.long())[0]) / test_outputs.shape[0]\n",
    "      print(\"Epoch {}, train loss {:5.3f}, train accuracy {:2.3f}%, test loss {:5.3f}, test accuracy {:2.3f}%\".format(epoch, train_loss, train_accuracy*100, test_loss, test_accuracy*100))\n",
    "\n"
   ]
  },
  {
   "cell_type": "code",
   "execution_count": 9,
   "metadata": {},
   "outputs": [
    {
     "name": "stdout",
     "output_type": "stream",
     "text": [
      "(4195, 768)\n"
     ]
    }
   ],
   "source": [
    "en_representations = np.load('/u/scr/ethanchi/relationOutputs/english/representations.npy')\n",
    "en_pos = np.load('/u/scr/ethanchi/relationOutputs/english/pos.npy')\n",
    "en_extra = np.load('/u/scr/ethanchi/relationOutputs/english/data.npy')\n",
    "\n",
    "en_extra = en_extra[en_pos=='NOUN']\n",
    "en_representations = en_representations[en_pos=='NOUN']\n",
    "\n",
    "print(en_representations.shape)"
   ]
  },
  {
   "cell_type": "code",
   "execution_count": 10,
   "metadata": {},
   "outputs": [
    {
     "name": "stdout",
     "output_type": "stream",
     "text": [
      "Nom\t3239\n",
      "Acc\t0\n",
      "Gen\t293\n",
      "Ins\t2\n",
      "Par\t466\n",
      "Ess\t50\n",
      "Tra\t4\n",
      "Com\t0\n",
      "Abe\t0\n",
      "Ine\t64\n",
      "Ill\t12\n",
      "Ela\t11\n",
      "Ade\t40\n",
      "All\t9\n",
      "Abl\t5\n"
     ]
    }
   ],
   "source": [
    "en_inputs = torch.Tensor(en_representations)\n",
    "with torch.no_grad():\n",
    "  en_outputs = model(en_inputs)\n",
    "  en_best_labels = torch.argmax(en_outputs, dim=1)\n",
    "  \n",
    "for case, num in zip(CASES, torch.bincount(en_best_labels.int())):\n",
    "  print(f\"{case}\\t{num}\")\n",
    "  \n",
    "  \n"
   ]
  },
  {
   "cell_type": "code",
   "execution_count": 11,
   "metadata": {},
   "outputs": [
    {
     "name": "stdout",
     "output_type": "stream",
     "text": [
      "Nom\t3239\n"
     ]
    },
    {
     "data": {
      "text/markdown": [
       "From the AP comes this **story** :"
      ],
      "text/plain": [
       "<IPython.core.display.Markdown object>"
      ]
     },
     "metadata": {},
     "output_type": "display_data"
    },
    {
     "data": {
      "text/markdown": [
       "President Bush on Tuesday nominated two **individuals** to replace retiring jurists on federal courts in the Washington area ."
      ],
      "text/plain": [
       "<IPython.core.display.Markdown object>"
      ]
     },
     "metadata": {},
     "output_type": "display_data"
    },
    {
     "data": {
      "text/markdown": [
       "President Bush on Tuesday nominated two individuals to replace retiring **jurists** on federal courts in the Washington area ."
      ],
      "text/plain": [
       "<IPython.core.display.Markdown object>"
      ]
     },
     "metadata": {},
     "output_type": "display_data"
    },
    {
     "data": {
      "text/markdown": [
       "President Bush on Tuesday nominated two individuals to replace retiring jurists on federal courts in the Washington **area** ."
      ],
      "text/plain": [
       "<IPython.core.display.Markdown object>"
      ]
     },
     "metadata": {},
     "output_type": "display_data"
    },
    {
     "data": {
      "text/markdown": [
       "Bush nominated Jennifer M. Anderson for a 15 - year **term** as associate judge of the Superior Court of the District of Columbia , replacing Steffen W. Graae ."
      ],
      "text/plain": [
       "<IPython.core.display.Markdown object>"
      ]
     },
     "metadata": {},
     "output_type": "display_data"
    },
    {
     "data": {
      "text/markdown": [
       "Bush nominated Jennifer M. Anderson for a 15 - year term as associate **judge** of the Superior Court of the District of Columbia , replacing Steffen W. Graae ."
      ],
      "text/plain": [
       "<IPython.core.display.Markdown object>"
      ]
     },
     "metadata": {},
     "output_type": "display_data"
    },
    {
     "data": {
      "text/markdown": [
       "Bush also nominated A. Noel Anketell Kramer for a 15 - year **term** as associate judge of the District of Columbia Court of Appeals , replacing John Montague Steadman ."
      ],
      "text/plain": [
       "<IPython.core.display.Markdown object>"
      ]
     },
     "metadata": {},
     "output_type": "display_data"
    },
    {
     "data": {
      "text/markdown": [
       "Bush also nominated A. Noel Anketell Kramer for a 15 - year term as associate **judge** of the District of Columbia Court of Appeals , replacing John Montague Steadman ."
      ],
      "text/plain": [
       "<IPython.core.display.Markdown object>"
      ]
     },
     "metadata": {},
     "output_type": "display_data"
    },
    {
     "data": {
      "text/markdown": [
       "The **sheikh** in wheel - chair has been attacked with a F - 16 - launched bomb ."
      ],
      "text/plain": [
       "<IPython.core.display.Markdown object>"
      ]
     },
     "metadata": {},
     "output_type": "display_data"
    },
    {
     "data": {
      "text/markdown": [
       "The sheikh in **wheel** - chair has been attacked with a F - 16 - launched bomb ."
      ],
      "text/plain": [
       "<IPython.core.display.Markdown object>"
      ]
     },
     "metadata": {},
     "output_type": "display_data"
    },
    {
     "name": "stdout",
     "output_type": "stream",
     "text": [
      "Acc\t0\n",
      "Gen\t293\n"
     ]
    },
    {
     "data": {
      "text/markdown": [
       "In the eastern city of Baqubah , guerrillas detonated a car bomb outside a **police** station , killing several people ."
      ],
      "text/plain": [
       "<IPython.core.display.Markdown object>"
      ]
     },
     "metadata": {},
     "output_type": "display_data"
    },
    {
     "data": {
      "text/markdown": [
       "The US troops fired into the hostile **crowd** , killing 4 ."
      ],
      "text/plain": [
       "<IPython.core.display.Markdown object>"
      ]
     },
     "metadata": {},
     "output_type": "display_data"
    },
    {
     "data": {
      "text/markdown": [
       "Google has finally had an analyst day -- a chance to present the **company** 's story to the ( miniscule number of ) people who have n't heard it ."
      ],
      "text/plain": [
       "<IPython.core.display.Markdown object>"
      ]
     },
     "metadata": {},
     "output_type": "display_data"
    },
    {
     "data": {
      "text/markdown": [
       "Usually , these are just a chance for the suckups to suck up , but this time people are actually concerned about the **company** 's plans ."
      ],
      "text/plain": [
       "<IPython.core.display.Markdown object>"
      ]
     },
     "metadata": {},
     "output_type": "display_data"
    },
    {
     "data": {
      "text/markdown": [
       "It 's not quite as freewheeling an environment as you 'd imagine : Sergey Brin has actually created a mathematical ' proof ' that the **company** 's self - driven research strategy , which gives employees one day a week to do research projects on their own , is a good , respectable idea ."
      ],
      "text/plain": [
       "<IPython.core.display.Markdown object>"
      ]
     },
     "metadata": {},
     "output_type": "display_data"
    },
    {
     "data": {
      "text/markdown": [
       "It 's not quite as freewheeling an environment as you 'd imagine : Sergey Brin has actually created a mathematical ' proof ' that the company 's **self** - driven research strategy , which gives employees one day a week to do research projects on their own , is a good , respectable idea ."
      ],
      "text/plain": [
       "<IPython.core.display.Markdown object>"
      ]
     },
     "metadata": {},
     "output_type": "display_data"
    },
    {
     "data": {
      "text/markdown": [
       "It 's not quite as freewheeling an environment as you 'd imagine : Sergey Brin has actually created a mathematical ' proof ' that the company 's self - driven **research** strategy , which gives employees one day a week to do research projects on their own , is a good , respectable idea ."
      ],
      "text/plain": [
       "<IPython.core.display.Markdown object>"
      ]
     },
     "metadata": {},
     "output_type": "display_data"
    },
    {
     "data": {
      "text/markdown": [
       "It 's not quite as freewheeling an environment as you 'd imagine : Sergey Brin has actually created a mathematical ' proof ' that the company 's self - driven research strategy , which gives employees one day a week to do **research** projects on their own , is a good , respectable idea ."
      ],
      "text/plain": [
       "<IPython.core.display.Markdown object>"
      ]
     },
     "metadata": {},
     "output_type": "display_data"
    },
    {
     "data": {
      "text/markdown": [
       "Sharon 's assassination of major Hamas leaders has also weakened **authority** structures in that party ."
      ],
      "text/plain": [
       "<IPython.core.display.Markdown object>"
      ]
     },
     "metadata": {},
     "output_type": "display_data"
    },
    {
     "data": {
      "text/markdown": [
       "If the Israelis and the Palestinian leadership can not find a way to reinvigorate the **peace** process , cells of radical young Palestinians may grow up that look to bin Laden for their cues ."
      ],
      "text/plain": [
       "<IPython.core.display.Markdown object>"
      ]
     },
     "metadata": {},
     "output_type": "display_data"
    },
    {
     "name": "stdout",
     "output_type": "stream",
     "text": [
      "Ins\t2\n"
     ]
    },
    {
     "data": {
      "text/markdown": [
       "I meant to comment that I thought the people profiled in the article should pull their heads out of their **self** important asses ."
      ],
      "text/plain": [
       "<IPython.core.display.Markdown object>"
      ]
     },
     "metadata": {},
     "output_type": "display_data"
    },
    {
     "data": {
      "text/markdown": [
       "I am doing a project and need to know what **kind** food Argentina people eat for breakfast , lunch , and dinner ."
      ],
      "text/plain": [
       "<IPython.core.display.Markdown object>"
      ]
     },
     "metadata": {},
     "output_type": "display_data"
    },
    {
     "name": "stdout",
     "output_type": "stream",
     "text": [
      "Par\t466\n"
     ]
    },
    {
     "data": {
      "text/markdown": [
       "Bush nominated Jennifer M. Anderson for a 15 - **year** term as associate judge of the Superior Court of the District of Columbia , replacing Steffen W. Graae ."
      ],
      "text/plain": [
       "<IPython.core.display.Markdown object>"
      ]
     },
     "metadata": {},
     "output_type": "display_data"
    },
    {
     "data": {
      "text/markdown": [
       "Bush also nominated A. Noel Anketell Kramer for a 15 - **year** term as associate judge of the District of Columbia Court of Appeals , replacing John Montague Steadman ."
      ],
      "text/plain": [
       "<IPython.core.display.Markdown object>"
      ]
     },
     "metadata": {},
     "output_type": "display_data"
    },
    {
     "data": {
      "text/markdown": [
       "He could be killed **years** ago and the israelians have all the reasons , since he founded and he is the spiritual leader of Hamas , but they did n't ."
      ],
      "text/plain": [
       "<IPython.core.display.Markdown object>"
      ]
     },
     "metadata": {},
     "output_type": "display_data"
    },
    {
     "data": {
      "text/markdown": [
       "He could be killed years ago and the israelians have all the **reasons** , since he founded and he is the spiritual leader of Hamas , but they did n't ."
      ],
      "text/plain": [
       "<IPython.core.display.Markdown object>"
      ]
     },
     "metadata": {},
     "output_type": "display_data"
    },
    {
     "data": {
      "text/markdown": [
       "Nervous people make mistakes , so I suppose there will be a **wave** of succesfull arab attacks ."
      ],
      "text/plain": [
       "<IPython.core.display.Markdown object>"
      ]
     },
     "metadata": {},
     "output_type": "display_data"
    },
    {
     "data": {
      "text/markdown": [
       "In the eastern **city** of Baqubah , guerrillas detonated a car bomb outside a police station , killing several people ."
      ],
      "text/plain": [
       "<IPython.core.display.Markdown object>"
      ]
     },
     "metadata": {},
     "output_type": "display_data"
    },
    {
     "data": {
      "text/markdown": [
       "In the eastern city of Baqubah , guerrillas detonated a car bomb outside a police station , killing several **people** ."
      ],
      "text/plain": [
       "<IPython.core.display.Markdown object>"
      ]
     },
     "metadata": {},
     "output_type": "display_data"
    },
    {
     "data": {
      "text/markdown": [
       "In Fallujah , hundreds of demonstrators came out against US **troops** when they briefly arrested a yound newlywed bride ."
      ],
      "text/plain": [
       "<IPython.core.display.Markdown object>"
      ]
     },
     "metadata": {},
     "output_type": "display_data"
    },
    {
     "data": {
      "text/markdown": [
       "( I hope that the US army got an enormous **amount** of information from her relatives , because otherwise this move was a bad , bad tradeoff ) ."
      ],
      "text/plain": [
       "<IPython.core.display.Markdown object>"
      ]
     },
     "metadata": {},
     "output_type": "display_data"
    },
    {
     "data": {
      "text/markdown": [
       "Google has finally had an analyst day -- a **chance** to present the company 's story to the ( miniscule number of ) people who have n't heard it ."
      ],
      "text/plain": [
       "<IPython.core.display.Markdown object>"
      ]
     },
     "metadata": {},
     "output_type": "display_data"
    },
    {
     "name": "stdout",
     "output_type": "stream",
     "text": [
      "Ess\t50\n"
     ]
    },
    {
     "data": {
      "text/markdown": [
       "It 's not quite as freewheeling an environment as you 'd imagine : Sergey Brin has actually created a mathematical ' proof ' that the company 's self - driven research strategy , which gives employees one **day** a week to do research projects on their own , is a good , respectable idea ."
      ],
      "text/plain": [
       "<IPython.core.display.Markdown object>"
      ]
     },
     "metadata": {},
     "output_type": "display_data"
    },
    {
     "data": {
      "text/markdown": [
       "Xinhua reports that a wide range of Iraqi political forces on Tuesday condemned Sharon 's murder of Sheikh Ahmed Yassin , a religious leader of Hamas , the **day** before ."
      ],
      "text/plain": [
       "<IPython.core.display.Markdown object>"
      ]
     },
     "metadata": {},
     "output_type": "display_data"
    },
    {
     "data": {
      "text/markdown": [
       "The hottest item on Christmas wish lists this **year** is nuclear weapons ."
      ],
      "text/plain": [
       "<IPython.core.display.Markdown object>"
      ]
     },
     "metadata": {},
     "output_type": "display_data"
    },
    {
     "data": {
      "text/markdown": [
       "For the last few years there have been tensions with Iran ’s nuclear program with word coming this **week** that a deal was reached through the European Union that meets with the approval of the International Atomic Energy Agency ."
      ],
      "text/plain": [
       "<IPython.core.display.Markdown object>"
      ]
     },
     "metadata": {},
     "output_type": "display_data"
    },
    {
     "data": {
      "text/markdown": [
       "At the same **time** , an Iranian Opposition Group released what they call proof of a covert nuclear weapons program ."
      ],
      "text/plain": [
       "<IPython.core.display.Markdown object>"
      ]
     },
     "metadata": {},
     "output_type": "display_data"
    },
    {
     "data": {
      "text/markdown": [
       "The US has strongly opposed a nuclear weapons program of Iran , yet Israel , which to this **day** has never officially said that they posses nuclear weapons , ranks around fifth in nuclear strength ."
      ],
      "text/plain": [
       "<IPython.core.display.Markdown object>"
      ]
     },
     "metadata": {},
     "output_type": "display_data"
    },
    {
     "data": {
      "text/markdown": [
       "This is unlike the situation last **year** in Asia when we evacuated U.S. citizens from areas that were hit by the tsunami - a phenomenon that is much less predictable than the Hezbollah - provoked destruction that rained down on Lebanon ."
      ],
      "text/plain": [
       "<IPython.core.display.Markdown object>"
      ]
     },
     "metadata": {},
     "output_type": "display_data"
    },
    {
     "data": {
      "text/markdown": [
       "My role with Firefox and the Mozilla project will remain largely unchanged , I will continue doing much the same work as I have described above - with the new **goal** of successful 1.1 , 1.5 and 2.0 releases ."
      ],
      "text/plain": [
       "<IPython.core.display.Markdown object>"
      ]
     },
     "metadata": {},
     "output_type": "display_data"
    },
    {
     "data": {
      "text/markdown": [
       "I remain devoted full - **time** to the advancement of Firefox , the Mozilla platform and web browsing in general ."
      ],
      "text/plain": [
       "<IPython.core.display.Markdown object>"
      ]
     },
     "metadata": {},
     "output_type": "display_data"
    },
    {
     "data": {
      "text/markdown": [
       "I just want to extend a big \" Welcome ! \" to Darin Darin Fisher who joined me at Google this **week** ."
      ],
      "text/plain": [
       "<IPython.core.display.Markdown object>"
      ]
     },
     "metadata": {},
     "output_type": "display_data"
    },
    {
     "name": "stdout",
     "output_type": "stream",
     "text": [
      "Tra\t4\n"
     ]
    },
    {
     "data": {
      "text/markdown": [
       "While there have been spasms of speculation about the Bush administration naming a **replacement** for O'Keefe , no nominee has been declared ."
      ],
      "text/plain": [
       "<IPython.core.display.Markdown object>"
      ]
     },
     "metadata": {},
     "output_type": "display_data"
    },
    {
     "data": {
      "text/markdown": [
       "I recently converted this test to an online test in **order** to norm it to a larger population and , subsequently , to make it available to any one who has access to a computer and the Internet ."
      ],
      "text/plain": [
       "<IPython.core.display.Markdown object>"
      ]
     },
     "metadata": {},
     "output_type": "display_data"
    },
    {
     "data": {
      "text/markdown": [
       "In **exchange** for sucking vast amounts of water out of the local land , the mighty corporation promised to bring the people great wealth ."
      ],
      "text/plain": [
       "<IPython.core.display.Markdown object>"
      ]
     },
     "metadata": {},
     "output_type": "display_data"
    },
    {
     "data": {
      "text/markdown": [
       "Thanks for fixing my garage **door** A ++++++++++++++++++"
      ],
      "text/plain": [
       "<IPython.core.display.Markdown object>"
      ]
     },
     "metadata": {},
     "output_type": "display_data"
    },
    {
     "name": "stdout",
     "output_type": "stream",
     "text": [
      "Com\t0\n",
      "Abe\t0\n",
      "Ine\t64\n"
     ]
    },
    {
     "data": {
      "text/markdown": [
       "It seems clear to me that the manhunt for high Baath officials in the Sunni heartland is being done wrong , or at least in **ways** that are bad for US standing with local Iraqis ."
      ],
      "text/plain": [
       "<IPython.core.display.Markdown object>"
      ]
     },
     "metadata": {},
     "output_type": "display_data"
    },
    {
     "data": {
      "text/markdown": [
       "Amazingly , these idiots think a cartoon of Mohammed is comparable to what we can expect in this new fun **contest** :"
      ],
      "text/plain": [
       "<IPython.core.display.Markdown object>"
      ]
     },
     "metadata": {},
     "output_type": "display_data"
    },
    {
     "data": {
      "text/markdown": [
       "US Marines moved into most of Fallujah on Wednesday , though they were still meeting **pockets** of resistance ."
      ],
      "text/plain": [
       "<IPython.core.display.Markdown object>"
      ]
     },
     "metadata": {},
     "output_type": "display_data"
    },
    {
     "data": {
      "text/markdown": [
       "In Iraqi **society** , PM Allawi is responsible for protecting his clan , including especially his first cousins , so this kidnapping makes him look weak and brings substantial shame on him ."
      ],
      "text/plain": [
       "<IPython.core.display.Markdown object>"
      ]
     },
     "metadata": {},
     "output_type": "display_data"
    },
    {
     "data": {
      "text/markdown": [
       "The US Marines took most of Fallujah Wednesday , but still face **pockets** of resistance ."
      ],
      "text/plain": [
       "<IPython.core.display.Markdown object>"
      ]
     },
     "metadata": {},
     "output_type": "display_data"
    },
    {
     "data": {
      "text/markdown": [
       "The outbreak of demonstrations and violence throughout the Sunni Arab **regions** on Wednesday did not bode well for Sunni participation in the January elections ."
      ],
      "text/plain": [
       "<IPython.core.display.Markdown object>"
      ]
     },
     "metadata": {},
     "output_type": "display_data"
    },
    {
     "data": {
      "text/markdown": [
       "The outbreak of demonstrations and violence throughout the Sunni Arab regions on Wednesday did not bode well for Sunni participation in the January **elections** ."
      ],
      "text/plain": [
       "<IPython.core.display.Markdown object>"
      ]
     },
     "metadata": {},
     "output_type": "display_data"
    },
    {
     "data": {
      "text/markdown": [
       "The hottest item on Christmas wish **lists** this year is nuclear weapons ."
      ],
      "text/plain": [
       "<IPython.core.display.Markdown object>"
      ]
     },
     "metadata": {},
     "output_type": "display_data"
    },
    {
     "data": {
      "text/markdown": [
       "North Korea ’s Kim Jong Ill also has the bomb at the **top** of his list and Santa seems to have already come a few years ago ."
      ],
      "text/plain": [
       "<IPython.core.display.Markdown object>"
      ]
     },
     "metadata": {},
     "output_type": "display_data"
    },
    {
     "data": {
      "text/markdown": [
       "Arial photos of the lab were uranium is being enriched , somewhat like those of chemical weapons **stockpiles** in Iraq ."
      ],
      "text/plain": [
       "<IPython.core.display.Markdown object>"
      ]
     },
     "metadata": {},
     "output_type": "display_data"
    },
    {
     "name": "stdout",
     "output_type": "stream",
     "text": [
      "Ill\t12\n"
     ]
    },
    {
     "data": {
      "text/markdown": [
       "The sheikh in wheel - **chair** has been attacked with a F - 16 - launched bomb ."
      ],
      "text/plain": [
       "<IPython.core.display.Markdown object>"
      ]
     },
     "metadata": {},
     "output_type": "display_data"
    },
    {
     "data": {
      "text/markdown": [
       "The US lost yet another helicopter to hostile **fire** near Habbaniyah in the Sunni heartland , but this time the crew was safe ."
      ],
      "text/plain": [
       "<IPython.core.display.Markdown object>"
      ]
     },
     "metadata": {},
     "output_type": "display_data"
    },
    {
     "data": {
      "text/markdown": [
       "If the Israelis and the Palestinian leadership can not find a way to reinvigorate the peace process , cells of radical young Palestinians may grow up that look to bin Laden for their **cues** ."
      ],
      "text/plain": [
       "<IPython.core.display.Markdown object>"
      ]
     },
     "metadata": {},
     "output_type": "display_data"
    },
    {
     "data": {
      "text/markdown": [
       "I 'm inclined to say that google is doing what they can to both shape and support the growth of the most popular non-Microsoft browser out there - by taking on the leading lights in Firefox development , they 're ensuring the continued life of the project , and ensuring ( not that I think they need to ) that their voice will be heard admidst the higher **echelons** of the firefox development team ."
      ],
      "text/plain": [
       "<IPython.core.display.Markdown object>"
      ]
     },
     "metadata": {},
     "output_type": "display_data"
    },
    {
     "data": {
      "text/markdown": [
       "\" I have said and I repeat my expression of solidarity which Hassan Nasrallah called for to stand with Hamas , \" Shiite cleric Muqtada al - Sadr said Friday in a reference to Nasrallah , the leader of the militant Lebanese Shiite **group** Hezbollah ."
      ],
      "text/plain": [
       "<IPython.core.display.Markdown object>"
      ]
     },
     "metadata": {},
     "output_type": "display_data"
    },
    {
     "data": {
      "text/markdown": [
       "Right now , we are in the process of evaluating both our new hire **needs** and our summer needs and will be making those decisions after the first of the year ."
      ],
      "text/plain": [
       "<IPython.core.display.Markdown object>"
      ]
     },
     "metadata": {},
     "output_type": "display_data"
    },
    {
     "data": {
      "text/markdown": [
       "Right now , we are in the process of evaluating both our new hire needs and our summer **needs** and will be making those decisions after the first of the year ."
      ],
      "text/plain": [
       "<IPython.core.display.Markdown object>"
      ]
     },
     "metadata": {},
     "output_type": "display_data"
    },
    {
     "data": {
      "text/markdown": [
       "The end of the year is a time for compiling statistics - and according to the World Conservation Union ( IUCN ) , the year 2003 has been bad news for plants and non-human animals , with many species now closer to **extinction** than ever before ."
      ],
      "text/plain": [
       "<IPython.core.display.Markdown object>"
      ]
     },
     "metadata": {},
     "output_type": "display_data"
    },
    {
     "data": {
      "text/markdown": [
       "Although some may praise this as an opportunity for the private sector to finally serve the public good , NASA seems hesitant about turning over the reigns to the corporate **world** ."
      ],
      "text/plain": [
       "<IPython.core.display.Markdown object>"
      ]
     },
     "metadata": {},
     "output_type": "display_data"
    },
    {
     "data": {
      "text/markdown": [
       "It is , surprisingly , near the Blue Water Bridges , some miles to the **west** of this location ."
      ],
      "text/plain": [
       "<IPython.core.display.Markdown object>"
      ]
     },
     "metadata": {},
     "output_type": "display_data"
    },
    {
     "name": "stdout",
     "output_type": "stream",
     "text": [
      "Ela\t11\n"
     ]
    },
    {
     "data": {
      "text/markdown": [
       "\" Though we do not deny that **fact** that Jews were killed in the ( second world ) war , why should the Palestinians pay for it ? \""
      ],
      "text/plain": [
       "<IPython.core.display.Markdown object>"
      ]
     },
     "metadata": {},
     "output_type": "display_data"
    },
    {
     "data": {
      "text/markdown": [
       "North Korea ’s Kim Jong Ill also has the bomb at the top of his **list** and Santa seems to have already come a few years ago ."
      ],
      "text/plain": [
       "<IPython.core.display.Markdown object>"
      ]
     },
     "metadata": {},
     "output_type": "display_data"
    },
    {
     "data": {
      "text/markdown": [
       "Crap like this sure makes me want to rush right out and rescue people from dilemmas of their own **making** ."
      ],
      "text/plain": [
       "<IPython.core.display.Markdown object>"
      ]
     },
     "metadata": {},
     "output_type": "display_data"
    },
    {
     "data": {
      "text/markdown": [
       "In **fact** Peder and I were remarking on how agreeable they all are as the sucked on our balls last night ."
      ],
      "text/plain": [
       "<IPython.core.display.Markdown object>"
      ]
     },
     "metadata": {},
     "output_type": "display_data"
    },
    {
     "data": {
      "text/markdown": [
       "Further , she informed me that Section 7 of the agreement , which reads in part : Gas is free from liens and adverse claims of every **kind** , should be changed because the gas that the counterparty will be transporting on HPL may and / or is subject to liens ."
      ],
      "text/plain": [
       "<IPython.core.display.Markdown object>"
      ]
     },
     "metadata": {},
     "output_type": "display_data"
    },
    {
     "data": {
      "text/markdown": [
       "In **fact** you just do n't want to be involved in any arguments of any shape or form ..."
      ],
      "text/plain": [
       "<IPython.core.display.Markdown object>"
      ]
     },
     "metadata": {},
     "output_type": "display_data"
    },
    {
     "data": {
      "text/markdown": [
       "The way the **tax** law works , the tax basis for your share distribution will be based on the closing stock price the day preceding notification to the transfer agent ."
      ],
      "text/plain": [
       "<IPython.core.display.Markdown object>"
      ]
     },
     "metadata": {},
     "output_type": "display_data"
    },
    {
     "data": {
      "text/markdown": [
       "Therefore , public housing residents have been unable to secure the units for which they qualified prior to the storm and are left homeless , as a **result** ."
      ],
      "text/plain": [
       "<IPython.core.display.Markdown object>"
      ]
     },
     "metadata": {},
     "output_type": "display_data"
    },
    {
     "data": {
      "text/markdown": [
       "\" It 's not **cost** - effective doing station flights while at the same time focusing on getting back to the Moon , \" says Brett Alexander , vice-president of Transformational Space , one of the companies hoping to launch astronauts to the ISS ."
      ],
      "text/plain": [
       "<IPython.core.display.Markdown object>"
      ]
     },
     "metadata": {},
     "output_type": "display_data"
    },
    {
     "data": {
      "text/markdown": [
       "But seeing how the private sector has been able to successfully transport civilians to the ISS ( at about a fifth of the **cost** ) , it would come to no surprise if corporate America was able to out perform their bureaucratic friends in government ."
      ],
      "text/plain": [
       "<IPython.core.display.Markdown object>"
      ]
     },
     "metadata": {},
     "output_type": "display_data"
    },
    {
     "name": "stdout",
     "output_type": "stream",
     "text": [
      "Ade\t40\n"
     ]
    },
    {
     "data": {
      "text/markdown": [
       "President Bush on Tuesday nominated two individuals to replace retiring jurists on federal **courts** in the Washington area ."
      ],
      "text/plain": [
       "<IPython.core.display.Markdown object>"
      ]
     },
     "metadata": {},
     "output_type": "display_data"
    },
    {
     "data": {
      "text/markdown": [
       "In the eastern city of Baqubah , guerrillas detonated a car bomb outside a police **station** , killing several people ."
      ],
      "text/plain": [
       "<IPython.core.display.Markdown object>"
      ]
     },
     "metadata": {},
     "output_type": "display_data"
    },
    {
     "data": {
      "text/markdown": [
       "The US lost yet another helicopter to hostile fire near Habbaniyah in the Sunni **heartland** , but this time the crew was safe ."
      ],
      "text/plain": [
       "<IPython.core.display.Markdown object>"
      ]
     },
     "metadata": {},
     "output_type": "display_data"
    },
    {
     "data": {
      "text/markdown": [
       "The US lost yet another helicopter to hostile fire near Habbaniyah in the Sunni heartland , but this **time** the crew was safe ."
      ],
      "text/plain": [
       "<IPython.core.display.Markdown object>"
      ]
     },
     "metadata": {},
     "output_type": "display_data"
    },
    {
     "data": {
      "text/markdown": [
       "It seems clear to me that the manhunt for high Baath officials in the Sunni **heartland** is being done wrong , or at least in ways that are bad for US standing with local Iraqis ."
      ],
      "text/plain": [
       "<IPython.core.display.Markdown object>"
      ]
     },
     "metadata": {},
     "output_type": "display_data"
    },
    {
     "data": {
      "text/markdown": [
       "The continued Israeli colonization of the occupied Palestinian territories during the **1990s** helped , along with terrorist attacks by radical groups such as Hamas , to derail the peace process , which Sharon had always opposed ."
      ],
      "text/plain": [
       "<IPython.core.display.Markdown object>"
      ]
     },
     "metadata": {},
     "output_type": "display_data"
    },
    {
     "data": {
      "text/markdown": [
       "Armed clashes broke out in several northern Iraqi **cities** on Wednesday , leaving some 22 persons dead in Mosul , Baiji , and Tuz ."
      ],
      "text/plain": [
       "<IPython.core.display.Markdown object>"
      ]
     },
     "metadata": {},
     "output_type": "display_data"
    },
    {
     "data": {
      "text/markdown": [
       "He reports that the Iraqi Islamic Party , which had earlier been absolutely committed to getting out the Sunni **vote** , is now wavering and saying their position will depend on the situation ."
      ],
      "text/plain": [
       "<IPython.core.display.Markdown object>"
      ]
     },
     "metadata": {},
     "output_type": "display_data"
    },
    {
     "data": {
      "text/markdown": [
       "Though I am loathe to quote other writers at legnth in this **space** , this little bit from Dan Froomkin 's \" White House Briefing \" column in the WashPost today is just too good to pass up ( read the whole column here ) :"
      ],
      "text/plain": [
       "<IPython.core.display.Markdown object>"
      ]
     },
     "metadata": {},
     "output_type": "display_data"
    },
    {
     "data": {
      "text/markdown": [
       "There is a painting on my **wall** in the Oval -- first of all , I do n't know ."
      ],
      "text/plain": [
       "<IPython.core.display.Markdown object>"
      ]
     },
     "metadata": {},
     "output_type": "display_data"
    },
    {
     "name": "stdout",
     "output_type": "stream",
     "text": [
      "All\t9\n"
     ]
    },
    {
     "data": {
      "text/markdown": [
       "Ever since the first whispers about Google 's IPO , most investors have feared that the stock would come public at such a ridiculously high **price** that , even with a spectacularly profitable business model and some nearly flawless execution , the price would be too high for investors to make a real profit ."
      ],
      "text/plain": [
       "<IPython.core.display.Markdown object>"
      ]
     },
     "metadata": {},
     "output_type": "display_data"
    },
    {
     "data": {
      "text/markdown": [
       "It is my understanding , from good sources in the Gov s **office** that the Gov will order Loretta Lynch to expeditiously implement the provision to suspend all parties auhtority to enter into direct access contracts ."
      ],
      "text/plain": [
       "<IPython.core.display.Markdown object>"
      ]
     },
     "metadata": {},
     "output_type": "display_data"
    },
    {
     "data": {
      "text/markdown": [
       "Myself and Credit were calling in and none of the calls rolled into voice **mail** ( ? ) ."
      ],
      "text/plain": [
       "<IPython.core.display.Markdown object>"
      ]
     },
     "metadata": {},
     "output_type": "display_data"
    },
    {
     "data": {
      "text/markdown": [
       "The former Iraqi leader Saddam Hussein is refusing to enter the Baghdad **courtroom** , in protest at how his trial is being conducted ."
      ],
      "text/plain": [
       "<IPython.core.display.Markdown object>"
      ]
     },
     "metadata": {},
     "output_type": "display_data"
    },
    {
     "data": {
      "text/markdown": [
       "The former Iraqi leader Saddam Hussein is refusing to enter the Baghdad courtroom , in **protest** at how his trial is being conducted ."
      ],
      "text/plain": [
       "<IPython.core.display.Markdown object>"
      ]
     },
     "metadata": {},
     "output_type": "display_data"
    },
    {
     "data": {
      "text/markdown": [
       "I recently converted this test to an online test in order to norm it to a larger **population** and , subsequently , to make it available to any one who has access to a computer and the Internet ."
      ],
      "text/plain": [
       "<IPython.core.display.Markdown object>"
      ]
     },
     "metadata": {},
     "output_type": "display_data"
    },
    {
     "data": {
      "text/markdown": [
       "Compare to last decade this University is gaining more prestige in International **level**"
      ],
      "text/plain": [
       "<IPython.core.display.Markdown object>"
      ]
     },
     "metadata": {},
     "output_type": "display_data"
    },
    {
     "data": {
      "text/markdown": [
       "Clean rooms , great for the price and cheapest on the **exit** ."
      ],
      "text/plain": [
       "<IPython.core.display.Markdown object>"
      ]
     },
     "metadata": {},
     "output_type": "display_data"
    },
    {
     "data": {
      "text/markdown": [
       "Try the 360 restraunt u spin in the cn tower with a beautiful view the sky pod elevator is about an hour **line** up in the summer"
      ],
      "text/plain": [
       "<IPython.core.display.Markdown object>"
      ]
     },
     "metadata": {},
     "output_type": "display_data"
    },
    {
     "name": "stdout",
     "output_type": "stream",
     "text": [
      "Abl\t5\n"
     ]
    },
    {
     "data": {
      "text/markdown": [
       "It 's on loan , by the **way** , from a guy named Joe O'Neill in Midland , Texas ."
      ],
      "text/plain": [
       "<IPython.core.display.Markdown object>"
      ]
     },
     "metadata": {},
     "output_type": "display_data"
    },
    {
     "data": {
      "text/markdown": [
       "Raw data is on the fisrt tab of the file to the **right** ."
      ],
      "text/plain": [
       "<IPython.core.display.Markdown object>"
      ]
     },
     "metadata": {},
     "output_type": "display_data"
    },
    {
     "data": {
      "text/markdown": [
       "Normally this author is semi-objective ( what blogger is ) but on the Seattlepi.com ( see source link ) Palestinian Leader Mahmoud Abbas has demanded that Israel leave all the land that it occupies before the 1967 border ( which includes East Jerusalem by the **way** ) ."
      ],
      "text/plain": [
       "<IPython.core.display.Markdown object>"
      ]
     },
     "metadata": {},
     "output_type": "display_data"
    },
    {
     "data": {
      "text/markdown": [
       "\" We 're not happy with Hamas 's position at this **stage** and in light of the Israeli escalation against the Palestinians , \" commented Khader Habib , a senior Islamic Jihad official ."
      ],
      "text/plain": [
       "<IPython.core.display.Markdown object>"
      ]
     },
     "metadata": {},
     "output_type": "display_data"
    },
    {
     "data": {
      "text/markdown": [
       "Miramar California is a **bit** north of San Diego ."
      ],
      "text/plain": [
       "<IPython.core.display.Markdown object>"
      ]
     },
     "metadata": {},
     "output_type": "display_data"
    }
   ],
   "source": [
    "for idx, (case, num) in enumerate(zip(CASES, torch.bincount(en_best_labels.int()))):\n",
    "  print(f\"{case}\\t{num}\")\n",
    "  for (sentence, sent_idx, _) in en_extra[en_best_labels.numpy()==idx][:10]:\n",
    "      sent_idx = int(sent_idx)\n",
    "      words = sentence.split(' ')\n",
    "      words[sent_idx] = \"**\" + words[sent_idx] + \"**\"\n",
    "      printmd(\" \".join(words))"
   ]
  },
  {
   "cell_type": "code",
   "execution_count": 12,
   "metadata": {},
   "outputs": [
    {
     "name": "stdout",
     "output_type": "stream",
     "text": [
      "Acc\t0\n",
      "Gen\t1520\n",
      "Ins\t14\n",
      "Par\t1951\n",
      "Ess\t112\n",
      "Tra\t12\n",
      "Com\t6\n",
      "Abe\t1\n",
      "Ine\t164\n",
      "Ill\t117\n",
      "Ela\t31\n",
      "Ade\t205\n",
      "All\t46\n",
      "Abl\t16\n"
     ]
    }
   ],
   "source": [
    "en_non_nom_outputs = en_outputs[:, 1:]\n",
    "en_rev_best_labels = torch.argmax(en_non_nom_outputs, dim=1)\n",
    "  \n",
    "for case, num in zip(CASES[1:], torch.bincount(en_rev_best_labels.int())):\n",
    "  print(f\"{case}\\t{num}\")\n",
    "  \n",
    "  "
   ]
  },
  {
   "cell_type": "code",
   "execution_count": 13,
   "metadata": {},
   "outputs": [
    {
     "name": "stdout",
     "output_type": "stream",
     "text": [
      "Acc\t0\n",
      "[]\n",
      "Gen\t1520\n",
      "[['President Bush on Tuesday nominated two individuals to replace retiring jurists on federal courts in the Washington area .'\n",
      "  '6' 'individuals']\n",
      " ['The sheikh in wheel - chair has been attacked with a F - 16 - launched bomb .'\n",
      "  '1' 'sheikh']\n",
      " ['The sheikh in wheel - chair has been attacked with a F - 16 - launched bomb .'\n",
      "  '11' 'F']\n",
      " [\"Today 's incident proves that Sharon has lost his patience and his hope in peace .\"\n",
      "  '2' 'incident']\n",
      " [\"Today 's incident proves that Sharon has lost his patience and his hope in peace .\"\n",
      "  '9' 'patience']\n",
      " ['In the eastern city of Baqubah , guerrillas detonated a car bomb outside a police station , killing several people .'\n",
      "  '10' 'car']\n",
      " ['In the eastern city of Baqubah , guerrillas detonated a car bomb outside a police station , killing several people .'\n",
      "  '14' 'police']\n",
      " ['The US lost yet another helicopter to hostile fire near Habbaniyah in the Sunni heartland , but this time the crew was safe .'\n",
      "  '20' 'crew']\n",
      " ['( I hope that the US army got an enormous amount of information from her relatives , because otherwise this move was a bad , bad tradeoff ) .'\n",
      "  '6' 'army']\n",
      " ['( I hope that the US army got an enormous amount of information from her relatives , because otherwise this move was a bad , bad tradeoff ) .'\n",
      "  '26' 'tradeoff']]\n",
      "Ins\t14\n",
      "[['Though I am loathe to quote other writers at legnth in this space , this little bit from Dan Froomkin \\'s \" White House Briefing \" column in the WashPost today is just too good to pass up ( read the whole column here ) :'\n",
      "  '9' 'legnth']\n",
      " ['I meant to comment that I thought the people profiled in the article should pull their heads out of their self important asses .'\n",
      "  '20' 'self']\n",
      " ['You wear your heart on your sleeve ... and since you are an emotional person you are apt to give your all ... heart and soul ... to all those that show you a little affection ... but take care ... it would appear that you have been extremely hurt in the past ... and you keep leaving yourself wide open for punishment ..'\n",
      "  '23' 'heart']\n",
      " ['The way the tax law works , the tax basis for your share distribution will be based on the closing stock price the day preceding notification to the transfer agent .'\n",
      "  '1' 'way']\n",
      " [\"I took a tip from Carri and looked up Rat ASCII's on Google .\" '9'\n",
      "  'Rat']\n",
      " [\"Oil companies evacuated offshore facilities as the storm 's progress kept global markets on tenterhooks .\"\n",
      "  '9' 'progress']\n",
      " [\"I like Hayes Street Grill .... another plus , it 's right by Civic Center , so you can take a romantic walk around the Opera House , City Hall , Symphony Auditorium ... all very beautiful .\"\n",
      "  '7' 'plus']\n",
      " ['I am doing a project and need to know what kind food Argentina people eat for breakfast , lunch , and dinner .'\n",
      "  '10' 'kind']\n",
      " ['Boy trouble ?????????????????????????????????????????????????????????'\n",
      "  '0' 'Boy']\n",
      " ['1 ) what islad of Fiji is a good island that is not TOO far from the main airpart in Fiji .'\n",
      "  '3' 'islad']]\n",
      "Par\t1951\n",
      "[['From the AP comes this story :' '5' 'story']\n",
      " ['President Bush on Tuesday nominated two individuals to replace retiring jurists on federal courts in the Washington area .'\n",
      "  '10' 'jurists']\n",
      " ['Bush nominated Jennifer M. Anderson for a 15 - year term as associate judge of the Superior Court of the District of Columbia , replacing Steffen W. Graae .'\n",
      "  '9' 'year']\n",
      " ['Bush nominated Jennifer M. Anderson for a 15 - year term as associate judge of the Superior Court of the District of Columbia , replacing Steffen W. Graae .'\n",
      "  '10' 'term']\n",
      " ['Bush nominated Jennifer M. Anderson for a 15 - year term as associate judge of the Superior Court of the District of Columbia , replacing Steffen W. Graae .'\n",
      "  '13' 'judge']\n",
      " ['Bush also nominated A. Noel Anketell Kramer for a 15 - year term as associate judge of the District of Columbia Court of Appeals , replacing John Montague Steadman .'\n",
      "  '11' 'year']\n",
      " ['Bush also nominated A. Noel Anketell Kramer for a 15 - year term as associate judge of the District of Columbia Court of Appeals , replacing John Montague Steadman .'\n",
      "  '12' 'term']\n",
      " ['Bush also nominated A. Noel Anketell Kramer for a 15 - year term as associate judge of the District of Columbia Court of Appeals , replacing John Montague Steadman .'\n",
      "  '15' 'judge']\n",
      " ['The sheikh in wheel - chair has been attacked with a F - 16 - launched bomb .'\n",
      "  '16' 'bomb']\n",
      " [\"He could be killed years ago and the israelians have all the reasons , since he founded and he is the spiritual leader of Hamas , but they did n't .\"\n",
      "  '4' 'years']]\n",
      "Ess\t112\n",
      "[[\"Google has finally had an analyst day -- a chance to present the company 's story to the ( miniscule number of ) people who have n't heard it .\"\n",
      "  '6' 'day']\n",
      " [\"Usually , these are just a chance for the suckups to suck up , but this time people are actually concerned about the company 's plans .\"\n",
      "  '16' 'time']\n",
      " [\"It 's not quite as freewheeling an environment as you 'd imagine : Sergey Brin has actually created a mathematical ' proof ' that the company 's self - driven research strategy , which gives employees one day a week to do research projects on their own , is a good , respectable idea .\"\n",
      "  '37' 'day']\n",
      " [\"Xinhua reports that a wide range of Iraqi political forces on Tuesday condemned Sharon 's murder of Sheikh Ahmed Yassin , a religious leader of Hamas , the day before .\"\n",
      "  '28' 'day']\n",
      " ['When their precious cartoons are released I highly doubt it will look like the end of the world .'\n",
      "  '14' 'end']\n",
      " ['The hottest item on Christmas wish lists this year is nuclear weapons .'\n",
      "  '8' 'year']\n",
      " ['For the last few years there have been tensions with Iran ’s nuclear program with word coming this week that a deal was reached through the European Union that meets with the approval of the International Atomic Energy Agency .'\n",
      "  '18' 'week']\n",
      " ['At the same time , an Iranian Opposition Group released what they call proof of a covert nuclear weapons program .'\n",
      "  '3' 'time']\n",
      " ['The US has strongly opposed a nuclear weapons program of Iran , yet Israel , which to this day has never officially said that they posses nuclear weapons , ranks around fifth in nuclear strength .'\n",
      "  '18' 'day']\n",
      " ['This is unlike the situation last year in Asia when we evacuated U.S. citizens from areas that were hit by the tsunami - a phenomenon that is much less predictable than the Hezbollah - provoked destruction that rained down on Lebanon .'\n",
      "  '6' 'year']]\n",
      "Tra\t12\n",
      "[['Fascinating viewpoint of the future in Epic .' '4' 'future']\n",
      " ['As discussed , attached is a GISB draft for Pioneer .' '7' 'draft']\n",
      " ['Amount of Benefit Payments reads \" The value of the shares , and resulting payment amount will be based on the closing price of Enron Corp. common stock on the January 1 before the date of payment , and such payment shall be made in shares of Enron Corp. common stock . \"'\n",
      "  '40' 'payment']\n",
      " ['This is a major breakthrough in the animal intelligence field and a must see / hear for every animal intelligence enthusiast .'\n",
      "  '4' 'breakthrough']\n",
      " [\"While there have been spasms of speculation about the Bush administration naming a replacement for O'Keefe , no nominee has been declared .\"\n",
      "  '13' 'replacement']\n",
      " ['I recently converted this test to an online test in order to norm it to a larger population and , subsequently , to make it available to any one who has access to a computer and the Internet .'\n",
      "  '10' 'order']\n",
      " ['In exchange for sucking vast amounts of water out of the local land , the mighty corporation promised to bring the people great wealth .'\n",
      "  '1' 'exchange']\n",
      " ['In London , the price of Brent North Sea crude for November delivery advanced 53 cents to 64.73 dollars .'\n",
      "  '18' 'dollars']\n",
      " ['It was incorporated as a city on May 26 , 1955 .' '5' 'city']\n",
      " [\"Good day , I 'm a foreigner living in malaysia , german citizen , 21 years of age , I was wondering if air asia recruits foreigners ?\"\n",
      "  '17' 'age']]\n",
      "Com\t6\n",
      "[['Our web address is http://www.accenture.com' '2' 'address']\n",
      " ['Traci Warner Enron Broadband Services , Inc. Phone ( 713 ) 853-3242 Cell ( 713 ) 705-7201'\n",
      "  '7' 'Phone']\n",
      " ['Vangie McGilloway Constellation Power Source , Inc. ( \" CPS \" ) 111 Market Place Ste 500 Baltimore , MD 21202 Phone 410-468-3798 Fax 410-468-3499 Email vangie.mcgilloway@powersrc.com'\n",
      "  '21' 'Phone']\n",
      " ['Cheap air tickets for Corporate' '4' 'Corporate']\n",
      " ['Price : 3,40 Euros , 5 Euros or 7,5 Euros ( 1 ) for a 72 heures lenght .'\n",
      "  '17' 'lenght']\n",
      " ['great garage and customer service .' '1' 'garage']]\n",
      "Abe\t1\n",
      "[['One answer is that the Pentagon prevented the State Department from running the CPA .'\n",
      "  '1' 'answer']]\n",
      "Ine\t164\n",
      "[['It seems clear to me that the manhunt for high Baath officials in the Sunni heartland is being done wrong , or at least in ways that are bad for US standing with local Iraqis .'\n",
      "  '25' 'ways']\n",
      " ['It seems clear to me that the manhunt for high Baath officials in the Sunni heartland is being done wrong , or at least in ways that are bad for US standing with local Iraqis .'\n",
      "  '31' 'standing']\n",
      " ['\" Arafat \\'s secular nationalism was supple enough to compromise with Israel and to imagine a two - state solution , even if the road of negotiations remained rocky .'\n",
      "  '26' 'negotiations']\n",
      " [\"Ever since the first whispers about Google 's IPO , most investors have feared that the stock would come public at such a ridiculously high price that , even with a spectacularly profitable business model and some nearly flawless execution , the price would be too high for investors to make a real profit .\"\n",
      "  '4' 'whispers']\n",
      " [\"Ever since the first whispers about Google 's IPO , most investors have feared that the stock would come public at such a ridiculously high price that , even with a spectacularly profitable business model and some nearly flawless execution , the price would be too high for investors to make a real profit .\"\n",
      "  '34' 'model']\n",
      " [\"As the survey cited in the above - linked article shows , most Google users do n't intend to use Gmail , and Google is n't even as popular as Yahoo! and AOL .\"\n",
      "  '2' 'survey']\n",
      " ['Amazingly , these idiots think a cartoon of Mohammed is comparable to what we can expect in this new fun contest :'\n",
      "  '20' 'contest']\n",
      " ['US Marines moved into most of Fallujah on Wednesday , though they were still meeting pockets of resistance .'\n",
      "  '15' 'pockets']\n",
      " ['In Iraqi society , PM Allawi is responsible for protecting his clan , including especially his first cousins , so this kidnapping makes him look weak and brings substantial shame on him .'\n",
      "  '2' 'society']\n",
      " ['The US Marines took most of Fallujah Wednesday , but still face pockets of resistance .'\n",
      "  '12' 'pockets']]\n",
      "Ill\t117\n",
      "[['The sheikh in wheel - chair has been attacked with a F - 16 - launched bomb .'\n",
      "  '5' 'chair']\n",
      " ['In the eastern city of Baqubah , guerrillas detonated a car bomb outside a police station , killing several people .'\n",
      "  '11' 'bomb']\n",
      " ['The US lost yet another helicopter to hostile fire near Habbaniyah in the Sunni heartland , but this time the crew was safe .'\n",
      "  '8' 'fire']\n",
      " ['If the Israelis and the Palestinian leadership can not find a way to reinvigorate the peace process , cells of radical young Palestinians may grow up that look to bin Laden for their cues .'\n",
      "  '16' 'process']\n",
      " ['If the Israelis and the Palestinian leadership can not find a way to reinvigorate the peace process , cells of radical young Palestinians may grow up that look to bin Laden for their cues .'\n",
      "  '33' 'cues']\n",
      " [\"Xinhua reports that a wide range of Iraqi political forces on Tuesday condemned Sharon 's murder of Sheikh Ahmed Yassin , a religious leader of Hamas , the day before .\"\n",
      "  '9' 'forces']\n",
      " ['This operation would only consolidate the terrorist acts in the world and would not bring peace to the region , \" the message claimed .'\n",
      "  '10' 'world']\n",
      " ['In an apparently unrelated incidents , some eleven Iraqis were killed by snipers on Tuesday , including a group of police trainees in a bus near Hilla and two police in Kirkuk .'\n",
      "  '24' 'bus']\n",
      " [\"Ever since the first whispers about Google 's IPO , most investors have feared that the stock would come public at such a ridiculously high price that , even with a spectacularly profitable business model and some nearly flawless execution , the price would be too high for investors to make a real profit .\"\n",
      "  '53' 'profit']\n",
      " ['If they continue to add features so they can justify their likely sky - high valuation , Google risks losing a huge chunk of their customer base to the next keep - it - simple search engine .'\n",
      "  '36' 'engine']]\n",
      "Ela\t31\n",
      "[['\" Though we do not deny that fact that Jews were killed in the ( second world ) war , why should the Palestinians pay for it ? \"'\n",
      "  '7' 'fact']\n",
      " ['North Korea ’s Kim Jong Ill also has the bomb at the top of his list and Santa seems to have already come a few years ago .'\n",
      "  '15' 'list']\n",
      " ['Crap like this sure makes me want to rush right out and rescue people from dilemmas of their own making .'\n",
      "  '19' 'making']\n",
      " ['In fact Peder and I were remarking on how agreeable they all are as the sucked on our balls last night .'\n",
      "  '1' 'fact']\n",
      " ['It is my understanding , from good sources in the Gov s office that the Gov will order Loretta Lynch to expeditiously implement the provision to suspend all parties auhtority to enter into direct access contracts .'\n",
      "  '7' 'sources']\n",
      " ['Today is my last day in the office here at Azurix , and in the coming months , I will start in a new position as SVP in the LNG development group at El Paso Energy .'\n",
      "  '0' 'Today']\n",
      " ['\" The information transmitted is intended only for the person or entity to which it is addressed and may contain confidential and / or privileged material .'\n",
      "  '2' 'information']\n",
      " ['Also , we have attached a pdf black - line of the Guarantee vs the form of guarantee in the Turbine Contract .'\n",
      "  '7' 'black']\n",
      " ['Further , she informed me that Section 7 of the agreement , which reads in part : Gas is free from liens and adverse claims of every kind , should be changed because the gas that the counterparty will be transporting on HPL may and / or is subject to liens .'\n",
      "  '27' 'kind']\n",
      " ['This transmittal and / or attachments may be a confidential attorney - client communication or may otherwise be privileged or confidential .'\n",
      "  '5' 'attachments']]\n",
      "Ade\t205\n",
      "[['President Bush on Tuesday nominated two individuals to replace retiring jurists on federal courts in the Washington area .'\n",
      "  '13' 'courts']\n",
      " ['The sheikh in wheel - chair has been attacked with a F - 16 - launched bomb .'\n",
      "  '3' 'wheel']\n",
      " ['In the eastern city of Baqubah , guerrillas detonated a car bomb outside a police station , killing several people .'\n",
      "  '15' 'station']\n",
      " ['The US lost yet another helicopter to hostile fire near Habbaniyah in the Sunni heartland , but this time the crew was safe .'\n",
      "  '14' 'heartland']\n",
      " ['The US lost yet another helicopter to hostile fire near Habbaniyah in the Sunni heartland , but this time the crew was safe .'\n",
      "  '18' 'time']\n",
      " ['It seems clear to me that the manhunt for high Baath officials in the Sunni heartland is being done wrong , or at least in ways that are bad for US standing with local Iraqis .'\n",
      "  '15' 'heartland']\n",
      " ['The continued Israeli colonization of the occupied Palestinian territories during the 1990s helped , along with terrorist attacks by radical groups such as Hamas , to derail the peace process , which Sharon had always opposed .'\n",
      "  '11' '1990s']\n",
      " [\"Ever since the first whispers about Google 's IPO , most investors have feared that the stock would come public at such a ridiculously high price that , even with a spectacularly profitable business model and some nearly flawless execution , the price would be too high for investors to make a real profit .\"\n",
      "  '11' 'investors']\n",
      " [\"Ever since the first whispers about Google 's IPO , most investors have feared that the stock would come public at such a ridiculously high price that , even with a spectacularly profitable business model and some nearly flawless execution , the price would be too high for investors to make a real profit .\"\n",
      "  '42' 'price']\n",
      " [\"It 's tough to make money branching out when your appeal is in your focus .\"\n",
      "  '14' 'focus']]\n",
      "All\t46\n",
      "[['President Bush on Tuesday nominated two individuals to replace retiring jurists on federal courts in the Washington area .'\n",
      "  '17' 'area']\n",
      " [\"Ever since the first whispers about Google 's IPO , most investors have feared that the stock would come public at such a ridiculously high price that , even with a spectacularly profitable business model and some nearly flawless execution , the price would be too high for investors to make a real profit .\"\n",
      "  '25' 'price']\n",
      " ['\" We were on the road and the first bridge was bombed and we drove home and all the other bridges were bombed and there was absolutely no way for us to get home , \" Chahine told reporters outside federal court in Detroit .'\n",
      "  '41' 'court']\n",
      " ['They actively excluded State Department Iraq hands like Tom Warrick .'\n",
      "  '6' 'hands']\n",
      " ['It is my understanding , from good sources in the Gov s office that the Gov will order Loretta Lynch to expeditiously implement the provision to suspend all parties auhtority to enter into direct access contracts .'\n",
      "  '12' 'office']\n",
      " ['Today is my last day in the office here at Azurix , and in the coming months , I will start in a new position as SVP in the LNG development group at El Paso Energy .'\n",
      "  '7' 'office']\n",
      " [\"We will meeting Rod 's office EB 4054\" '5' 'office']\n",
      " ['However , he also mentioned we were a close sixth , that is close to the fifth highest bid .'\n",
      "  '18' 'bid']\n",
      " ['He gave no indication on the value of the highest bid .' '10' 'bid']\n",
      " ['The request was for a Intrastate Gas Transportation Agreement and 311 Gas Transportation Agreement .'\n",
      "  '8' 'Agreement']]\n",
      "Abl\t16\n",
      "[[\"It 's on loan , by the way , from a guy named Joe O'Neill in Midland , Texas .\"\n",
      "  '7' 'way']\n",
      " ['John Staikos Direct Dial :? 203.961.7523 Direct Fax :? 203.674.7723 E-mail :? johnstaikos@paulhastings.com'\n",
      "  '3' 'Dial']\n",
      " ['John Staikos Direct Dial :? 203.961.7523 Direct Fax :? 203.674.7723 E-mail :? johnstaikos@paulhastings.com'\n",
      "  '7' 'Fax']\n",
      " ['Raw data is on the fisrt tab of the file to the right .' '12' 'right']\n",
      " ['In addition , I received feedback from our Gas Desk that the access to the Gas segment of Enron On - Line was cut off to CPS --- do you know who would handle this at Enron that we can speak to ?'\n",
      "  '16' 'segment']\n",
      " ['Vangie McGilloway Constellation Power Source , Inc. ( \" CPS \" ) 111 Market Place Ste 500 Baltimore , MD 21202 Phone 410-468-3798 Fax 410-468-3499 Email vangie.mcgilloway@powersrc.com'\n",
      "  '15' 'Ste']\n",
      " ['Sungjoo Lee Stochastic Processes and Simulation in Finance Georgia Institute of Technology School of Industrial and Systems Engineering E-mail address : goldconn@isye.gatech.edu gte114t@prism.gatech.edu Home : 404-449-1026 Office : Coming Soon !'\n",
      "  '19' 'address']\n",
      " ['I am expecting to pay something in the $ 3, to $ 5,000 range .' '13'\n",
      "  'range']\n",
      " ['In Indian national chart besides the transit affliction to transit Mercury by Rahu and Venus the natal Saturn and Venus are also under the transit affliction of Rahu which has resulted into floods in many parts of the country taking toll of human lives , properties , etc .'\n",
      "  '40' 'toll']\n",
      " ['Normally this author is semi-objective ( what blogger is ) but on the Seattlepi.com ( see source link ) Palestinian Leader Mahmoud Abbas has demanded that Israel leave all the land that it occupies before the 1967 border ( which includes East Jerusalem by the way ) .'\n",
      "  '45' 'way']]\n"
     ]
    }
   ],
   "source": [
    "for idx, (case, num) in enumerate(zip(CASES[1:], torch.bincount(en_rev_best_labels.int()))):\n",
    "  print(f\"{case}\\t{num}\")\n",
    "  print(en_extra[en_rev_best_labels.numpy()==idx][:10])"
   ]
  },
  {
   "cell_type": "code",
   "execution_count": 14,
   "metadata": {},
   "outputs": [
    {
     "name": "stdout",
     "output_type": "stream",
     "text": [
      "Acc\t0\n",
      "Gen\t1520\n"
     ]
    },
    {
     "data": {
      "text/markdown": [
       "President Bush on Tuesday nominated two **individuals** to replace retiring jurists on federal courts in the Washington area ."
      ],
      "text/plain": [
       "<IPython.core.display.Markdown object>"
      ]
     },
     "metadata": {},
     "output_type": "display_data"
    },
    {
     "data": {
      "text/markdown": [
       "The **sheikh** in wheel - chair has been attacked with a F - 16 - launched bomb ."
      ],
      "text/plain": [
       "<IPython.core.display.Markdown object>"
      ]
     },
     "metadata": {},
     "output_type": "display_data"
    },
    {
     "data": {
      "text/markdown": [
       "The sheikh in wheel - chair has been attacked with a **F** - 16 - launched bomb ."
      ],
      "text/plain": [
       "<IPython.core.display.Markdown object>"
      ]
     },
     "metadata": {},
     "output_type": "display_data"
    },
    {
     "data": {
      "text/markdown": [
       "Today 's **incident** proves that Sharon has lost his patience and his hope in peace ."
      ],
      "text/plain": [
       "<IPython.core.display.Markdown object>"
      ]
     },
     "metadata": {},
     "output_type": "display_data"
    },
    {
     "data": {
      "text/markdown": [
       "Today 's incident proves that Sharon has lost his **patience** and his hope in peace ."
      ],
      "text/plain": [
       "<IPython.core.display.Markdown object>"
      ]
     },
     "metadata": {},
     "output_type": "display_data"
    },
    {
     "data": {
      "text/markdown": [
       "In the eastern city of Baqubah , guerrillas detonated a **car** bomb outside a police station , killing several people ."
      ],
      "text/plain": [
       "<IPython.core.display.Markdown object>"
      ]
     },
     "metadata": {},
     "output_type": "display_data"
    },
    {
     "data": {
      "text/markdown": [
       "In the eastern city of Baqubah , guerrillas detonated a car bomb outside a **police** station , killing several people ."
      ],
      "text/plain": [
       "<IPython.core.display.Markdown object>"
      ]
     },
     "metadata": {},
     "output_type": "display_data"
    },
    {
     "data": {
      "text/markdown": [
       "The US lost yet another helicopter to hostile fire near Habbaniyah in the Sunni heartland , but this time the **crew** was safe ."
      ],
      "text/plain": [
       "<IPython.core.display.Markdown object>"
      ]
     },
     "metadata": {},
     "output_type": "display_data"
    },
    {
     "data": {
      "text/markdown": [
       "( I hope that the US **army** got an enormous amount of information from her relatives , because otherwise this move was a bad , bad tradeoff ) ."
      ],
      "text/plain": [
       "<IPython.core.display.Markdown object>"
      ]
     },
     "metadata": {},
     "output_type": "display_data"
    },
    {
     "data": {
      "text/markdown": [
       "( I hope that the US army got an enormous amount of information from her relatives , because otherwise this move was a bad , bad **tradeoff** ) ."
      ],
      "text/plain": [
       "<IPython.core.display.Markdown object>"
      ]
     },
     "metadata": {},
     "output_type": "display_data"
    },
    {
     "name": "stdout",
     "output_type": "stream",
     "text": [
      "Ins\t14\n"
     ]
    },
    {
     "data": {
      "text/markdown": [
       "Though I am loathe to quote other writers at **legnth** in this space , this little bit from Dan Froomkin 's \" White House Briefing \" column in the WashPost today is just too good to pass up ( read the whole column here ) :"
      ],
      "text/plain": [
       "<IPython.core.display.Markdown object>"
      ]
     },
     "metadata": {},
     "output_type": "display_data"
    },
    {
     "data": {
      "text/markdown": [
       "I meant to comment that I thought the people profiled in the article should pull their heads out of their **self** important asses ."
      ],
      "text/plain": [
       "<IPython.core.display.Markdown object>"
      ]
     },
     "metadata": {},
     "output_type": "display_data"
    },
    {
     "data": {
      "text/markdown": [
       "You wear your heart on your sleeve ... and since you are an emotional person you are apt to give your all ... **heart** and soul ... to all those that show you a little affection ... but take care ... it would appear that you have been extremely hurt in the past ... and you keep leaving yourself wide open for punishment .."
      ],
      "text/plain": [
       "<IPython.core.display.Markdown object>"
      ]
     },
     "metadata": {},
     "output_type": "display_data"
    },
    {
     "data": {
      "text/markdown": [
       "The **way** the tax law works , the tax basis for your share distribution will be based on the closing stock price the day preceding notification to the transfer agent ."
      ],
      "text/plain": [
       "<IPython.core.display.Markdown object>"
      ]
     },
     "metadata": {},
     "output_type": "display_data"
    },
    {
     "data": {
      "text/markdown": [
       "I took a tip from Carri and looked up **Rat** ASCII's on Google ."
      ],
      "text/plain": [
       "<IPython.core.display.Markdown object>"
      ]
     },
     "metadata": {},
     "output_type": "display_data"
    },
    {
     "data": {
      "text/markdown": [
       "Oil companies evacuated offshore facilities as the storm 's **progress** kept global markets on tenterhooks ."
      ],
      "text/plain": [
       "<IPython.core.display.Markdown object>"
      ]
     },
     "metadata": {},
     "output_type": "display_data"
    },
    {
     "data": {
      "text/markdown": [
       "I like Hayes Street Grill .... another **plus** , it 's right by Civic Center , so you can take a romantic walk around the Opera House , City Hall , Symphony Auditorium ... all very beautiful ."
      ],
      "text/plain": [
       "<IPython.core.display.Markdown object>"
      ]
     },
     "metadata": {},
     "output_type": "display_data"
    },
    {
     "data": {
      "text/markdown": [
       "I am doing a project and need to know what **kind** food Argentina people eat for breakfast , lunch , and dinner ."
      ],
      "text/plain": [
       "<IPython.core.display.Markdown object>"
      ]
     },
     "metadata": {},
     "output_type": "display_data"
    },
    {
     "data": {
      "text/markdown": [
       "**Boy** trouble ?????????????????????????????????????????????????????????"
      ],
      "text/plain": [
       "<IPython.core.display.Markdown object>"
      ]
     },
     "metadata": {},
     "output_type": "display_data"
    },
    {
     "data": {
      "text/markdown": [
       "1 ) what **islad** of Fiji is a good island that is not TOO far from the main airpart in Fiji ."
      ],
      "text/plain": [
       "<IPython.core.display.Markdown object>"
      ]
     },
     "metadata": {},
     "output_type": "display_data"
    },
    {
     "name": "stdout",
     "output_type": "stream",
     "text": [
      "Par\t1951\n"
     ]
    },
    {
     "data": {
      "text/markdown": [
       "From the AP comes this **story** :"
      ],
      "text/plain": [
       "<IPython.core.display.Markdown object>"
      ]
     },
     "metadata": {},
     "output_type": "display_data"
    },
    {
     "data": {
      "text/markdown": [
       "President Bush on Tuesday nominated two individuals to replace retiring **jurists** on federal courts in the Washington area ."
      ],
      "text/plain": [
       "<IPython.core.display.Markdown object>"
      ]
     },
     "metadata": {},
     "output_type": "display_data"
    },
    {
     "data": {
      "text/markdown": [
       "Bush nominated Jennifer M. Anderson for a 15 - **year** term as associate judge of the Superior Court of the District of Columbia , replacing Steffen W. Graae ."
      ],
      "text/plain": [
       "<IPython.core.display.Markdown object>"
      ]
     },
     "metadata": {},
     "output_type": "display_data"
    },
    {
     "data": {
      "text/markdown": [
       "Bush nominated Jennifer M. Anderson for a 15 - year **term** as associate judge of the Superior Court of the District of Columbia , replacing Steffen W. Graae ."
      ],
      "text/plain": [
       "<IPython.core.display.Markdown object>"
      ]
     },
     "metadata": {},
     "output_type": "display_data"
    },
    {
     "data": {
      "text/markdown": [
       "Bush nominated Jennifer M. Anderson for a 15 - year term as associate **judge** of the Superior Court of the District of Columbia , replacing Steffen W. Graae ."
      ],
      "text/plain": [
       "<IPython.core.display.Markdown object>"
      ]
     },
     "metadata": {},
     "output_type": "display_data"
    },
    {
     "data": {
      "text/markdown": [
       "Bush also nominated A. Noel Anketell Kramer for a 15 - **year** term as associate judge of the District of Columbia Court of Appeals , replacing John Montague Steadman ."
      ],
      "text/plain": [
       "<IPython.core.display.Markdown object>"
      ]
     },
     "metadata": {},
     "output_type": "display_data"
    },
    {
     "data": {
      "text/markdown": [
       "Bush also nominated A. Noel Anketell Kramer for a 15 - year **term** as associate judge of the District of Columbia Court of Appeals , replacing John Montague Steadman ."
      ],
      "text/plain": [
       "<IPython.core.display.Markdown object>"
      ]
     },
     "metadata": {},
     "output_type": "display_data"
    },
    {
     "data": {
      "text/markdown": [
       "Bush also nominated A. Noel Anketell Kramer for a 15 - year term as associate **judge** of the District of Columbia Court of Appeals , replacing John Montague Steadman ."
      ],
      "text/plain": [
       "<IPython.core.display.Markdown object>"
      ]
     },
     "metadata": {},
     "output_type": "display_data"
    },
    {
     "data": {
      "text/markdown": [
       "The sheikh in wheel - chair has been attacked with a F - 16 - launched **bomb** ."
      ],
      "text/plain": [
       "<IPython.core.display.Markdown object>"
      ]
     },
     "metadata": {},
     "output_type": "display_data"
    },
    {
     "data": {
      "text/markdown": [
       "He could be killed **years** ago and the israelians have all the reasons , since he founded and he is the spiritual leader of Hamas , but they did n't ."
      ],
      "text/plain": [
       "<IPython.core.display.Markdown object>"
      ]
     },
     "metadata": {},
     "output_type": "display_data"
    },
    {
     "name": "stdout",
     "output_type": "stream",
     "text": [
      "Ess\t112\n"
     ]
    },
    {
     "data": {
      "text/markdown": [
       "Google has finally had an analyst **day** -- a chance to present the company 's story to the ( miniscule number of ) people who have n't heard it ."
      ],
      "text/plain": [
       "<IPython.core.display.Markdown object>"
      ]
     },
     "metadata": {},
     "output_type": "display_data"
    },
    {
     "data": {
      "text/markdown": [
       "Usually , these are just a chance for the suckups to suck up , but this **time** people are actually concerned about the company 's plans ."
      ],
      "text/plain": [
       "<IPython.core.display.Markdown object>"
      ]
     },
     "metadata": {},
     "output_type": "display_data"
    },
    {
     "data": {
      "text/markdown": [
       "It 's not quite as freewheeling an environment as you 'd imagine : Sergey Brin has actually created a mathematical ' proof ' that the company 's self - driven research strategy , which gives employees one **day** a week to do research projects on their own , is a good , respectable idea ."
      ],
      "text/plain": [
       "<IPython.core.display.Markdown object>"
      ]
     },
     "metadata": {},
     "output_type": "display_data"
    },
    {
     "data": {
      "text/markdown": [
       "Xinhua reports that a wide range of Iraqi political forces on Tuesday condemned Sharon 's murder of Sheikh Ahmed Yassin , a religious leader of Hamas , the **day** before ."
      ],
      "text/plain": [
       "<IPython.core.display.Markdown object>"
      ]
     },
     "metadata": {},
     "output_type": "display_data"
    },
    {
     "data": {
      "text/markdown": [
       "When their precious cartoons are released I highly doubt it will look like the **end** of the world ."
      ],
      "text/plain": [
       "<IPython.core.display.Markdown object>"
      ]
     },
     "metadata": {},
     "output_type": "display_data"
    },
    {
     "data": {
      "text/markdown": [
       "The hottest item on Christmas wish lists this **year** is nuclear weapons ."
      ],
      "text/plain": [
       "<IPython.core.display.Markdown object>"
      ]
     },
     "metadata": {},
     "output_type": "display_data"
    },
    {
     "data": {
      "text/markdown": [
       "For the last few years there have been tensions with Iran ’s nuclear program with word coming this **week** that a deal was reached through the European Union that meets with the approval of the International Atomic Energy Agency ."
      ],
      "text/plain": [
       "<IPython.core.display.Markdown object>"
      ]
     },
     "metadata": {},
     "output_type": "display_data"
    },
    {
     "data": {
      "text/markdown": [
       "At the same **time** , an Iranian Opposition Group released what they call proof of a covert nuclear weapons program ."
      ],
      "text/plain": [
       "<IPython.core.display.Markdown object>"
      ]
     },
     "metadata": {},
     "output_type": "display_data"
    },
    {
     "data": {
      "text/markdown": [
       "The US has strongly opposed a nuclear weapons program of Iran , yet Israel , which to this **day** has never officially said that they posses nuclear weapons , ranks around fifth in nuclear strength ."
      ],
      "text/plain": [
       "<IPython.core.display.Markdown object>"
      ]
     },
     "metadata": {},
     "output_type": "display_data"
    },
    {
     "data": {
      "text/markdown": [
       "This is unlike the situation last **year** in Asia when we evacuated U.S. citizens from areas that were hit by the tsunami - a phenomenon that is much less predictable than the Hezbollah - provoked destruction that rained down on Lebanon ."
      ],
      "text/plain": [
       "<IPython.core.display.Markdown object>"
      ]
     },
     "metadata": {},
     "output_type": "display_data"
    },
    {
     "name": "stdout",
     "output_type": "stream",
     "text": [
      "Tra\t12\n"
     ]
    },
    {
     "data": {
      "text/markdown": [
       "Fascinating viewpoint of the **future** in Epic ."
      ],
      "text/plain": [
       "<IPython.core.display.Markdown object>"
      ]
     },
     "metadata": {},
     "output_type": "display_data"
    },
    {
     "data": {
      "text/markdown": [
       "As discussed , attached is a GISB **draft** for Pioneer ."
      ],
      "text/plain": [
       "<IPython.core.display.Markdown object>"
      ]
     },
     "metadata": {},
     "output_type": "display_data"
    },
    {
     "data": {
      "text/markdown": [
       "Amount of Benefit Payments reads \" The value of the shares , and resulting payment amount will be based on the closing price of Enron Corp. common stock on the January 1 before the date of payment , and such **payment** shall be made in shares of Enron Corp. common stock . \""
      ],
      "text/plain": [
       "<IPython.core.display.Markdown object>"
      ]
     },
     "metadata": {},
     "output_type": "display_data"
    },
    {
     "data": {
      "text/markdown": [
       "This is a major **breakthrough** in the animal intelligence field and a must see / hear for every animal intelligence enthusiast ."
      ],
      "text/plain": [
       "<IPython.core.display.Markdown object>"
      ]
     },
     "metadata": {},
     "output_type": "display_data"
    },
    {
     "data": {
      "text/markdown": [
       "While there have been spasms of speculation about the Bush administration naming a **replacement** for O'Keefe , no nominee has been declared ."
      ],
      "text/plain": [
       "<IPython.core.display.Markdown object>"
      ]
     },
     "metadata": {},
     "output_type": "display_data"
    },
    {
     "data": {
      "text/markdown": [
       "I recently converted this test to an online test in **order** to norm it to a larger population and , subsequently , to make it available to any one who has access to a computer and the Internet ."
      ],
      "text/plain": [
       "<IPython.core.display.Markdown object>"
      ]
     },
     "metadata": {},
     "output_type": "display_data"
    },
    {
     "data": {
      "text/markdown": [
       "In **exchange** for sucking vast amounts of water out of the local land , the mighty corporation promised to bring the people great wealth ."
      ],
      "text/plain": [
       "<IPython.core.display.Markdown object>"
      ]
     },
     "metadata": {},
     "output_type": "display_data"
    },
    {
     "data": {
      "text/markdown": [
       "In London , the price of Brent North Sea crude for November delivery advanced 53 cents to 64.73 **dollars** ."
      ],
      "text/plain": [
       "<IPython.core.display.Markdown object>"
      ]
     },
     "metadata": {},
     "output_type": "display_data"
    },
    {
     "data": {
      "text/markdown": [
       "It was incorporated as a **city** on May 26 , 1955 ."
      ],
      "text/plain": [
       "<IPython.core.display.Markdown object>"
      ]
     },
     "metadata": {},
     "output_type": "display_data"
    },
    {
     "data": {
      "text/markdown": [
       "Good day , I 'm a foreigner living in malaysia , german citizen , 21 years of **age** , I was wondering if air asia recruits foreigners ?"
      ],
      "text/plain": [
       "<IPython.core.display.Markdown object>"
      ]
     },
     "metadata": {},
     "output_type": "display_data"
    },
    {
     "name": "stdout",
     "output_type": "stream",
     "text": [
      "Com\t6\n"
     ]
    },
    {
     "data": {
      "text/markdown": [
       "Our web **address** is http://www.accenture.com"
      ],
      "text/plain": [
       "<IPython.core.display.Markdown object>"
      ]
     },
     "metadata": {},
     "output_type": "display_data"
    },
    {
     "data": {
      "text/markdown": [
       "Traci Warner Enron Broadband Services , Inc. **Phone** ( 713 ) 853-3242 Cell ( 713 ) 705-7201"
      ],
      "text/plain": [
       "<IPython.core.display.Markdown object>"
      ]
     },
     "metadata": {},
     "output_type": "display_data"
    },
    {
     "data": {
      "text/markdown": [
       "Vangie McGilloway Constellation Power Source , Inc. ( \" CPS \" ) 111 Market Place Ste 500 Baltimore , MD 21202 **Phone** 410-468-3798 Fax 410-468-3499 Email vangie.mcgilloway@powersrc.com"
      ],
      "text/plain": [
       "<IPython.core.display.Markdown object>"
      ]
     },
     "metadata": {},
     "output_type": "display_data"
    },
    {
     "data": {
      "text/markdown": [
       "Cheap air tickets for **Corporate**"
      ],
      "text/plain": [
       "<IPython.core.display.Markdown object>"
      ]
     },
     "metadata": {},
     "output_type": "display_data"
    },
    {
     "data": {
      "text/markdown": [
       "Price : 3,40 Euros , 5 Euros or 7,5 Euros ( 1 ) for a 72 heures **lenght** ."
      ],
      "text/plain": [
       "<IPython.core.display.Markdown object>"
      ]
     },
     "metadata": {},
     "output_type": "display_data"
    },
    {
     "data": {
      "text/markdown": [
       "great **garage** and customer service ."
      ],
      "text/plain": [
       "<IPython.core.display.Markdown object>"
      ]
     },
     "metadata": {},
     "output_type": "display_data"
    },
    {
     "name": "stdout",
     "output_type": "stream",
     "text": [
      "Abe\t1\n"
     ]
    },
    {
     "data": {
      "text/markdown": [
       "One **answer** is that the Pentagon prevented the State Department from running the CPA ."
      ],
      "text/plain": [
       "<IPython.core.display.Markdown object>"
      ]
     },
     "metadata": {},
     "output_type": "display_data"
    },
    {
     "name": "stdout",
     "output_type": "stream",
     "text": [
      "Ine\t164\n"
     ]
    },
    {
     "data": {
      "text/markdown": [
       "It seems clear to me that the manhunt for high Baath officials in the Sunni heartland is being done wrong , or at least in **ways** that are bad for US standing with local Iraqis ."
      ],
      "text/plain": [
       "<IPython.core.display.Markdown object>"
      ]
     },
     "metadata": {},
     "output_type": "display_data"
    },
    {
     "data": {
      "text/markdown": [
       "It seems clear to me that the manhunt for high Baath officials in the Sunni heartland is being done wrong , or at least in ways that are bad for US **standing** with local Iraqis ."
      ],
      "text/plain": [
       "<IPython.core.display.Markdown object>"
      ]
     },
     "metadata": {},
     "output_type": "display_data"
    },
    {
     "data": {
      "text/markdown": [
       "\" Arafat 's secular nationalism was supple enough to compromise with Israel and to imagine a two - state solution , even if the road of **negotiations** remained rocky ."
      ],
      "text/plain": [
       "<IPython.core.display.Markdown object>"
      ]
     },
     "metadata": {},
     "output_type": "display_data"
    },
    {
     "data": {
      "text/markdown": [
       "Ever since the first **whispers** about Google 's IPO , most investors have feared that the stock would come public at such a ridiculously high price that , even with a spectacularly profitable business model and some nearly flawless execution , the price would be too high for investors to make a real profit ."
      ],
      "text/plain": [
       "<IPython.core.display.Markdown object>"
      ]
     },
     "metadata": {},
     "output_type": "display_data"
    },
    {
     "data": {
      "text/markdown": [
       "Ever since the first whispers about Google 's IPO , most investors have feared that the stock would come public at such a ridiculously high price that , even with a spectacularly profitable business **model** and some nearly flawless execution , the price would be too high for investors to make a real profit ."
      ],
      "text/plain": [
       "<IPython.core.display.Markdown object>"
      ]
     },
     "metadata": {},
     "output_type": "display_data"
    },
    {
     "data": {
      "text/markdown": [
       "As the **survey** cited in the above - linked article shows , most Google users do n't intend to use Gmail , and Google is n't even as popular as Yahoo! and AOL ."
      ],
      "text/plain": [
       "<IPython.core.display.Markdown object>"
      ]
     },
     "metadata": {},
     "output_type": "display_data"
    },
    {
     "data": {
      "text/markdown": [
       "Amazingly , these idiots think a cartoon of Mohammed is comparable to what we can expect in this new fun **contest** :"
      ],
      "text/plain": [
       "<IPython.core.display.Markdown object>"
      ]
     },
     "metadata": {},
     "output_type": "display_data"
    },
    {
     "data": {
      "text/markdown": [
       "US Marines moved into most of Fallujah on Wednesday , though they were still meeting **pockets** of resistance ."
      ],
      "text/plain": [
       "<IPython.core.display.Markdown object>"
      ]
     },
     "metadata": {},
     "output_type": "display_data"
    },
    {
     "data": {
      "text/markdown": [
       "In Iraqi **society** , PM Allawi is responsible for protecting his clan , including especially his first cousins , so this kidnapping makes him look weak and brings substantial shame on him ."
      ],
      "text/plain": [
       "<IPython.core.display.Markdown object>"
      ]
     },
     "metadata": {},
     "output_type": "display_data"
    },
    {
     "data": {
      "text/markdown": [
       "The US Marines took most of Fallujah Wednesday , but still face **pockets** of resistance ."
      ],
      "text/plain": [
       "<IPython.core.display.Markdown object>"
      ]
     },
     "metadata": {},
     "output_type": "display_data"
    },
    {
     "name": "stdout",
     "output_type": "stream",
     "text": [
      "Ill\t117\n"
     ]
    },
    {
     "data": {
      "text/markdown": [
       "The sheikh in wheel - **chair** has been attacked with a F - 16 - launched bomb ."
      ],
      "text/plain": [
       "<IPython.core.display.Markdown object>"
      ]
     },
     "metadata": {},
     "output_type": "display_data"
    },
    {
     "data": {
      "text/markdown": [
       "In the eastern city of Baqubah , guerrillas detonated a car **bomb** outside a police station , killing several people ."
      ],
      "text/plain": [
       "<IPython.core.display.Markdown object>"
      ]
     },
     "metadata": {},
     "output_type": "display_data"
    },
    {
     "data": {
      "text/markdown": [
       "The US lost yet another helicopter to hostile **fire** near Habbaniyah in the Sunni heartland , but this time the crew was safe ."
      ],
      "text/plain": [
       "<IPython.core.display.Markdown object>"
      ]
     },
     "metadata": {},
     "output_type": "display_data"
    },
    {
     "data": {
      "text/markdown": [
       "If the Israelis and the Palestinian leadership can not find a way to reinvigorate the peace **process** , cells of radical young Palestinians may grow up that look to bin Laden for their cues ."
      ],
      "text/plain": [
       "<IPython.core.display.Markdown object>"
      ]
     },
     "metadata": {},
     "output_type": "display_data"
    },
    {
     "data": {
      "text/markdown": [
       "If the Israelis and the Palestinian leadership can not find a way to reinvigorate the peace process , cells of radical young Palestinians may grow up that look to bin Laden for their **cues** ."
      ],
      "text/plain": [
       "<IPython.core.display.Markdown object>"
      ]
     },
     "metadata": {},
     "output_type": "display_data"
    },
    {
     "data": {
      "text/markdown": [
       "Xinhua reports that a wide range of Iraqi political **forces** on Tuesday condemned Sharon 's murder of Sheikh Ahmed Yassin , a religious leader of Hamas , the day before ."
      ],
      "text/plain": [
       "<IPython.core.display.Markdown object>"
      ]
     },
     "metadata": {},
     "output_type": "display_data"
    },
    {
     "data": {
      "text/markdown": [
       "This operation would only consolidate the terrorist acts in the **world** and would not bring peace to the region , \" the message claimed ."
      ],
      "text/plain": [
       "<IPython.core.display.Markdown object>"
      ]
     },
     "metadata": {},
     "output_type": "display_data"
    },
    {
     "data": {
      "text/markdown": [
       "In an apparently unrelated incidents , some eleven Iraqis were killed by snipers on Tuesday , including a group of police trainees in a **bus** near Hilla and two police in Kirkuk ."
      ],
      "text/plain": [
       "<IPython.core.display.Markdown object>"
      ]
     },
     "metadata": {},
     "output_type": "display_data"
    },
    {
     "data": {
      "text/markdown": [
       "Ever since the first whispers about Google 's IPO , most investors have feared that the stock would come public at such a ridiculously high price that , even with a spectacularly profitable business model and some nearly flawless execution , the price would be too high for investors to make a real **profit** ."
      ],
      "text/plain": [
       "<IPython.core.display.Markdown object>"
      ]
     },
     "metadata": {},
     "output_type": "display_data"
    },
    {
     "data": {
      "text/markdown": [
       "If they continue to add features so they can justify their likely sky - high valuation , Google risks losing a huge chunk of their customer base to the next keep - it - simple search **engine** ."
      ],
      "text/plain": [
       "<IPython.core.display.Markdown object>"
      ]
     },
     "metadata": {},
     "output_type": "display_data"
    },
    {
     "name": "stdout",
     "output_type": "stream",
     "text": [
      "Ela\t31\n"
     ]
    },
    {
     "data": {
      "text/markdown": [
       "\" Though we do not deny that **fact** that Jews were killed in the ( second world ) war , why should the Palestinians pay for it ? \""
      ],
      "text/plain": [
       "<IPython.core.display.Markdown object>"
      ]
     },
     "metadata": {},
     "output_type": "display_data"
    },
    {
     "data": {
      "text/markdown": [
       "North Korea ’s Kim Jong Ill also has the bomb at the top of his **list** and Santa seems to have already come a few years ago ."
      ],
      "text/plain": [
       "<IPython.core.display.Markdown object>"
      ]
     },
     "metadata": {},
     "output_type": "display_data"
    },
    {
     "data": {
      "text/markdown": [
       "Crap like this sure makes me want to rush right out and rescue people from dilemmas of their own **making** ."
      ],
      "text/plain": [
       "<IPython.core.display.Markdown object>"
      ]
     },
     "metadata": {},
     "output_type": "display_data"
    },
    {
     "data": {
      "text/markdown": [
       "In **fact** Peder and I were remarking on how agreeable they all are as the sucked on our balls last night ."
      ],
      "text/plain": [
       "<IPython.core.display.Markdown object>"
      ]
     },
     "metadata": {},
     "output_type": "display_data"
    },
    {
     "data": {
      "text/markdown": [
       "It is my understanding , from good **sources** in the Gov s office that the Gov will order Loretta Lynch to expeditiously implement the provision to suspend all parties auhtority to enter into direct access contracts ."
      ],
      "text/plain": [
       "<IPython.core.display.Markdown object>"
      ]
     },
     "metadata": {},
     "output_type": "display_data"
    },
    {
     "data": {
      "text/markdown": [
       "**Today** is my last day in the office here at Azurix , and in the coming months , I will start in a new position as SVP in the LNG development group at El Paso Energy ."
      ],
      "text/plain": [
       "<IPython.core.display.Markdown object>"
      ]
     },
     "metadata": {},
     "output_type": "display_data"
    },
    {
     "data": {
      "text/markdown": [
       "\" The **information** transmitted is intended only for the person or entity to which it is addressed and may contain confidential and / or privileged material ."
      ],
      "text/plain": [
       "<IPython.core.display.Markdown object>"
      ]
     },
     "metadata": {},
     "output_type": "display_data"
    },
    {
     "data": {
      "text/markdown": [
       "Also , we have attached a pdf **black** - line of the Guarantee vs the form of guarantee in the Turbine Contract ."
      ],
      "text/plain": [
       "<IPython.core.display.Markdown object>"
      ]
     },
     "metadata": {},
     "output_type": "display_data"
    },
    {
     "data": {
      "text/markdown": [
       "Further , she informed me that Section 7 of the agreement , which reads in part : Gas is free from liens and adverse claims of every **kind** , should be changed because the gas that the counterparty will be transporting on HPL may and / or is subject to liens ."
      ],
      "text/plain": [
       "<IPython.core.display.Markdown object>"
      ]
     },
     "metadata": {},
     "output_type": "display_data"
    },
    {
     "data": {
      "text/markdown": [
       "This transmittal and / or **attachments** may be a confidential attorney - client communication or may otherwise be privileged or confidential ."
      ],
      "text/plain": [
       "<IPython.core.display.Markdown object>"
      ]
     },
     "metadata": {},
     "output_type": "display_data"
    },
    {
     "name": "stdout",
     "output_type": "stream",
     "text": [
      "Ade\t205\n"
     ]
    },
    {
     "data": {
      "text/markdown": [
       "President Bush on Tuesday nominated two individuals to replace retiring jurists on federal **courts** in the Washington area ."
      ],
      "text/plain": [
       "<IPython.core.display.Markdown object>"
      ]
     },
     "metadata": {},
     "output_type": "display_data"
    },
    {
     "data": {
      "text/markdown": [
       "The sheikh in **wheel** - chair has been attacked with a F - 16 - launched bomb ."
      ],
      "text/plain": [
       "<IPython.core.display.Markdown object>"
      ]
     },
     "metadata": {},
     "output_type": "display_data"
    },
    {
     "data": {
      "text/markdown": [
       "In the eastern city of Baqubah , guerrillas detonated a car bomb outside a police **station** , killing several people ."
      ],
      "text/plain": [
       "<IPython.core.display.Markdown object>"
      ]
     },
     "metadata": {},
     "output_type": "display_data"
    },
    {
     "data": {
      "text/markdown": [
       "The US lost yet another helicopter to hostile fire near Habbaniyah in the Sunni **heartland** , but this time the crew was safe ."
      ],
      "text/plain": [
       "<IPython.core.display.Markdown object>"
      ]
     },
     "metadata": {},
     "output_type": "display_data"
    },
    {
     "data": {
      "text/markdown": [
       "The US lost yet another helicopter to hostile fire near Habbaniyah in the Sunni heartland , but this **time** the crew was safe ."
      ],
      "text/plain": [
       "<IPython.core.display.Markdown object>"
      ]
     },
     "metadata": {},
     "output_type": "display_data"
    },
    {
     "data": {
      "text/markdown": [
       "It seems clear to me that the manhunt for high Baath officials in the Sunni **heartland** is being done wrong , or at least in ways that are bad for US standing with local Iraqis ."
      ],
      "text/plain": [
       "<IPython.core.display.Markdown object>"
      ]
     },
     "metadata": {},
     "output_type": "display_data"
    },
    {
     "data": {
      "text/markdown": [
       "The continued Israeli colonization of the occupied Palestinian territories during the **1990s** helped , along with terrorist attacks by radical groups such as Hamas , to derail the peace process , which Sharon had always opposed ."
      ],
      "text/plain": [
       "<IPython.core.display.Markdown object>"
      ]
     },
     "metadata": {},
     "output_type": "display_data"
    },
    {
     "data": {
      "text/markdown": [
       "Ever since the first whispers about Google 's IPO , most **investors** have feared that the stock would come public at such a ridiculously high price that , even with a spectacularly profitable business model and some nearly flawless execution , the price would be too high for investors to make a real profit ."
      ],
      "text/plain": [
       "<IPython.core.display.Markdown object>"
      ]
     },
     "metadata": {},
     "output_type": "display_data"
    },
    {
     "data": {
      "text/markdown": [
       "Ever since the first whispers about Google 's IPO , most investors have feared that the stock would come public at such a ridiculously high price that , even with a spectacularly profitable business model and some nearly flawless execution , the **price** would be too high for investors to make a real profit ."
      ],
      "text/plain": [
       "<IPython.core.display.Markdown object>"
      ]
     },
     "metadata": {},
     "output_type": "display_data"
    },
    {
     "data": {
      "text/markdown": [
       "It 's tough to make money branching out when your appeal is in your **focus** ."
      ],
      "text/plain": [
       "<IPython.core.display.Markdown object>"
      ]
     },
     "metadata": {},
     "output_type": "display_data"
    },
    {
     "name": "stdout",
     "output_type": "stream",
     "text": [
      "All\t46\n"
     ]
    },
    {
     "data": {
      "text/markdown": [
       "President Bush on Tuesday nominated two individuals to replace retiring jurists on federal courts in the Washington **area** ."
      ],
      "text/plain": [
       "<IPython.core.display.Markdown object>"
      ]
     },
     "metadata": {},
     "output_type": "display_data"
    },
    {
     "data": {
      "text/markdown": [
       "Ever since the first whispers about Google 's IPO , most investors have feared that the stock would come public at such a ridiculously high **price** that , even with a spectacularly profitable business model and some nearly flawless execution , the price would be too high for investors to make a real profit ."
      ],
      "text/plain": [
       "<IPython.core.display.Markdown object>"
      ]
     },
     "metadata": {},
     "output_type": "display_data"
    },
    {
     "data": {
      "text/markdown": [
       "\" We were on the road and the first bridge was bombed and we drove home and all the other bridges were bombed and there was absolutely no way for us to get home , \" Chahine told reporters outside federal **court** in Detroit ."
      ],
      "text/plain": [
       "<IPython.core.display.Markdown object>"
      ]
     },
     "metadata": {},
     "output_type": "display_data"
    },
    {
     "data": {
      "text/markdown": [
       "They actively excluded State Department Iraq **hands** like Tom Warrick ."
      ],
      "text/plain": [
       "<IPython.core.display.Markdown object>"
      ]
     },
     "metadata": {},
     "output_type": "display_data"
    },
    {
     "data": {
      "text/markdown": [
       "It is my understanding , from good sources in the Gov s **office** that the Gov will order Loretta Lynch to expeditiously implement the provision to suspend all parties auhtority to enter into direct access contracts ."
      ],
      "text/plain": [
       "<IPython.core.display.Markdown object>"
      ]
     },
     "metadata": {},
     "output_type": "display_data"
    },
    {
     "data": {
      "text/markdown": [
       "Today is my last day in the **office** here at Azurix , and in the coming months , I will start in a new position as SVP in the LNG development group at El Paso Energy ."
      ],
      "text/plain": [
       "<IPython.core.display.Markdown object>"
      ]
     },
     "metadata": {},
     "output_type": "display_data"
    },
    {
     "data": {
      "text/markdown": [
       "We will meeting Rod 's **office** EB 4054"
      ],
      "text/plain": [
       "<IPython.core.display.Markdown object>"
      ]
     },
     "metadata": {},
     "output_type": "display_data"
    },
    {
     "data": {
      "text/markdown": [
       "However , he also mentioned we were a close sixth , that is close to the fifth highest **bid** ."
      ],
      "text/plain": [
       "<IPython.core.display.Markdown object>"
      ]
     },
     "metadata": {},
     "output_type": "display_data"
    },
    {
     "data": {
      "text/markdown": [
       "He gave no indication on the value of the highest **bid** ."
      ],
      "text/plain": [
       "<IPython.core.display.Markdown object>"
      ]
     },
     "metadata": {},
     "output_type": "display_data"
    },
    {
     "data": {
      "text/markdown": [
       "The request was for a Intrastate Gas Transportation **Agreement** and 311 Gas Transportation Agreement ."
      ],
      "text/plain": [
       "<IPython.core.display.Markdown object>"
      ]
     },
     "metadata": {},
     "output_type": "display_data"
    },
    {
     "name": "stdout",
     "output_type": "stream",
     "text": [
      "Abl\t16\n"
     ]
    },
    {
     "data": {
      "text/markdown": [
       "It 's on loan , by the **way** , from a guy named Joe O'Neill in Midland , Texas ."
      ],
      "text/plain": [
       "<IPython.core.display.Markdown object>"
      ]
     },
     "metadata": {},
     "output_type": "display_data"
    },
    {
     "data": {
      "text/markdown": [
       "John Staikos Direct **Dial** :? 203.961.7523 Direct Fax :? 203.674.7723 E-mail :? johnstaikos@paulhastings.com"
      ],
      "text/plain": [
       "<IPython.core.display.Markdown object>"
      ]
     },
     "metadata": {},
     "output_type": "display_data"
    },
    {
     "data": {
      "text/markdown": [
       "John Staikos Direct Dial :? 203.961.7523 Direct **Fax** :? 203.674.7723 E-mail :? johnstaikos@paulhastings.com"
      ],
      "text/plain": [
       "<IPython.core.display.Markdown object>"
      ]
     },
     "metadata": {},
     "output_type": "display_data"
    },
    {
     "data": {
      "text/markdown": [
       "Raw data is on the fisrt tab of the file to the **right** ."
      ],
      "text/plain": [
       "<IPython.core.display.Markdown object>"
      ]
     },
     "metadata": {},
     "output_type": "display_data"
    },
    {
     "data": {
      "text/markdown": [
       "In addition , I received feedback from our Gas Desk that the access to the Gas **segment** of Enron On - Line was cut off to CPS --- do you know who would handle this at Enron that we can speak to ?"
      ],
      "text/plain": [
       "<IPython.core.display.Markdown object>"
      ]
     },
     "metadata": {},
     "output_type": "display_data"
    },
    {
     "data": {
      "text/markdown": [
       "Vangie McGilloway Constellation Power Source , Inc. ( \" CPS \" ) 111 Market Place **Ste** 500 Baltimore , MD 21202 Phone 410-468-3798 Fax 410-468-3499 Email vangie.mcgilloway@powersrc.com"
      ],
      "text/plain": [
       "<IPython.core.display.Markdown object>"
      ]
     },
     "metadata": {},
     "output_type": "display_data"
    },
    {
     "data": {
      "text/markdown": [
       "Sungjoo Lee Stochastic Processes and Simulation in Finance Georgia Institute of Technology School of Industrial and Systems Engineering E-mail **address** : goldconn@isye.gatech.edu gte114t@prism.gatech.edu Home : 404-449-1026 Office : Coming Soon !"
      ],
      "text/plain": [
       "<IPython.core.display.Markdown object>"
      ]
     },
     "metadata": {},
     "output_type": "display_data"
    },
    {
     "data": {
      "text/markdown": [
       "I am expecting to pay something in the $ 3, to $ 5,000 **range** ."
      ],
      "text/plain": [
       "<IPython.core.display.Markdown object>"
      ]
     },
     "metadata": {},
     "output_type": "display_data"
    },
    {
     "data": {
      "text/markdown": [
       "In Indian national chart besides the transit affliction to transit Mercury by Rahu and Venus the natal Saturn and Venus are also under the transit affliction of Rahu which has resulted into floods in many parts of the country taking **toll** of human lives , properties , etc ."
      ],
      "text/plain": [
       "<IPython.core.display.Markdown object>"
      ]
     },
     "metadata": {},
     "output_type": "display_data"
    },
    {
     "data": {
      "text/markdown": [
       "Normally this author is semi-objective ( what blogger is ) but on the Seattlepi.com ( see source link ) Palestinian Leader Mahmoud Abbas has demanded that Israel leave all the land that it occupies before the 1967 border ( which includes East Jerusalem by the **way** ) ."
      ],
      "text/plain": [
       "<IPython.core.display.Markdown object>"
      ]
     },
     "metadata": {},
     "output_type": "display_data"
    }
   ],
   "source": [
    "def printmd(string):\n",
    "    display(Markdown(string))\n",
    "for idx, (case, num) in enumerate(zip(CASES[1:], torch.bincount(en_rev_best_labels.int()))):\n",
    "  print(f\"{case}\\t{num}\")\n",
    "  for (sentence, sent_idx, _) in en_extra[en_rev_best_labels.numpy()==idx][:10]:\n",
    "    sent_idx = int(sent_idx)\n",
    "    words = sentence.split(' ')\n",
    "    words[sent_idx] = \"**\" + words[sent_idx] + \"**\"\n",
    "    printmd(\" \".join(words))"
   ]
  },
  {
   "cell_type": "code",
   "execution_count": 35,
   "metadata": {},
   "outputs": [
    {
     "name": "stdout",
     "output_type": "stream",
     "text": [
      "Nom\t3239\n"
     ]
    },
    {
     "data": {
      "text/markdown": [
       "`(0.999)` My old **bed** got tossed in a dumpster ."
      ],
      "text/plain": [
       "<IPython.core.display.Markdown object>"
      ]
     },
     "metadata": {},
     "output_type": "display_data"
    },
    {
     "data": {
      "text/markdown": [
       "`(0.998)` The **owner** Karla is welcoming and fun ."
      ],
      "text/plain": [
       "<IPython.core.display.Markdown object>"
      ]
     },
     "metadata": {},
     "output_type": "display_data"
    },
    {
     "data": {
      "text/markdown": [
       "`(0.998)` The chicken cordon - **blu** was tasty and came in a huge portion size for the money ."
      ],
      "text/plain": [
       "<IPython.core.display.Markdown object>"
      ]
     },
     "metadata": {},
     "output_type": "display_data"
    },
    {
     "data": {
      "text/markdown": [
       "`(0.998)` But **iPhone** was the first \" Officiol \" touch screen smart phone ."
      ],
      "text/plain": [
       "<IPython.core.display.Markdown object>"
      ]
     },
     "metadata": {},
     "output_type": "display_data"
    },
    {
     "data": {
      "text/markdown": [
       "`(0.997)` The hottest **item** on Christmas wish lists this year is nuclear weapons ."
      ],
      "text/plain": [
       "<IPython.core.display.Markdown object>"
      ]
     },
     "metadata": {},
     "output_type": "display_data"
    },
    {
     "data": {
      "text/markdown": [
       "`(0.996)` no **pet** is really easy to take care of ."
      ],
      "text/plain": [
       "<IPython.core.display.Markdown object>"
      ]
     },
     "metadata": {},
     "output_type": "display_data"
    },
    {
     "data": {
      "text/markdown": [
       "`(0.996)` **Staff** is super friendly and very attentive ."
      ],
      "text/plain": [
       "<IPython.core.display.Markdown object>"
      ]
     },
     "metadata": {},
     "output_type": "display_data"
    },
    {
     "data": {
      "text/markdown": [
       "`(0.996)` The **sheikh** in wheel - chair has been attacked with a F - 16 - launched bomb ."
      ],
      "text/plain": [
       "<IPython.core.display.Markdown object>"
      ]
     },
     "metadata": {},
     "output_type": "display_data"
    },
    {
     "data": {
      "text/markdown": [
       "`(0.996)` **Food** drastically let's the place down though"
      ],
      "text/plain": [
       "<IPython.core.display.Markdown object>"
      ]
     },
     "metadata": {},
     "output_type": "display_data"
    },
    {
     "data": {
      "text/markdown": [
       "`(0.996)` The test itself is what is called a substitution **test** ."
      ],
      "text/plain": [
       "<IPython.core.display.Markdown object>"
      ]
     },
     "metadata": {},
     "output_type": "display_data"
    },
    {
     "name": "stdout",
     "output_type": "stream",
     "text": [
      "Acc\t0\n"
     ]
    },
    {
     "data": {
      "text/markdown": [
       "`(0.017)` The interim Governing Council issued a communique saying , \" It is a proof of the emptiness of the Israeli authority and a destruction of the peace endeavors in the **region** . . ."
      ],
      "text/plain": [
       "<IPython.core.display.Markdown object>"
      ]
     },
     "metadata": {},
     "output_type": "display_data"
    },
    {
     "data": {
      "text/markdown": [
       "`(0.013)` John Staikos Direct Dial :? 203.961.7523 Direct **Fax** :? 203.674.7723 E-mail :? johnstaikos@paulhastings.com"
      ],
      "text/plain": [
       "<IPython.core.display.Markdown object>"
      ]
     },
     "metadata": {},
     "output_type": "display_data"
    },
    {
     "data": {
      "text/markdown": [
       "`(0.013)` You can find American girls all over the **city** ."
      ],
      "text/plain": [
       "<IPython.core.display.Markdown object>"
      ]
     },
     "metadata": {},
     "output_type": "display_data"
    },
    {
     "data": {
      "text/markdown": [
       "`(0.013)` In Indian national chart besides the transit affliction to transit Mercury by Rahu and Venus the natal Saturn and Venus are also under the transit affliction of Rahu which has resulted into floods in many parts of the **country** taking toll of human lives , properties , etc ."
      ],
      "text/plain": [
       "<IPython.core.display.Markdown object>"
      ]
     },
     "metadata": {},
     "output_type": "display_data"
    },
    {
     "data": {
      "text/markdown": [
       "`(0.011)` This operation would only consolidate the terrorist acts in the world and would not bring peace to the **region** , \" the message claimed ."
      ],
      "text/plain": [
       "<IPython.core.display.Markdown object>"
      ]
     },
     "metadata": {},
     "output_type": "display_data"
    },
    {
     "data": {
      "text/markdown": [
       "`(0.011)` At the same **time** , an Iranian Opposition Group released what they call proof of a covert nuclear weapons program ."
      ],
      "text/plain": [
       "<IPython.core.display.Markdown object>"
      ]
     },
     "metadata": {},
     "output_type": "display_data"
    },
    {
     "data": {
      "text/markdown": [
       "`(0.010)` The atmosphere is your typical indie outfit with old movie posters and memorabilia from the **70's** and 80's ."
      ],
      "text/plain": [
       "<IPython.core.display.Markdown object>"
      ]
     },
     "metadata": {},
     "output_type": "display_data"
    },
    {
     "data": {
      "text/markdown": [
       "`(0.010)` Abbas , a refugee himself from what is **today** the northern Israeli city of Safed , called the refugee issue \" very important and very dangerous . \""
      ],
      "text/plain": [
       "<IPython.core.display.Markdown object>"
      ]
     },
     "metadata": {},
     "output_type": "display_data"
    },
    {
     "data": {
      "text/markdown": [
       "`(0.009)` In Iraqi society , PM Allawi is responsible for protecting his **clan** , including especially his first cousins , so this kidnapping makes him look weak and brings substantial shame on him ."
      ],
      "text/plain": [
       "<IPython.core.display.Markdown object>"
      ]
     },
     "metadata": {},
     "output_type": "display_data"
    },
    {
     "data": {
      "text/markdown": [
       "`(0.009)` During this **period** , they offer cheap air tickets to their country on certain flights ."
      ],
      "text/plain": [
       "<IPython.core.display.Markdown object>"
      ]
     },
     "metadata": {},
     "output_type": "display_data"
    },
    {
     "name": "stdout",
     "output_type": "stream",
     "text": [
      "Gen\t293\n"
     ]
    },
    {
     "data": {
      "text/markdown": [
       "`(0.967)` Allawi 's aged cousin and the **man** 's wife and daughter - in - law were abducted and guerrillas threaten to behead them if the Fallujah compaign is not stopped ."
      ],
      "text/plain": [
       "<IPython.core.display.Markdown object>"
      ]
     },
     "metadata": {},
     "output_type": "display_data"
    },
    {
     "data": {
      "text/markdown": [
       "`(0.966)` Usually , these are just a chance for the suckups to suck up , but this time people are actually concerned about the **company** 's plans ."
      ],
      "text/plain": [
       "<IPython.core.display.Markdown object>"
      ]
     },
     "metadata": {},
     "output_type": "display_data"
    },
    {
     "data": {
      "text/markdown": [
       "`(0.965)` ' A radical Shiite Muslim cleric has expressed solidarity with the militant Palestinian group Hamas and said that he should be considered the **group** 's \" striking arm \" in Iraq ."
      ],
      "text/plain": [
       "<IPython.core.display.Markdown object>"
      ]
     },
     "metadata": {},
     "output_type": "display_data"
    },
    {
     "data": {
      "text/markdown": [
       "`(0.955)` A person can take it directly instead of others completing behavioral checklists or a completing a lengthy **program** intensive test like TOVA ."
      ],
      "text/plain": [
       "<IPython.core.display.Markdown object>"
      ]
     },
     "metadata": {},
     "output_type": "display_data"
    },
    {
     "data": {
      "text/markdown": [
       "`(0.952)` I gave mine to a rest home for senior citizens and an old **soldiers** ' home ."
      ],
      "text/plain": [
       "<IPython.core.display.Markdown object>"
      ]
     },
     "metadata": {},
     "output_type": "display_data"
    },
    {
     "data": {
      "text/markdown": [
       "`(0.945)` Therefore I could not estimate the **mean** reversion rate as the estimated slope has the positive sign ."
      ],
      "text/plain": [
       "<IPython.core.display.Markdown object>"
      ]
     },
     "metadata": {},
     "output_type": "display_data"
    },
    {
     "data": {
      "text/markdown": [
       "`(0.945)` This is a major breakthrough in the animal intelligence field and a must see / hear for every animal **intelligence** enthusiast ."
      ],
      "text/plain": [
       "<IPython.core.display.Markdown object>"
      ]
     },
     "metadata": {},
     "output_type": "display_data"
    },
    {
     "data": {
      "text/markdown": [
       "`(0.945)` He has become our department expert on the PSA account ( much more knowledgeable than myself ) and the various **plan** provision amendments ."
      ],
      "text/plain": [
       "<IPython.core.display.Markdown object>"
      ]
     },
     "metadata": {},
     "output_type": "display_data"
    },
    {
     "data": {
      "text/markdown": [
       "`(0.945)` Arial photos of the lab were uranium is being enriched , somewhat like those of chemical **weapons** stockpiles in Iraq ."
      ],
      "text/plain": [
       "<IPython.core.display.Markdown object>"
      ]
     },
     "metadata": {},
     "output_type": "display_data"
    },
    {
     "data": {
      "text/markdown": [
       "`(0.944)` Google has finally had an analyst day -- a chance to present the **company** 's story to the ( miniscule number of ) people who have n't heard it ."
      ],
      "text/plain": [
       "<IPython.core.display.Markdown object>"
      ]
     },
     "metadata": {},
     "output_type": "display_data"
    },
    {
     "name": "stdout",
     "output_type": "stream",
     "text": [
      "Ins\t2\n"
     ]
    },
    {
     "data": {
      "text/markdown": [
       "`(0.384)` I meant to comment that I thought the people profiled in the article should pull their heads out of their **self** important asses ."
      ],
      "text/plain": [
       "<IPython.core.display.Markdown object>"
      ]
     },
     "metadata": {},
     "output_type": "display_data"
    },
    {
     "data": {
      "text/markdown": [
       "`(0.285)` The **way** the tax law works , the tax basis for your share distribution will be based on the closing stock price the day preceding notification to the transfer agent ."
      ],
      "text/plain": [
       "<IPython.core.display.Markdown object>"
      ]
     },
     "metadata": {},
     "output_type": "display_data"
    },
    {
     "data": {
      "text/markdown": [
       "`(0.273)` Miramar California is a **bit** north of San Diego ."
      ],
      "text/plain": [
       "<IPython.core.display.Markdown object>"
      ]
     },
     "metadata": {},
     "output_type": "display_data"
    },
    {
     "data": {
      "text/markdown": [
       "`(0.248)` I am doing a project and need to know what **kind** food Argentina people eat for breakfast , lunch , and dinner ."
      ],
      "text/plain": [
       "<IPython.core.display.Markdown object>"
      ]
     },
     "metadata": {},
     "output_type": "display_data"
    },
    {
     "data": {
      "text/markdown": [
       "`(0.211)` \" The book -- I guess one **way** , one thing to think about it is -- one of the themes would be , I was given a charge to keep ."
      ],
      "text/plain": [
       "<IPython.core.display.Markdown object>"
      ]
     },
     "metadata": {},
     "output_type": "display_data"
    },
    {
     "data": {
      "text/markdown": [
       "`(0.211)` I like Hayes Street Grill .... another **plus** , it 's right by Civic Center , so you can take a romantic walk around the Opera House , City Hall , Symphony Auditorium ... all very beautiful ."
      ],
      "text/plain": [
       "<IPython.core.display.Markdown object>"
      ]
     },
     "metadata": {},
     "output_type": "display_data"
    },
    {
     "data": {
      "text/markdown": [
       "`(0.205)` I have a Saab ... which everything is expensive on and they have been extrememly fair and price a **lot** lower than any other shop I called ."
      ],
      "text/plain": [
       "<IPython.core.display.Markdown object>"
      ]
     },
     "metadata": {},
     "output_type": "display_data"
    },
    {
     "data": {
      "text/markdown": [
       "`(0.172)` Anthony Shadid of the Washington Post reveals that the warrants for the arrests had been issued **months** be for ."
      ],
      "text/plain": [
       "<IPython.core.display.Markdown object>"
      ]
     },
     "metadata": {},
     "output_type": "display_data"
    },
    {
     "data": {
      "text/markdown": [
       "`(0.161)` I have a Norwegian Forest Cat that is named Achilles bc as a kitten he always attacked your **feet** when you walked by !"
      ],
      "text/plain": [
       "<IPython.core.display.Markdown object>"
      ]
     },
     "metadata": {},
     "output_type": "display_data"
    },
    {
     "data": {
      "text/markdown": [
       "`(0.156)` You got ta get an iPhone for 3G ... only **way** ... actually there is a thing that you pay for monthly that gets wifi from satellite and you can connect to it anywhere but you have to Cary it with you"
      ],
      "text/plain": [
       "<IPython.core.display.Markdown object>"
      ]
     },
     "metadata": {},
     "output_type": "display_data"
    },
    {
     "name": "stdout",
     "output_type": "stream",
     "text": [
      "Par\t466\n"
     ]
    },
    {
     "data": {
      "text/markdown": [
       "`(0.959)` i need to hav sm good **time** spent with my gf .. in kerala .. in which all places in kerala shal i expect ambience and privacy for making love .. pls help . thank you"
      ],
      "text/plain": [
       "<IPython.core.display.Markdown object>"
      ]
     },
     "metadata": {},
     "output_type": "display_data"
    },
    {
     "data": {
      "text/markdown": [
       "`(0.945)` After several **years** of use , we arrive at the present day when the village people have suddenly discovered the fertilizer is actually the bottling plant 's waste sludge and is laden with cadmium , a highly toxic , cancer - causing heavy metal ."
      ],
      "text/plain": [
       "<IPython.core.display.Markdown object>"
      ]
     },
     "metadata": {},
     "output_type": "display_data"
    },
    {
     "data": {
      "text/markdown": [
       "`(0.941)` I have not had good **experience** with travel agents ."
      ],
      "text/plain": [
       "<IPython.core.display.Markdown object>"
      ]
     },
     "metadata": {},
     "output_type": "display_data"
    },
    {
     "data": {
      "text/markdown": [
       "`(0.939)` Frequent travelers and executives are among the masses that get a **lot** of discount in the airfare ."
      ],
      "text/plain": [
       "<IPython.core.display.Markdown object>"
      ]
     },
     "metadata": {},
     "output_type": "display_data"
    },
    {
     "data": {
      "text/markdown": [
       "`(0.934)` They 'll tell you one **thing** then $ 5,000 later do another ."
      ],
      "text/plain": [
       "<IPython.core.display.Markdown object>"
      ]
     },
     "metadata": {},
     "output_type": "display_data"
    },
    {
     "data": {
      "text/markdown": [
       "`(0.929)` Rumsfeld , Wolfowitz and Feith staffed the CPA with Neoconservatives , most of whom had no administrative **experience** , no Arabic , and no respect for Muslim culture ( or knowledge about it ) ."
      ],
      "text/plain": [
       "<IPython.core.display.Markdown object>"
      ]
     },
     "metadata": {},
     "output_type": "display_data"
    },
    {
     "data": {
      "text/markdown": [
       "`(0.913)` In the eastern city of Baqubah , guerrillas detonated a car bomb outside a police station , killing several **people** ."
      ],
      "text/plain": [
       "<IPython.core.display.Markdown object>"
      ]
     },
     "metadata": {},
     "output_type": "display_data"
    },
    {
     "data": {
      "text/markdown": [
       "`(0.912)` okay so i live in San Rafael Ca like by the mi pueble and the Home Depot .. what are fun **things** to do around there ?"
      ],
      "text/plain": [
       "<IPython.core.display.Markdown object>"
      ]
     },
     "metadata": {},
     "output_type": "display_data"
    },
    {
     "data": {
      "text/markdown": [
       "`(0.909)` They offer a large **variety** of quality hotdogs and hamburgers They also offer veggie dogs ."
      ],
      "text/plain": [
       "<IPython.core.display.Markdown object>"
      ]
     },
     "metadata": {},
     "output_type": "display_data"
    },
    {
     "data": {
      "text/markdown": [
       "`(0.908)` Now , I would argue that one could have reasonably predicted that some form of military **violence** was likely to occur in Lebanon ( considering that the country has been experiencing some form of conflict for approximately the last 32 years ) ."
      ],
      "text/plain": [
       "<IPython.core.display.Markdown object>"
      ]
     },
     "metadata": {},
     "output_type": "display_data"
    },
    {
     "name": "stdout",
     "output_type": "stream",
     "text": [
      "Ess\t50\n"
     ]
    },
    {
     "data": {
      "text/markdown": [
       "`(0.960)` This is unlike the situation last **year** in Asia when we evacuated U.S. citizens from areas that were hit by the tsunami - a phenomenon that is much less predictable than the Hezbollah - provoked destruction that rained down on Lebanon ."
      ],
      "text/plain": [
       "<IPython.core.display.Markdown object>"
      ]
     },
     "metadata": {},
     "output_type": "display_data"
    },
    {
     "data": {
      "text/markdown": [
       "`(0.878)` It 's not quite as freewheeling an environment as you 'd imagine : Sergey Brin has actually created a mathematical ' proof ' that the company 's self - driven research strategy , which gives employees one **day** a week to do research projects on their own , is a good , respectable idea ."
      ],
      "text/plain": [
       "<IPython.core.display.Markdown object>"
      ]
     },
     "metadata": {},
     "output_type": "display_data"
    },
    {
     "data": {
      "text/markdown": [
       "`(0.843)` The end of the **year** is a time for compiling statistics - and according to the World Conservation Union ( IUCN ) , the year 2003 has been bad news for plants and non-human animals , with many species now closer to extinction than ever before ."
      ],
      "text/plain": [
       "<IPython.core.display.Markdown object>"
      ]
     },
     "metadata": {},
     "output_type": "display_data"
    },
    {
     "data": {
      "text/markdown": [
       "`(0.829)` Some countries like Malaysia and Singapore promote trading for foreign visitors during some part of the **year** ."
      ],
      "text/plain": [
       "<IPython.core.display.Markdown object>"
      ]
     },
     "metadata": {},
     "output_type": "display_data"
    },
    {
     "data": {
      "text/markdown": [
       "`(0.809)` i am from mexico traveling to san francisco california one **week** i wan na meet american girls there where i can find them ?"
      ],
      "text/plain": [
       "<IPython.core.display.Markdown object>"
      ]
     },
     "metadata": {},
     "output_type": "display_data"
    },
    {
     "data": {
      "text/markdown": [
       "`(0.803)` The hottest item on Christmas wish lists this **year** is nuclear weapons ."
      ],
      "text/plain": [
       "<IPython.core.display.Markdown object>"
      ]
     },
     "metadata": {},
     "output_type": "display_data"
    },
    {
     "data": {
      "text/markdown": [
       "`(0.796)` In this case , following the talent leads me to think that Google will be making an announcement this **year** that formalizes the Google - Mozilla / Firefox relationship ."
      ],
      "text/plain": [
       "<IPython.core.display.Markdown object>"
      ]
     },
     "metadata": {},
     "output_type": "display_data"
    },
    {
     "data": {
      "text/markdown": [
       "`(0.795)` As such , we will distribute net shares calculating the proper withholding at fair market value the **day** prior to notifying the transfer agent ."
      ],
      "text/plain": [
       "<IPython.core.display.Markdown object>"
      ]
     },
     "metadata": {},
     "output_type": "display_data"
    },
    {
     "data": {
      "text/markdown": [
       "`(0.787)` Last **month** , Katrina devastated refineries in Louisiana and Mississippi and sent prices to a record high of 70.85 dollars a barrel ."
      ],
      "text/plain": [
       "<IPython.core.display.Markdown object>"
      ]
     },
     "metadata": {},
     "output_type": "display_data"
    },
    {
     "data": {
      "text/markdown": [
       "`(0.777)` The way the tax law works , the tax basis for your share distribution will be based on the closing stock price the **day** preceding notification to the transfer agent ."
      ],
      "text/plain": [
       "<IPython.core.display.Markdown object>"
      ]
     },
     "metadata": {},
     "output_type": "display_data"
    },
    {
     "name": "stdout",
     "output_type": "stream",
     "text": [
      "Tra\t4\n"
     ]
    },
    {
     "data": {
      "text/markdown": [
       "`(0.568)` While there have been spasms of speculation about the Bush administration naming a **replacement** for O'Keefe , no nominee has been declared ."
      ],
      "text/plain": [
       "<IPython.core.display.Markdown object>"
      ]
     },
     "metadata": {},
     "output_type": "display_data"
    },
    {
     "data": {
      "text/markdown": [
       "`(0.352)` In **exchange** for sucking vast amounts of water out of the local land , the mighty corporation promised to bring the people great wealth ."
      ],
      "text/plain": [
       "<IPython.core.display.Markdown object>"
      ]
     },
     "metadata": {},
     "output_type": "display_data"
    },
    {
     "data": {
      "text/markdown": [
       "`(0.256)` I recently converted this test to an online test in **order** to norm it to a larger population and , subsequently , to make it available to any one who has access to a computer and the Internet ."
      ],
      "text/plain": [
       "<IPython.core.display.Markdown object>"
      ]
     },
     "metadata": {},
     "output_type": "display_data"
    },
    {
     "data": {
      "text/markdown": [
       "`(0.241)` Good day , I 'm a foreigner living in malaysia , german citizen , 21 years of age , I was wondering if air asia recruits **foreigners** ?"
      ],
      "text/plain": [
       "<IPython.core.display.Markdown object>"
      ]
     },
     "metadata": {},
     "output_type": "display_data"
    },
    {
     "data": {
      "text/markdown": [
       "`(0.224)` Thanks for fixing my garage **door** A ++++++++++++++++++"
      ],
      "text/plain": [
       "<IPython.core.display.Markdown object>"
      ]
     },
     "metadata": {},
     "output_type": "display_data"
    },
    {
     "data": {
      "text/markdown": [
       "`(0.186)` Good day , I 'm a **foreigner** living in malaysia , german citizen , 21 years of age , I was wondering if air asia recruits foreigners ?"
      ],
      "text/plain": [
       "<IPython.core.display.Markdown object>"
      ]
     },
     "metadata": {},
     "output_type": "display_data"
    },
    {
     "data": {
      "text/markdown": [
       "`(0.172)` I have used them once and will use them in the **future** ."
      ],
      "text/plain": [
       "<IPython.core.display.Markdown object>"
      ]
     },
     "metadata": {},
     "output_type": "display_data"
    },
    {
     "data": {
      "text/markdown": [
       "`(0.168)` Guerrillas threatened to assassinate Prime Minister Iyad Allawi and Minister of Defense Hazem Shaalan in **retaliation** for the attack ."
      ],
      "text/plain": [
       "<IPython.core.display.Markdown object>"
      ]
     },
     "metadata": {},
     "output_type": "display_data"
    },
    {
     "data": {
      "text/markdown": [
       "`(0.133)` \" The book -- I guess one **way** , one thing to think about it is -- one of the themes would be , I was given a charge to keep ."
      ],
      "text/plain": [
       "<IPython.core.display.Markdown object>"
      ]
     },
     "metadata": {},
     "output_type": "display_data"
    },
    {
     "data": {
      "text/markdown": [
       "`(0.132)` Normally this author is semi-objective ( what blogger is ) but on the Seattlepi.com ( see source link ) Palestinian Leader Mahmoud Abbas has demanded that Israel leave all the land that it occupies before the 1967 border ( which includes East Jerusalem by the **way** ) ."
      ],
      "text/plain": [
       "<IPython.core.display.Markdown object>"
      ]
     },
     "metadata": {},
     "output_type": "display_data"
    },
    {
     "name": "stdout",
     "output_type": "stream",
     "text": [
      "Com\t0\n"
     ]
    },
    {
     "data": {
      "text/markdown": [
       "`(0.180)` It is true that Google has been in acquisition **mode** ."
      ],
      "text/plain": [
       "<IPython.core.display.Markdown object>"
      ]
     },
     "metadata": {},
     "output_type": "display_data"
    },
    {
     "data": {
      "text/markdown": [
       "`(0.145)` From first meeting with them to launch of my website , everything went smooth and on **schedule** ."
      ],
      "text/plain": [
       "<IPython.core.display.Markdown object>"
      ]
     },
     "metadata": {},
     "output_type": "display_data"
    },
    {
     "data": {
      "text/markdown": [
       "`(0.091)` It has two parts , both of which are timed for 90 seconds each and the differential between the resulting two scores determines the likelihood of having a learning **disability** or attention deficit disorder ."
      ],
      "text/plain": [
       "<IPython.core.display.Markdown object>"
      ]
     },
     "metadata": {},
     "output_type": "display_data"
    },
    {
     "data": {
      "text/markdown": [
       "`(0.091)` At the same **time** , an Iranian Opposition Group released what they call proof of a covert nuclear weapons program ."
      ],
      "text/plain": [
       "<IPython.core.display.Markdown object>"
      ]
     },
     "metadata": {},
     "output_type": "display_data"
    },
    {
     "data": {
      "text/markdown": [
       "`(0.090)` \" It 's not cost - effective doing station flights while at the same **time** focusing on getting back to the Moon , \" says Brett Alexander , vice-president of Transformational Space , one of the companies hoping to launch astronauts to the ISS ."
      ],
      "text/plain": [
       "<IPython.core.display.Markdown object>"
      ]
     },
     "metadata": {},
     "output_type": "display_data"
    },
    {
     "data": {
      "text/markdown": [
       "`(0.087)` Shuttle veteran and longtime NASA executive Fred Gregory is temporarily at the helm of the 18,000 - **person** agency ."
      ],
      "text/plain": [
       "<IPython.core.display.Markdown object>"
      ]
     },
     "metadata": {},
     "output_type": "display_data"
    },
    {
     "data": {
      "text/markdown": [
       "`(0.087)` I was unsure of what he should wear , it says business **casual** but that can be interpreted in many different ways ."
      ],
      "text/plain": [
       "<IPython.core.display.Markdown object>"
      ]
     },
     "metadata": {},
     "output_type": "display_data"
    },
    {
     "data": {
      "text/markdown": [
       "`(0.085)` But seeing how the private sector has been able to successfully transport civilians to the ISS ( at about a fifth of the cost ) , it would come to no **surprise** if corporate America was able to out perform their bureaucratic friends in government ."
      ],
      "text/plain": [
       "<IPython.core.display.Markdown object>"
      ]
     },
     "metadata": {},
     "output_type": "display_data"
    },
    {
     "data": {
      "text/markdown": [
       "`(0.081)` Normally this author is semi-objective ( what blogger is ) but on the Seattlepi.com ( see source link ) Palestinian Leader Mahmoud Abbas has demanded that Israel leave all the land that it occupies before the 1967 border ( which includes East Jerusalem by the **way** ) ."
      ],
      "text/plain": [
       "<IPython.core.display.Markdown object>"
      ]
     },
     "metadata": {},
     "output_type": "display_data"
    },
    {
     "data": {
      "text/markdown": [
       "`(0.081)` I am expecting to pay something in the $ 3, to $ 5,000 **range** ."
      ],
      "text/plain": [
       "<IPython.core.display.Markdown object>"
      ]
     },
     "metadata": {},
     "output_type": "display_data"
    },
    {
     "name": "stdout",
     "output_type": "stream",
     "text": [
      "Abe\t0\n"
     ]
    },
    {
     "data": {
      "text/markdown": [
       "`(0.073)` One **answer** is that the Pentagon prevented the State Department from running the CPA ."
      ],
      "text/plain": [
       "<IPython.core.display.Markdown object>"
      ]
     },
     "metadata": {},
     "output_type": "display_data"
    },
    {
     "data": {
      "text/markdown": [
       "`(0.072)` If Samarra and other cities are any guide , those pockets of resistance could go on bedeviling the US for some **time** to come ."
      ],
      "text/plain": [
       "<IPython.core.display.Markdown object>"
      ]
     },
     "metadata": {},
     "output_type": "display_data"
    },
    {
     "data": {
      "text/markdown": [
       "`(0.071)` The multiple planetary afflictions are taking their **toll** ."
      ],
      "text/plain": [
       "<IPython.core.display.Markdown object>"
      ]
     },
     "metadata": {},
     "output_type": "display_data"
    },
    {
     "data": {
      "text/markdown": [
       "`(0.056)` The interim Governing Council issued a communique saying , \" It is a **proof** of the emptiness of the Israeli authority and a destruction of the peace endeavors in the region . . ."
      ],
      "text/plain": [
       "<IPython.core.display.Markdown object>"
      ]
     },
     "metadata": {},
     "output_type": "display_data"
    },
    {
     "data": {
      "text/markdown": [
       "`(0.055)` But seeing how the private sector has been able to successfully transport civilians to the ISS ( at about a fifth of the cost ) , it would come to no **surprise** if corporate America was able to out perform their bureaucratic friends in government ."
      ],
      "text/plain": [
       "<IPython.core.display.Markdown object>"
      ]
     },
     "metadata": {},
     "output_type": "display_data"
    },
    {
     "data": {
      "text/markdown": [
       "`(0.054)` In Indian national chart besides the transit affliction to transit Mercury by Rahu and Venus the natal Saturn and Venus are also under the transit affliction of Rahu which has resulted into floods in many parts of the country taking **toll** of human lives , properties , etc ."
      ],
      "text/plain": [
       "<IPython.core.display.Markdown object>"
      ]
     },
     "metadata": {},
     "output_type": "display_data"
    },
    {
     "data": {
      "text/markdown": [
       "`(0.047)` I ve been dating a man from brittany france for a **couple** of months now ."
      ],
      "text/plain": [
       "<IPython.core.display.Markdown object>"
      ]
     },
     "metadata": {},
     "output_type": "display_data"
    },
    {
     "data": {
      "text/markdown": [
       "`(0.047)` As long as you are a gentleman and treat them with respect they wo n't have any **problem** talking with you and your nationality will have nothing to do with how they treat you ."
      ],
      "text/plain": [
       "<IPython.core.display.Markdown object>"
      ]
     },
     "metadata": {},
     "output_type": "display_data"
    },
    {
     "data": {
      "text/markdown": [
       "`(0.046)` badger baiting is natrually a huge turn **on** , so i thought a few words in this group might uncover some mutual enthusiasts ."
      ],
      "text/plain": [
       "<IPython.core.display.Markdown object>"
      ]
     },
     "metadata": {},
     "output_type": "display_data"
    },
    {
     "data": {
      "text/markdown": [
       "`(0.042)` Just make a **list** of reasons why you like the job and do a little bit of internet searching to see what people have to say about being in the job ."
      ],
      "text/plain": [
       "<IPython.core.display.Markdown object>"
      ]
     },
     "metadata": {},
     "output_type": "display_data"
    },
    {
     "name": "stdout",
     "output_type": "stream",
     "text": [
      "Ine\t64\n"
     ]
    },
    {
     "data": {
      "text/markdown": [
       "`(0.956)` In most **cases** , our address is composed of conventional first name and last name plus @paulhastings.com ."
      ],
      "text/plain": [
       "<IPython.core.display.Markdown object>"
      ]
     },
     "metadata": {},
     "output_type": "display_data"
    },
    {
     "data": {
      "text/markdown": [
       "`(0.909)` It seems clear to me that the manhunt for high Baath officials in the Sunni heartland is being done wrong , or at least in **ways** that are bad for US standing with local Iraqis ."
      ],
      "text/plain": [
       "<IPython.core.display.Markdown object>"
      ]
     },
     "metadata": {},
     "output_type": "display_data"
    },
    {
     "data": {
      "text/markdown": [
       "`(0.892)` I was unsure of what he should wear , it says business casual but that can be interpreted in many different **ways** ."
      ],
      "text/plain": [
       "<IPython.core.display.Markdown object>"
      ]
     },
     "metadata": {},
     "output_type": "display_data"
    },
    {
     "data": {
      "text/markdown": [
       "`(0.856)` In Iraqi **society** , PM Allawi is responsible for protecting his clan , including especially his first cousins , so this kidnapping makes him look weak and brings substantial shame on him ."
      ],
      "text/plain": [
       "<IPython.core.display.Markdown object>"
      ]
     },
     "metadata": {},
     "output_type": "display_data"
    },
    {
     "data": {
      "text/markdown": [
       "`(0.845)` So I may as well just come out with it : It is pretty suspicious , given the Neocon predominance in the CPA and in the upper **reaches** of the Defense Department that on April 2 AP reported of Muqtada :"
      ],
      "text/plain": [
       "<IPython.core.display.Markdown object>"
      ]
     },
     "metadata": {},
     "output_type": "display_data"
    },
    {
     "data": {
      "text/markdown": [
       "`(0.832)` We go over about 5 **times** a year ."
      ],
      "text/plain": [
       "<IPython.core.display.Markdown object>"
      ]
     },
     "metadata": {},
     "output_type": "display_data"
    },
    {
     "data": {
      "text/markdown": [
       "`(0.815)` In this **case** , following the talent leads me to think that Google will be making an announcement this year that formalizes the Google - Mozilla / Firefox relationship ."
      ],
      "text/plain": [
       "<IPython.core.display.Markdown object>"
      ]
     },
     "metadata": {},
     "output_type": "display_data"
    },
    {
     "data": {
      "text/markdown": [
       "`(0.812)` It says business casual but I know this can be interpreted in many **ways** ."
      ],
      "text/plain": [
       "<IPython.core.display.Markdown object>"
      ]
     },
     "metadata": {},
     "output_type": "display_data"
    },
    {
     "data": {
      "text/markdown": [
       "`(0.793)` Simply type in the following United Way link , http://unitedway.enron.com or go directly to Internet Explorer or Netscape and type in unitedway.enron.com in the address **field** ."
      ],
      "text/plain": [
       "<IPython.core.display.Markdown object>"
      ]
     },
     "metadata": {},
     "output_type": "display_data"
    },
    {
     "data": {
      "text/markdown": [
       "`(0.746)` But seeing how the private sector has been able to successfully transport civilians to the ISS ( at about a fifth of the cost ) , it would come to no surprise if corporate America was able to out perform their bureaucratic friends in **government** ."
      ],
      "text/plain": [
       "<IPython.core.display.Markdown object>"
      ]
     },
     "metadata": {},
     "output_type": "display_data"
    },
    {
     "name": "stdout",
     "output_type": "stream",
     "text": [
      "Ill\t12\n"
     ]
    },
    {
     "data": {
      "text/markdown": [
       "`(0.791)` Although some may praise this as an opportunity for the private sector to finally serve the public good , NASA seems hesitant about turning over the reigns to the corporate **world** ."
      ],
      "text/plain": [
       "<IPython.core.display.Markdown object>"
      ]
     },
     "metadata": {},
     "output_type": "display_data"
    },
    {
     "data": {
      "text/markdown": [
       "`(0.782)` The US lost yet another helicopter to hostile **fire** near Habbaniyah in the Sunni heartland , but this time the crew was safe ."
      ],
      "text/plain": [
       "<IPython.core.display.Markdown object>"
      ]
     },
     "metadata": {},
     "output_type": "display_data"
    },
    {
     "data": {
      "text/markdown": [
       "`(0.720)` \" I have said and I repeat my expression of solidarity which Hassan Nasrallah called for to stand with Hamas , \" Shiite cleric Muqtada al - Sadr said Friday in a reference to Nasrallah , the leader of the militant Lebanese Shiite **group** Hezbollah ."
      ],
      "text/plain": [
       "<IPython.core.display.Markdown object>"
      ]
     },
     "metadata": {},
     "output_type": "display_data"
    },
    {
     "data": {
      "text/markdown": [
       "`(0.542)` Try the 360 restraunt u spin in the cn tower with a beautiful view the sky pod elevator is about an hour line **up** in the summer"
      ],
      "text/plain": [
       "<IPython.core.display.Markdown object>"
      ]
     },
     "metadata": {},
     "output_type": "display_data"
    },
    {
     "data": {
      "text/markdown": [
       "`(0.509)` The sheikh in wheel - **chair** has been attacked with a F - 16 - launched bomb ."
      ],
      "text/plain": [
       "<IPython.core.display.Markdown object>"
      ]
     },
     "metadata": {},
     "output_type": "display_data"
    },
    {
     "data": {
      "text/markdown": [
       "`(0.488)` If the Israelis and the Palestinian leadership can not find a way to reinvigorate the peace process , cells of radical young Palestinians may grow up that look to bin Laden for their **cues** ."
      ],
      "text/plain": [
       "<IPython.core.display.Markdown object>"
      ]
     },
     "metadata": {},
     "output_type": "display_data"
    },
    {
     "data": {
      "text/markdown": [
       "`(0.449)` Right now , we are in the process of evaluating both our new hire needs and our summer **needs** and will be making those decisions after the first of the year ."
      ],
      "text/plain": [
       "<IPython.core.display.Markdown object>"
      ]
     },
     "metadata": {},
     "output_type": "display_data"
    },
    {
     "data": {
      "text/markdown": [
       "`(0.343)` I 'm inclined to say that google is doing what they can to both shape and support the growth of the most popular non-Microsoft browser out there - by taking on the leading lights in Firefox development , they 're ensuring the continued life of the project , and ensuring ( not that I think they need to ) that their voice will be heard admidst the higher **echelons** of the firefox development team ."
      ],
      "text/plain": [
       "<IPython.core.display.Markdown object>"
      ]
     },
     "metadata": {},
     "output_type": "display_data"
    },
    {
     "data": {
      "text/markdown": [
       "`(0.329)` The current complaints allege that HANO has not provided qualified former St. Thomas residents a preference with respect to available public housing **units** at River Garden per the 2003 agreement ."
      ],
      "text/plain": [
       "<IPython.core.display.Markdown object>"
      ]
     },
     "metadata": {},
     "output_type": "display_data"
    },
    {
     "data": {
      "text/markdown": [
       "`(0.322)` If they continue to add features so they can justify their likely sky - high valuation , Google risks losing a huge chunk of their customer base to the next keep - it - simple search **engine** ."
      ],
      "text/plain": [
       "<IPython.core.display.Markdown object>"
      ]
     },
     "metadata": {},
     "output_type": "display_data"
    },
    {
     "name": "stdout",
     "output_type": "stream",
     "text": [
      "Ela\t11\n"
     ]
    },
    {
     "data": {
      "text/markdown": [
       "`(0.713)` \" It 's not **cost** - effective doing station flights while at the same time focusing on getting back to the Moon , \" says Brett Alexander , vice-president of Transformational Space , one of the companies hoping to launch astronauts to the ISS ."
      ],
      "text/plain": [
       "<IPython.core.display.Markdown object>"
      ]
     },
     "metadata": {},
     "output_type": "display_data"
    },
    {
     "data": {
      "text/markdown": [
       "`(0.690)` Crap like this sure makes me want to rush right out and rescue people from dilemmas of their own **making** ."
      ],
      "text/plain": [
       "<IPython.core.display.Markdown object>"
      ]
     },
     "metadata": {},
     "output_type": "display_data"
    },
    {
     "data": {
      "text/markdown": [
       "`(0.690)` In **fact** you just do n't want to be involved in any arguments of any shape or form ..."
      ],
      "text/plain": [
       "<IPython.core.display.Markdown object>"
      ]
     },
     "metadata": {},
     "output_type": "display_data"
    },
    {
     "data": {
      "text/markdown": [
       "`(0.607)` \" Though we do not deny that **fact** that Jews were killed in the ( second world ) war , why should the Palestinians pay for it ? \""
      ],
      "text/plain": [
       "<IPython.core.display.Markdown object>"
      ]
     },
     "metadata": {},
     "output_type": "display_data"
    },
    {
     "data": {
      "text/markdown": [
       "`(0.412)` In **fact** Peder and I were remarking on how agreeable they all are as the sucked on our balls last night ."
      ],
      "text/plain": [
       "<IPython.core.display.Markdown object>"
      ]
     },
     "metadata": {},
     "output_type": "display_data"
    },
    {
     "data": {
      "text/markdown": [
       "`(0.391)` They came through on all of their **promises** and we had a very successful day ."
      ],
      "text/plain": [
       "<IPython.core.display.Markdown object>"
      ]
     },
     "metadata": {},
     "output_type": "display_data"
    },
    {
     "data": {
      "text/markdown": [
       "`(0.388)` But seeing how the private sector has been able to successfully transport civilians to the ISS ( at about a fifth of the **cost** ) , it would come to no surprise if corporate America was able to out perform their bureaucratic friends in government ."
      ],
      "text/plain": [
       "<IPython.core.display.Markdown object>"
      ]
     },
     "metadata": {},
     "output_type": "display_data"
    },
    {
     "data": {
      "text/markdown": [
       "`(0.383)` The way the **tax** law works , the tax basis for your share distribution will be based on the closing stock price the day preceding notification to the transfer agent ."
      ],
      "text/plain": [
       "<IPython.core.display.Markdown object>"
      ]
     },
     "metadata": {},
     "output_type": "display_data"
    },
    {
     "data": {
      "text/markdown": [
       "`(0.305)` Therefore , public housing residents have been unable to secure the units for which they qualified prior to the storm and are left homeless , as a **result** ."
      ],
      "text/plain": [
       "<IPython.core.display.Markdown object>"
      ]
     },
     "metadata": {},
     "output_type": "display_data"
    },
    {
     "data": {
      "text/markdown": [
       "`(0.292)` North Korea ’s Kim Jong Ill also has the bomb at the top of his **list** and Santa seems to have already come a few years ago ."
      ],
      "text/plain": [
       "<IPython.core.display.Markdown object>"
      ]
     },
     "metadata": {},
     "output_type": "display_data"
    },
    {
     "name": "stdout",
     "output_type": "stream",
     "text": [
      "Ade\t40\n"
     ]
    },
    {
     "data": {
      "text/markdown": [
       "`(0.892)` Where it risks fighting dual Sunni Arab and Shiite insurgencies simultaneously , at a time when US troops are rotating on a massive **scale** and hoping to downsize their forces in country ?"
      ],
      "text/plain": [
       "<IPython.core.display.Markdown object>"
      ]
     },
     "metadata": {},
     "output_type": "display_data"
    },
    {
     "data": {
      "text/markdown": [
       "`(0.769)` Hamas has become rather unpopular in Gaza , as many see the Israeli air strikes as a response towards the rocket attacks upon Israeli **soil** ."
      ],
      "text/plain": [
       "<IPython.core.display.Markdown object>"
      ]
     },
     "metadata": {},
     "output_type": "display_data"
    },
    {
     "data": {
      "text/markdown": [
       "`(0.752)` just call me on my cell **phone** ."
      ],
      "text/plain": [
       "<IPython.core.display.Markdown object>"
      ]
     },
     "metadata": {},
     "output_type": "display_data"
    },
    {
     "data": {
      "text/markdown": [
       "`(0.726)` I 've tried calling them a week ago , they said they ca n't give me those details over the **phone** , or let me know , keep asking me to go to some website , but there 's nothing useful on it"
      ],
      "text/plain": [
       "<IPython.core.display.Markdown object>"
      ]
     },
     "metadata": {},
     "output_type": "display_data"
    },
    {
     "data": {
      "text/markdown": [
       "`(0.691)` by the way , buy it now b/c it is going to 100 by year **end** ."
      ],
      "text/plain": [
       "<IPython.core.display.Markdown object>"
      ]
     },
     "metadata": {},
     "output_type": "display_data"
    },
    {
     "data": {
      "text/markdown": [
       "`(0.689)` the following **weekend** i will be ready to rock ."
      ],
      "text/plain": [
       "<IPython.core.display.Markdown object>"
      ]
     },
     "metadata": {},
     "output_type": "display_data"
    },
    {
     "data": {
      "text/markdown": [
       "`(0.679)` Though I am loathe to quote other writers at legnth in this **space** , this little bit from Dan Froomkin 's \" White House Briefing \" column in the WashPost today is just too good to pass up ( read the whole column here ) :"
      ],
      "text/plain": [
       "<IPython.core.display.Markdown object>"
      ]
     },
     "metadata": {},
     "output_type": "display_data"
    },
    {
     "data": {
      "text/markdown": [
       "`(0.665)` 2 ) I would like to say on a **island** with an a ) all inclusive resort ( if possible ) , and a beach front room"
      ],
      "text/plain": [
       "<IPython.core.display.Markdown object>"
      ]
     },
     "metadata": {},
     "output_type": "display_data"
    },
    {
     "data": {
      "text/markdown": [
       "`(0.646)` Perfect since I 'm on a **budget** ."
      ],
      "text/plain": [
       "<IPython.core.display.Markdown object>"
      ]
     },
     "metadata": {},
     "output_type": "display_data"
    },
    {
     "data": {
      "text/markdown": [
       "`(0.634)` Come visit irc server : irc.yankeedot.net and join **#** audiobooks for sharing , discussion and a great trivia game ! large selection of fiction , science fiction and best sellers ."
      ],
      "text/plain": [
       "<IPython.core.display.Markdown object>"
      ]
     },
     "metadata": {},
     "output_type": "display_data"
    },
    {
     "name": "stdout",
     "output_type": "stream",
     "text": [
      "All\t9\n"
     ]
    },
    {
     "data": {
      "text/markdown": [
       "`(0.843)` It is my understanding , from good sources in the Gov s **office** that the Gov will order Loretta Lynch to expeditiously implement the provision to suspend all parties auhtority to enter into direct access contracts ."
      ],
      "text/plain": [
       "<IPython.core.display.Markdown object>"
      ]
     },
     "metadata": {},
     "output_type": "display_data"
    },
    {
     "data": {
      "text/markdown": [
       "`(0.519)` Myself and Credit were calling in and none of the calls rolled into voice **mail** ( ? ) ."
      ],
      "text/plain": [
       "<IPython.core.display.Markdown object>"
      ]
     },
     "metadata": {},
     "output_type": "display_data"
    },
    {
     "data": {
      "text/markdown": [
       "`(0.518)` Clean rooms , great for the price and cheapest on the **exit** ."
      ],
      "text/plain": [
       "<IPython.core.display.Markdown object>"
      ]
     },
     "metadata": {},
     "output_type": "display_data"
    },
    {
     "data": {
      "text/markdown": [
       "`(0.458)` Compare to last decade this University is gaining more prestige in International **level**"
      ],
      "text/plain": [
       "<IPython.core.display.Markdown object>"
      ]
     },
     "metadata": {},
     "output_type": "display_data"
    },
    {
     "data": {
      "text/markdown": [
       "`(0.414)` Try the 360 restraunt u spin in the cn tower with a beautiful view the sky pod elevator is about an hour **line** up in the summer"
      ],
      "text/plain": [
       "<IPython.core.display.Markdown object>"
      ]
     },
     "metadata": {},
     "output_type": "display_data"
    },
    {
     "data": {
      "text/markdown": [
       "`(0.404)` The former Iraqi leader Saddam Hussein is refusing to enter the Baghdad **courtroom** , in protest at how his trial is being conducted ."
      ],
      "text/plain": [
       "<IPython.core.display.Markdown object>"
      ]
     },
     "metadata": {},
     "output_type": "display_data"
    },
    {
     "data": {
      "text/markdown": [
       "`(0.360)` I recently converted this test to an online test in order to norm it to a larger **population** and , subsequently , to make it available to any one who has access to a computer and the Internet ."
      ],
      "text/plain": [
       "<IPython.core.display.Markdown object>"
      ]
     },
     "metadata": {},
     "output_type": "display_data"
    },
    {
     "data": {
      "text/markdown": [
       "`(0.350)` I have visited Dr. Cooper 's **office** twice and I am very impressed with how friendly and polite the staff is ."
      ],
      "text/plain": [
       "<IPython.core.display.Markdown object>"
      ]
     },
     "metadata": {},
     "output_type": "display_data"
    },
    {
     "data": {
      "text/markdown": [
       "`(0.319)` High guality pup food at a good **price** ."
      ],
      "text/plain": [
       "<IPython.core.display.Markdown object>"
      ]
     },
     "metadata": {},
     "output_type": "display_data"
    },
    {
     "data": {
      "text/markdown": [
       "`(0.302)` The US troops fired into the hostile **crowd** , killing 4 ."
      ],
      "text/plain": [
       "<IPython.core.display.Markdown object>"
      ]
     },
     "metadata": {},
     "output_type": "display_data"
    },
    {
     "name": "stdout",
     "output_type": "stream",
     "text": [
      "Abl\t5\n"
     ]
    },
    {
     "data": {
      "text/markdown": [
       "`(0.432)` \" We 're not happy with Hamas 's position at this **stage** and in light of the Israeli escalation against the Palestinians , \" commented Khader Habib , a senior Islamic Jihad official ."
      ],
      "text/plain": [
       "<IPython.core.display.Markdown object>"
      ]
     },
     "metadata": {},
     "output_type": "display_data"
    },
    {
     "data": {
      "text/markdown": [
       "`(0.387)` Raw data is on the fisrt tab of the file to the **right** ."
      ],
      "text/plain": [
       "<IPython.core.display.Markdown object>"
      ]
     },
     "metadata": {},
     "output_type": "display_data"
    },
    {
     "data": {
      "text/markdown": [
       "`(0.371)` Vangie McGilloway Constellation Power Source , Inc. ( \" CPS \" ) 111 Market Place **Ste** 500 Baltimore , MD 21202 Phone 410-468-3798 Fax 410-468-3499 Email vangie.mcgilloway@powersrc.com"
      ],
      "text/plain": [
       "<IPython.core.display.Markdown object>"
      ]
     },
     "metadata": {},
     "output_type": "display_data"
    },
    {
     "data": {
      "text/markdown": [
       "`(0.297)` John Staikos Direct Dial :? 203.961.7523 Direct **Fax** :? 203.674.7723 E-mail :? johnstaikos@paulhastings.com"
      ],
      "text/plain": [
       "<IPython.core.display.Markdown object>"
      ]
     },
     "metadata": {},
     "output_type": "display_data"
    },
    {
     "data": {
      "text/markdown": [
       "`(0.288)` Miramar California is a **bit** north of San Diego ."
      ],
      "text/plain": [
       "<IPython.core.display.Markdown object>"
      ]
     },
     "metadata": {},
     "output_type": "display_data"
    },
    {
     "data": {
      "text/markdown": [
       "`(0.277)` But if -- there 's a painting on the **wall** in the Oval Office that shows a horseman charging up a steep cliff , and there are at least two other horsemen following ."
      ],
      "text/plain": [
       "<IPython.core.display.Markdown object>"
      ]
     },
     "metadata": {},
     "output_type": "display_data"
    },
    {
     "data": {
      "text/markdown": [
       "`(0.268)` The US National Hurricane Center said Rita was \" extremely dangerous \" and could become a top - level category five storm on the Saffir - Simpson **scale** ."
      ],
      "text/plain": [
       "<IPython.core.display.Markdown object>"
      ]
     },
     "metadata": {},
     "output_type": "display_data"
    },
    {
     "data": {
      "text/markdown": [
       "`(0.260)` Normally this author is semi-objective ( what blogger is ) but on the Seattlepi.com ( see source link ) Palestinian Leader Mahmoud Abbas has demanded that Israel leave all the land that it occupies before the 1967 border ( which includes East Jerusalem by the **way** ) ."
      ],
      "text/plain": [
       "<IPython.core.display.Markdown object>"
      ]
     },
     "metadata": {},
     "output_type": "display_data"
    },
    {
     "data": {
      "text/markdown": [
       "`(0.243)` In addition , I received feedback from our Gas Desk that the access to the Gas **segment** of Enron On - Line was cut off to CPS --- do you know who would handle this at Enron that we can speak to ?"
      ],
      "text/plain": [
       "<IPython.core.display.Markdown object>"
      ]
     },
     "metadata": {},
     "output_type": "display_data"
    },
    {
     "data": {
      "text/markdown": [
       "`(0.228)` It 's on loan , by the **way** , from a guy named Joe O'Neill in Midland , Texas ."
      ],
      "text/plain": [
       "<IPython.core.display.Markdown object>"
      ]
     },
     "metadata": {},
     "output_type": "display_data"
    }
   ],
   "source": [
    "for idx, (case, num) in enumerate(zip(CASES, torch.bincount(en_best_labels.int()))):\n",
    "  print(f\"{case}\\t{num}\")\n",
    "#   if num == 0: continue\n",
    "  for (sentence, sent_idx, _), score in zip(en_extra[np.argsort(-en_outputs[:, idx])][:10], en_outputs[np.argsort(-en_outputs[:, idx]), idx][:10]):\n",
    "      sent_idx = int(sent_idx)\n",
    "      words = sentence.split(' ')\n",
    "      words[sent_idx] = \"**\" + words[sent_idx] + \"**\"\n",
    "      words = \" \".join(words)\n",
    "      words = f\"`({np.exp(score):5.3f})` \" + words\n",
    "      printmd(words)"
   ]
  },
  {
   "cell_type": "code",
   "execution_count": null,
   "metadata": {},
   "outputs": [],
   "source": []
  }
 ],
 "metadata": {
  "kernelspec": {
   "display_name": "Python 3",
   "language": "python",
   "name": "python3"
  },
  "language_info": {
   "codemirror_mode": {
    "name": "ipython",
    "version": 3
   },
   "file_extension": ".py",
   "mimetype": "text/x-python",
   "name": "python",
   "nbconvert_exporter": "python",
   "pygments_lexer": "ipython3",
   "version": "3.7.3"
  }
 },
 "nbformat": 4,
 "nbformat_minor": 2
}
